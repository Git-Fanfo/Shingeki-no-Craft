{
 "cells": [
  {
   "cell_type": "code",
   "execution_count": 8,
   "metadata": {},
   "outputs": [],
   "source": [
    "import plotly.graph_objects as go\n",
    "\n",
    "def plot_3d_scatter(points):\n",
    "    \"\"\"\n",
    "    Plots a 3D scatter chart.\n",
    "\n",
    "    :param points: A list of [x, y, z] points to plot.\n",
    "    \"\"\"\n",
    "    # Unpack the x, y, z coordinates using a zip function with a star expression\n",
    "    x, y, z = zip(*points)\n",
    "\n",
    "    # Create the 3D scatter plot\n",
    "    fig = go.Figure(data=[go.Scatter3d(x=x, y=z, z=y,\n",
    "                                       mode='markers',\n",
    "                                       marker=dict(size=10,\n",
    "                                                   opacity=0.6))])  # Opacity for a bit of transparency\n",
    "\n",
    "    # Update plot layout for a better look\n",
    "    fig.update_layout(scene=dict(\n",
    "        xaxis=dict(\n",
    "            title='X Axis',\n",
    "            tickmode='array',\n",
    "            tickvals=list(range(int(min(x)), int(max(x))+1)),  # Generating integer ticks based on the data\n",
    "        ),\n",
    "        yaxis=dict(\n",
    "            title='Z Axis',\n",
    "            tickmode='array',\n",
    "            tickvals=list(range(int(min(z)), int(max(z))+1)),\n",
    "        ),\n",
    "        zaxis=dict(\n",
    "            title='Y Axis',\n",
    "            tickmode='array',\n",
    "            tickvals=list(range(int(min(y)), int(max(y))+1)),\n",
    "        )))\n",
    "\n",
    "    # Show the plot\n",
    "    fig.show()\n",
    "\n",
    "def destroy_and_replace(width, height, shifter, ability):\n",
    "    neg_limit = -width + 1\n",
    "    pos_limit = width - 1\n",
    "    coords = []\n",
    "    \n",
    "    # Top and bottom layers\n",
    "    for x in range(neg_limit, pos_limit + 1):\n",
    "        for z in range(neg_limit, pos_limit + 1):\n",
    "            coords.append([x, 0, z])  # Bottom layer\n",
    "            if height > 1:  # Add top layer only if height more than 1\n",
    "                coords.append([x, height - 1, z])\n",
    "    \n",
    "    # Sides along the x-axis\n",
    "    for y in range(1, height - 1):  # Skipping the top and bottom layers\n",
    "        for z in range(neg_limit, pos_limit + 1):\n",
    "            coords.append([neg_limit, y, z])  # Left side\n",
    "            coords.append([pos_limit, y, z])  # Right side\n",
    "    \n",
    "    # Sides along the z-axis (front and back)\n",
    "    for y in range(1, height - 1):  # Skipping the top and bottom layers again\n",
    "        for x in range(neg_limit + 1, pos_limit):  # Skipping the corners since they're already added\n",
    "            coords.append([x, y, neg_limit])  # Front side\n",
    "            coords.append([x, y, pos_limit])  # Back side\n",
    "\n",
    "    for coord in coords:\n",
    "        if(ability == \"destroy\"):\n",
    "            print(\"execute positioned ^\"+str(coord[0])+\" ^\"+str(coord[1])+\" ^\"+str(coord[2])+\" if block ~ ~ ~ #snc:destroy/nature run function snc:shifters/utility/setblock/destroy {\\\"shifter\\\":\\\"\"+shifter+\"\\\"}\")\n",
    "        elif(ability == \"crops\"):\n",
    "            print(\"$execute positioned ^\"+str(coord[0])+\" ^\"+str(coord[1])+\" ^\"+str(coord[2])+\" if block ~ ~ ~ minecraft:farmland if block ~ ~1 ~ air run function snc:shifters/utility/setblock/plant {\\\"shifter\\\":$(shifter),\\\"crop\\\":$(crop),\\\"seeds\\\":$(seeds)}\")\n",
    "        elif(ability == \"harvest\"):\n",
    "            print(\"execute positioned ^\"+str(coord[0])+\" ^\"+str(coord[1])+\" ^\"+str(coord[2])+\" if block ~ ~ ~ #minecraft:crops run function snc:shifters/utility/setblock/harvest\")\n",
    "        else:\n",
    "            print(\"execute positioned ^\"+str(coord[0])+\" ^\"+str(coord[1])+\" ^\"+str(coord[2])+\" if block ~ ~ ~ #dirt if block ~ ~1 ~ air run function snc:shifters/utility/setblock/farmland\")\n",
    "    return coords"
   ]
  },
  {
   "cell_type": "code",
   "execution_count": 10,
   "metadata": {},
   "outputs": [
    {
     "name": "stdout",
     "output_type": "stream",
     "text": [
      "execute positioned ^-1 ^0 ^-1 if block ~ ~ ~ #snc:destroy/nature run function snc:shifters/utility/setblock/destroy {\"shifter\":\"attack\"}\n",
      "execute positioned ^-1 ^4 ^-1 if block ~ ~ ~ #snc:destroy/nature run function snc:shifters/utility/setblock/destroy {\"shifter\":\"attack\"}\n",
      "execute positioned ^-1 ^0 ^0 if block ~ ~ ~ #snc:destroy/nature run function snc:shifters/utility/setblock/destroy {\"shifter\":\"attack\"}\n",
      "execute positioned ^-1 ^4 ^0 if block ~ ~ ~ #snc:destroy/nature run function snc:shifters/utility/setblock/destroy {\"shifter\":\"attack\"}\n",
      "execute positioned ^-1 ^0 ^1 if block ~ ~ ~ #snc:destroy/nature run function snc:shifters/utility/setblock/destroy {\"shifter\":\"attack\"}\n",
      "execute positioned ^-1 ^4 ^1 if block ~ ~ ~ #snc:destroy/nature run function snc:shifters/utility/setblock/destroy {\"shifter\":\"attack\"}\n",
      "execute positioned ^0 ^0 ^-1 if block ~ ~ ~ #snc:destroy/nature run function snc:shifters/utility/setblock/destroy {\"shifter\":\"attack\"}\n",
      "execute positioned ^0 ^4 ^-1 if block ~ ~ ~ #snc:destroy/nature run function snc:shifters/utility/setblock/destroy {\"shifter\":\"attack\"}\n",
      "execute positioned ^0 ^0 ^0 if block ~ ~ ~ #snc:destroy/nature run function snc:shifters/utility/setblock/destroy {\"shifter\":\"attack\"}\n",
      "execute positioned ^0 ^4 ^0 if block ~ ~ ~ #snc:destroy/nature run function snc:shifters/utility/setblock/destroy {\"shifter\":\"attack\"}\n",
      "execute positioned ^0 ^0 ^1 if block ~ ~ ~ #snc:destroy/nature run function snc:shifters/utility/setblock/destroy {\"shifter\":\"attack\"}\n",
      "execute positioned ^0 ^4 ^1 if block ~ ~ ~ #snc:destroy/nature run function snc:shifters/utility/setblock/destroy {\"shifter\":\"attack\"}\n",
      "execute positioned ^1 ^0 ^-1 if block ~ ~ ~ #snc:destroy/nature run function snc:shifters/utility/setblock/destroy {\"shifter\":\"attack\"}\n",
      "execute positioned ^1 ^4 ^-1 if block ~ ~ ~ #snc:destroy/nature run function snc:shifters/utility/setblock/destroy {\"shifter\":\"attack\"}\n",
      "execute positioned ^1 ^0 ^0 if block ~ ~ ~ #snc:destroy/nature run function snc:shifters/utility/setblock/destroy {\"shifter\":\"attack\"}\n",
      "execute positioned ^1 ^4 ^0 if block ~ ~ ~ #snc:destroy/nature run function snc:shifters/utility/setblock/destroy {\"shifter\":\"attack\"}\n",
      "execute positioned ^1 ^0 ^1 if block ~ ~ ~ #snc:destroy/nature run function snc:shifters/utility/setblock/destroy {\"shifter\":\"attack\"}\n",
      "execute positioned ^1 ^4 ^1 if block ~ ~ ~ #snc:destroy/nature run function snc:shifters/utility/setblock/destroy {\"shifter\":\"attack\"}\n",
      "execute positioned ^-1 ^1 ^-1 if block ~ ~ ~ #snc:destroy/nature run function snc:shifters/utility/setblock/destroy {\"shifter\":\"attack\"}\n",
      "execute positioned ^1 ^1 ^-1 if block ~ ~ ~ #snc:destroy/nature run function snc:shifters/utility/setblock/destroy {\"shifter\":\"attack\"}\n",
      "execute positioned ^-1 ^1 ^0 if block ~ ~ ~ #snc:destroy/nature run function snc:shifters/utility/setblock/destroy {\"shifter\":\"attack\"}\n",
      "execute positioned ^1 ^1 ^0 if block ~ ~ ~ #snc:destroy/nature run function snc:shifters/utility/setblock/destroy {\"shifter\":\"attack\"}\n",
      "execute positioned ^-1 ^1 ^1 if block ~ ~ ~ #snc:destroy/nature run function snc:shifters/utility/setblock/destroy {\"shifter\":\"attack\"}\n",
      "execute positioned ^1 ^1 ^1 if block ~ ~ ~ #snc:destroy/nature run function snc:shifters/utility/setblock/destroy {\"shifter\":\"attack\"}\n",
      "execute positioned ^-1 ^2 ^-1 if block ~ ~ ~ #snc:destroy/nature run function snc:shifters/utility/setblock/destroy {\"shifter\":\"attack\"}\n",
      "execute positioned ^1 ^2 ^-1 if block ~ ~ ~ #snc:destroy/nature run function snc:shifters/utility/setblock/destroy {\"shifter\":\"attack\"}\n",
      "execute positioned ^-1 ^2 ^0 if block ~ ~ ~ #snc:destroy/nature run function snc:shifters/utility/setblock/destroy {\"shifter\":\"attack\"}\n",
      "execute positioned ^1 ^2 ^0 if block ~ ~ ~ #snc:destroy/nature run function snc:shifters/utility/setblock/destroy {\"shifter\":\"attack\"}\n",
      "execute positioned ^-1 ^2 ^1 if block ~ ~ ~ #snc:destroy/nature run function snc:shifters/utility/setblock/destroy {\"shifter\":\"attack\"}\n",
      "execute positioned ^1 ^2 ^1 if block ~ ~ ~ #snc:destroy/nature run function snc:shifters/utility/setblock/destroy {\"shifter\":\"attack\"}\n",
      "execute positioned ^-1 ^3 ^-1 if block ~ ~ ~ #snc:destroy/nature run function snc:shifters/utility/setblock/destroy {\"shifter\":\"attack\"}\n",
      "execute positioned ^1 ^3 ^-1 if block ~ ~ ~ #snc:destroy/nature run function snc:shifters/utility/setblock/destroy {\"shifter\":\"attack\"}\n",
      "execute positioned ^-1 ^3 ^0 if block ~ ~ ~ #snc:destroy/nature run function snc:shifters/utility/setblock/destroy {\"shifter\":\"attack\"}\n",
      "execute positioned ^1 ^3 ^0 if block ~ ~ ~ #snc:destroy/nature run function snc:shifters/utility/setblock/destroy {\"shifter\":\"attack\"}\n",
      "execute positioned ^-1 ^3 ^1 if block ~ ~ ~ #snc:destroy/nature run function snc:shifters/utility/setblock/destroy {\"shifter\":\"attack\"}\n",
      "execute positioned ^1 ^3 ^1 if block ~ ~ ~ #snc:destroy/nature run function snc:shifters/utility/setblock/destroy {\"shifter\":\"attack\"}\n",
      "execute positioned ^0 ^1 ^-1 if block ~ ~ ~ #snc:destroy/nature run function snc:shifters/utility/setblock/destroy {\"shifter\":\"attack\"}\n",
      "execute positioned ^0 ^1 ^1 if block ~ ~ ~ #snc:destroy/nature run function snc:shifters/utility/setblock/destroy {\"shifter\":\"attack\"}\n",
      "execute positioned ^0 ^2 ^-1 if block ~ ~ ~ #snc:destroy/nature run function snc:shifters/utility/setblock/destroy {\"shifter\":\"attack\"}\n",
      "execute positioned ^0 ^2 ^1 if block ~ ~ ~ #snc:destroy/nature run function snc:shifters/utility/setblock/destroy {\"shifter\":\"attack\"}\n",
      "execute positioned ^0 ^3 ^-1 if block ~ ~ ~ #snc:destroy/nature run function snc:shifters/utility/setblock/destroy {\"shifter\":\"attack\"}\n",
      "execute positioned ^0 ^3 ^1 if block ~ ~ ~ #snc:destroy/nature run function snc:shifters/utility/setblock/destroy {\"shifter\":\"attack\"}\n"
     ]
    },
    {
     "data": {
      "application/vnd.plotly.v1+json": {
       "config": {
        "plotlyServerURL": "https://plot.ly"
       },
       "data": [
        {
         "marker": {
          "opacity": 0.6,
          "size": 10
         },
         "mode": "markers",
         "type": "scatter3d",
         "x": [
          -1,
          -1,
          -1,
          -1,
          -1,
          -1,
          0,
          0,
          0,
          0,
          0,
          0,
          1,
          1,
          1,
          1,
          1,
          1,
          -1,
          1,
          -1,
          1,
          -1,
          1,
          -1,
          1,
          -1,
          1,
          -1,
          1,
          -1,
          1,
          -1,
          1,
          -1,
          1,
          0,
          0,
          0,
          0,
          0,
          0
         ],
         "y": [
          -1,
          -1,
          0,
          0,
          1,
          1,
          -1,
          -1,
          0,
          0,
          1,
          1,
          -1,
          -1,
          0,
          0,
          1,
          1,
          -1,
          -1,
          0,
          0,
          1,
          1,
          -1,
          -1,
          0,
          0,
          1,
          1,
          -1,
          -1,
          0,
          0,
          1,
          1,
          -1,
          1,
          -1,
          1,
          -1,
          1
         ],
         "z": [
          0,
          4,
          0,
          4,
          0,
          4,
          0,
          4,
          0,
          4,
          0,
          4,
          0,
          4,
          0,
          4,
          0,
          4,
          1,
          1,
          1,
          1,
          1,
          1,
          2,
          2,
          2,
          2,
          2,
          2,
          3,
          3,
          3,
          3,
          3,
          3,
          1,
          1,
          2,
          2,
          3,
          3
         ]
        }
       ],
       "layout": {
        "scene": {
         "xaxis": {
          "tickmode": "array",
          "tickvals": [
           -1,
           0,
           1
          ],
          "title": {
           "text": "X Axis"
          }
         },
         "yaxis": {
          "tickmode": "array",
          "tickvals": [
           -1,
           0,
           1
          ],
          "title": {
           "text": "Z Axis"
          }
         },
         "zaxis": {
          "tickmode": "array",
          "tickvals": [
           0,
           1,
           2,
           3,
           4
          ],
          "title": {
           "text": "Y Axis"
          }
         }
        },
        "template": {
         "data": {
          "bar": [
           {
            "error_x": {
             "color": "#2a3f5f"
            },
            "error_y": {
             "color": "#2a3f5f"
            },
            "marker": {
             "line": {
              "color": "#E5ECF6",
              "width": 0.5
             },
             "pattern": {
              "fillmode": "overlay",
              "size": 10,
              "solidity": 0.2
             }
            },
            "type": "bar"
           }
          ],
          "barpolar": [
           {
            "marker": {
             "line": {
              "color": "#E5ECF6",
              "width": 0.5
             },
             "pattern": {
              "fillmode": "overlay",
              "size": 10,
              "solidity": 0.2
             }
            },
            "type": "barpolar"
           }
          ],
          "carpet": [
           {
            "aaxis": {
             "endlinecolor": "#2a3f5f",
             "gridcolor": "white",
             "linecolor": "white",
             "minorgridcolor": "white",
             "startlinecolor": "#2a3f5f"
            },
            "baxis": {
             "endlinecolor": "#2a3f5f",
             "gridcolor": "white",
             "linecolor": "white",
             "minorgridcolor": "white",
             "startlinecolor": "#2a3f5f"
            },
            "type": "carpet"
           }
          ],
          "choropleth": [
           {
            "colorbar": {
             "outlinewidth": 0,
             "ticks": ""
            },
            "type": "choropleth"
           }
          ],
          "contour": [
           {
            "colorbar": {
             "outlinewidth": 0,
             "ticks": ""
            },
            "colorscale": [
             [
              0,
              "#0d0887"
             ],
             [
              0.1111111111111111,
              "#46039f"
             ],
             [
              0.2222222222222222,
              "#7201a8"
             ],
             [
              0.3333333333333333,
              "#9c179e"
             ],
             [
              0.4444444444444444,
              "#bd3786"
             ],
             [
              0.5555555555555556,
              "#d8576b"
             ],
             [
              0.6666666666666666,
              "#ed7953"
             ],
             [
              0.7777777777777778,
              "#fb9f3a"
             ],
             [
              0.8888888888888888,
              "#fdca26"
             ],
             [
              1,
              "#f0f921"
             ]
            ],
            "type": "contour"
           }
          ],
          "contourcarpet": [
           {
            "colorbar": {
             "outlinewidth": 0,
             "ticks": ""
            },
            "type": "contourcarpet"
           }
          ],
          "heatmap": [
           {
            "colorbar": {
             "outlinewidth": 0,
             "ticks": ""
            },
            "colorscale": [
             [
              0,
              "#0d0887"
             ],
             [
              0.1111111111111111,
              "#46039f"
             ],
             [
              0.2222222222222222,
              "#7201a8"
             ],
             [
              0.3333333333333333,
              "#9c179e"
             ],
             [
              0.4444444444444444,
              "#bd3786"
             ],
             [
              0.5555555555555556,
              "#d8576b"
             ],
             [
              0.6666666666666666,
              "#ed7953"
             ],
             [
              0.7777777777777778,
              "#fb9f3a"
             ],
             [
              0.8888888888888888,
              "#fdca26"
             ],
             [
              1,
              "#f0f921"
             ]
            ],
            "type": "heatmap"
           }
          ],
          "heatmapgl": [
           {
            "colorbar": {
             "outlinewidth": 0,
             "ticks": ""
            },
            "colorscale": [
             [
              0,
              "#0d0887"
             ],
             [
              0.1111111111111111,
              "#46039f"
             ],
             [
              0.2222222222222222,
              "#7201a8"
             ],
             [
              0.3333333333333333,
              "#9c179e"
             ],
             [
              0.4444444444444444,
              "#bd3786"
             ],
             [
              0.5555555555555556,
              "#d8576b"
             ],
             [
              0.6666666666666666,
              "#ed7953"
             ],
             [
              0.7777777777777778,
              "#fb9f3a"
             ],
             [
              0.8888888888888888,
              "#fdca26"
             ],
             [
              1,
              "#f0f921"
             ]
            ],
            "type": "heatmapgl"
           }
          ],
          "histogram": [
           {
            "marker": {
             "pattern": {
              "fillmode": "overlay",
              "size": 10,
              "solidity": 0.2
             }
            },
            "type": "histogram"
           }
          ],
          "histogram2d": [
           {
            "colorbar": {
             "outlinewidth": 0,
             "ticks": ""
            },
            "colorscale": [
             [
              0,
              "#0d0887"
             ],
             [
              0.1111111111111111,
              "#46039f"
             ],
             [
              0.2222222222222222,
              "#7201a8"
             ],
             [
              0.3333333333333333,
              "#9c179e"
             ],
             [
              0.4444444444444444,
              "#bd3786"
             ],
             [
              0.5555555555555556,
              "#d8576b"
             ],
             [
              0.6666666666666666,
              "#ed7953"
             ],
             [
              0.7777777777777778,
              "#fb9f3a"
             ],
             [
              0.8888888888888888,
              "#fdca26"
             ],
             [
              1,
              "#f0f921"
             ]
            ],
            "type": "histogram2d"
           }
          ],
          "histogram2dcontour": [
           {
            "colorbar": {
             "outlinewidth": 0,
             "ticks": ""
            },
            "colorscale": [
             [
              0,
              "#0d0887"
             ],
             [
              0.1111111111111111,
              "#46039f"
             ],
             [
              0.2222222222222222,
              "#7201a8"
             ],
             [
              0.3333333333333333,
              "#9c179e"
             ],
             [
              0.4444444444444444,
              "#bd3786"
             ],
             [
              0.5555555555555556,
              "#d8576b"
             ],
             [
              0.6666666666666666,
              "#ed7953"
             ],
             [
              0.7777777777777778,
              "#fb9f3a"
             ],
             [
              0.8888888888888888,
              "#fdca26"
             ],
             [
              1,
              "#f0f921"
             ]
            ],
            "type": "histogram2dcontour"
           }
          ],
          "mesh3d": [
           {
            "colorbar": {
             "outlinewidth": 0,
             "ticks": ""
            },
            "type": "mesh3d"
           }
          ],
          "parcoords": [
           {
            "line": {
             "colorbar": {
              "outlinewidth": 0,
              "ticks": ""
             }
            },
            "type": "parcoords"
           }
          ],
          "pie": [
           {
            "automargin": true,
            "type": "pie"
           }
          ],
          "scatter": [
           {
            "fillpattern": {
             "fillmode": "overlay",
             "size": 10,
             "solidity": 0.2
            },
            "type": "scatter"
           }
          ],
          "scatter3d": [
           {
            "line": {
             "colorbar": {
              "outlinewidth": 0,
              "ticks": ""
             }
            },
            "marker": {
             "colorbar": {
              "outlinewidth": 0,
              "ticks": ""
             }
            },
            "type": "scatter3d"
           }
          ],
          "scattercarpet": [
           {
            "marker": {
             "colorbar": {
              "outlinewidth": 0,
              "ticks": ""
             }
            },
            "type": "scattercarpet"
           }
          ],
          "scattergeo": [
           {
            "marker": {
             "colorbar": {
              "outlinewidth": 0,
              "ticks": ""
             }
            },
            "type": "scattergeo"
           }
          ],
          "scattergl": [
           {
            "marker": {
             "colorbar": {
              "outlinewidth": 0,
              "ticks": ""
             }
            },
            "type": "scattergl"
           }
          ],
          "scattermapbox": [
           {
            "marker": {
             "colorbar": {
              "outlinewidth": 0,
              "ticks": ""
             }
            },
            "type": "scattermapbox"
           }
          ],
          "scatterpolar": [
           {
            "marker": {
             "colorbar": {
              "outlinewidth": 0,
              "ticks": ""
             }
            },
            "type": "scatterpolar"
           }
          ],
          "scatterpolargl": [
           {
            "marker": {
             "colorbar": {
              "outlinewidth": 0,
              "ticks": ""
             }
            },
            "type": "scatterpolargl"
           }
          ],
          "scatterternary": [
           {
            "marker": {
             "colorbar": {
              "outlinewidth": 0,
              "ticks": ""
             }
            },
            "type": "scatterternary"
           }
          ],
          "surface": [
           {
            "colorbar": {
             "outlinewidth": 0,
             "ticks": ""
            },
            "colorscale": [
             [
              0,
              "#0d0887"
             ],
             [
              0.1111111111111111,
              "#46039f"
             ],
             [
              0.2222222222222222,
              "#7201a8"
             ],
             [
              0.3333333333333333,
              "#9c179e"
             ],
             [
              0.4444444444444444,
              "#bd3786"
             ],
             [
              0.5555555555555556,
              "#d8576b"
             ],
             [
              0.6666666666666666,
              "#ed7953"
             ],
             [
              0.7777777777777778,
              "#fb9f3a"
             ],
             [
              0.8888888888888888,
              "#fdca26"
             ],
             [
              1,
              "#f0f921"
             ]
            ],
            "type": "surface"
           }
          ],
          "table": [
           {
            "cells": {
             "fill": {
              "color": "#EBF0F8"
             },
             "line": {
              "color": "white"
             }
            },
            "header": {
             "fill": {
              "color": "#C8D4E3"
             },
             "line": {
              "color": "white"
             }
            },
            "type": "table"
           }
          ]
         },
         "layout": {
          "annotationdefaults": {
           "arrowcolor": "#2a3f5f",
           "arrowhead": 0,
           "arrowwidth": 1
          },
          "autotypenumbers": "strict",
          "coloraxis": {
           "colorbar": {
            "outlinewidth": 0,
            "ticks": ""
           }
          },
          "colorscale": {
           "diverging": [
            [
             0,
             "#8e0152"
            ],
            [
             0.1,
             "#c51b7d"
            ],
            [
             0.2,
             "#de77ae"
            ],
            [
             0.3,
             "#f1b6da"
            ],
            [
             0.4,
             "#fde0ef"
            ],
            [
             0.5,
             "#f7f7f7"
            ],
            [
             0.6,
             "#e6f5d0"
            ],
            [
             0.7,
             "#b8e186"
            ],
            [
             0.8,
             "#7fbc41"
            ],
            [
             0.9,
             "#4d9221"
            ],
            [
             1,
             "#276419"
            ]
           ],
           "sequential": [
            [
             0,
             "#0d0887"
            ],
            [
             0.1111111111111111,
             "#46039f"
            ],
            [
             0.2222222222222222,
             "#7201a8"
            ],
            [
             0.3333333333333333,
             "#9c179e"
            ],
            [
             0.4444444444444444,
             "#bd3786"
            ],
            [
             0.5555555555555556,
             "#d8576b"
            ],
            [
             0.6666666666666666,
             "#ed7953"
            ],
            [
             0.7777777777777778,
             "#fb9f3a"
            ],
            [
             0.8888888888888888,
             "#fdca26"
            ],
            [
             1,
             "#f0f921"
            ]
           ],
           "sequentialminus": [
            [
             0,
             "#0d0887"
            ],
            [
             0.1111111111111111,
             "#46039f"
            ],
            [
             0.2222222222222222,
             "#7201a8"
            ],
            [
             0.3333333333333333,
             "#9c179e"
            ],
            [
             0.4444444444444444,
             "#bd3786"
            ],
            [
             0.5555555555555556,
             "#d8576b"
            ],
            [
             0.6666666666666666,
             "#ed7953"
            ],
            [
             0.7777777777777778,
             "#fb9f3a"
            ],
            [
             0.8888888888888888,
             "#fdca26"
            ],
            [
             1,
             "#f0f921"
            ]
           ]
          },
          "colorway": [
           "#636efa",
           "#EF553B",
           "#00cc96",
           "#ab63fa",
           "#FFA15A",
           "#19d3f3",
           "#FF6692",
           "#B6E880",
           "#FF97FF",
           "#FECB52"
          ],
          "font": {
           "color": "#2a3f5f"
          },
          "geo": {
           "bgcolor": "white",
           "lakecolor": "white",
           "landcolor": "#E5ECF6",
           "showlakes": true,
           "showland": true,
           "subunitcolor": "white"
          },
          "hoverlabel": {
           "align": "left"
          },
          "hovermode": "closest",
          "mapbox": {
           "style": "light"
          },
          "paper_bgcolor": "white",
          "plot_bgcolor": "#E5ECF6",
          "polar": {
           "angularaxis": {
            "gridcolor": "white",
            "linecolor": "white",
            "ticks": ""
           },
           "bgcolor": "#E5ECF6",
           "radialaxis": {
            "gridcolor": "white",
            "linecolor": "white",
            "ticks": ""
           }
          },
          "scene": {
           "xaxis": {
            "backgroundcolor": "#E5ECF6",
            "gridcolor": "white",
            "gridwidth": 2,
            "linecolor": "white",
            "showbackground": true,
            "ticks": "",
            "zerolinecolor": "white"
           },
           "yaxis": {
            "backgroundcolor": "#E5ECF6",
            "gridcolor": "white",
            "gridwidth": 2,
            "linecolor": "white",
            "showbackground": true,
            "ticks": "",
            "zerolinecolor": "white"
           },
           "zaxis": {
            "backgroundcolor": "#E5ECF6",
            "gridcolor": "white",
            "gridwidth": 2,
            "linecolor": "white",
            "showbackground": true,
            "ticks": "",
            "zerolinecolor": "white"
           }
          },
          "shapedefaults": {
           "line": {
            "color": "#2a3f5f"
           }
          },
          "ternary": {
           "aaxis": {
            "gridcolor": "white",
            "linecolor": "white",
            "ticks": ""
           },
           "baxis": {
            "gridcolor": "white",
            "linecolor": "white",
            "ticks": ""
           },
           "bgcolor": "#E5ECF6",
           "caxis": {
            "gridcolor": "white",
            "linecolor": "white",
            "ticks": ""
           }
          },
          "title": {
           "x": 0.05
          },
          "xaxis": {
           "automargin": true,
           "gridcolor": "white",
           "linecolor": "white",
           "ticks": "",
           "title": {
            "standoff": 15
           },
           "zerolinecolor": "white",
           "zerolinewidth": 2
          },
          "yaxis": {
           "automargin": true,
           "gridcolor": "white",
           "linecolor": "white",
           "ticks": "",
           "title": {
            "standoff": 15
           },
           "zerolinecolor": "white",
           "zerolinewidth": 2
          }
         }
        }
       }
      }
     },
     "metadata": {},
     "output_type": "display_data"
    }
   ],
   "source": [
    "# Pure\n",
    "plot_3d_scatter(destroy_and_replace(2,5,\"attack\",\"destroy\"))"
   ]
  },
  {
   "cell_type": "code",
   "execution_count": 3,
   "metadata": {},
   "outputs": [
    {
     "name": "stdout",
     "output_type": "stream",
     "text": [
      "execute positioned ^-5 ^0 ^-5 if block ~ ~ ~ #snc:destroy/nature run function snc:shifters/utility/setblock/destroy {\"shifter\":\"attack\"}\n",
      "execute positioned ^-5 ^5 ^-5 if block ~ ~ ~ #snc:destroy/nature run function snc:shifters/utility/setblock/destroy {\"shifter\":\"attack\"}\n",
      "execute positioned ^-5 ^0 ^-4 if block ~ ~ ~ #snc:destroy/nature run function snc:shifters/utility/setblock/destroy {\"shifter\":\"attack\"}\n",
      "execute positioned ^-5 ^5 ^-4 if block ~ ~ ~ #snc:destroy/nature run function snc:shifters/utility/setblock/destroy {\"shifter\":\"attack\"}\n",
      "execute positioned ^-5 ^0 ^-3 if block ~ ~ ~ #snc:destroy/nature run function snc:shifters/utility/setblock/destroy {\"shifter\":\"attack\"}\n",
      "execute positioned ^-5 ^5 ^-3 if block ~ ~ ~ #snc:destroy/nature run function snc:shifters/utility/setblock/destroy {\"shifter\":\"attack\"}\n",
      "execute positioned ^-5 ^0 ^-2 if block ~ ~ ~ #snc:destroy/nature run function snc:shifters/utility/setblock/destroy {\"shifter\":\"attack\"}\n",
      "execute positioned ^-5 ^5 ^-2 if block ~ ~ ~ #snc:destroy/nature run function snc:shifters/utility/setblock/destroy {\"shifter\":\"attack\"}\n",
      "execute positioned ^-5 ^0 ^-1 if block ~ ~ ~ #snc:destroy/nature run function snc:shifters/utility/setblock/destroy {\"shifter\":\"attack\"}\n",
      "execute positioned ^-5 ^5 ^-1 if block ~ ~ ~ #snc:destroy/nature run function snc:shifters/utility/setblock/destroy {\"shifter\":\"attack\"}\n",
      "execute positioned ^-5 ^0 ^0 if block ~ ~ ~ #snc:destroy/nature run function snc:shifters/utility/setblock/destroy {\"shifter\":\"attack\"}\n",
      "execute positioned ^-5 ^5 ^0 if block ~ ~ ~ #snc:destroy/nature run function snc:shifters/utility/setblock/destroy {\"shifter\":\"attack\"}\n",
      "execute positioned ^-5 ^0 ^1 if block ~ ~ ~ #snc:destroy/nature run function snc:shifters/utility/setblock/destroy {\"shifter\":\"attack\"}\n",
      "execute positioned ^-5 ^5 ^1 if block ~ ~ ~ #snc:destroy/nature run function snc:shifters/utility/setblock/destroy {\"shifter\":\"attack\"}\n",
      "execute positioned ^-5 ^0 ^2 if block ~ ~ ~ #snc:destroy/nature run function snc:shifters/utility/setblock/destroy {\"shifter\":\"attack\"}\n",
      "execute positioned ^-5 ^5 ^2 if block ~ ~ ~ #snc:destroy/nature run function snc:shifters/utility/setblock/destroy {\"shifter\":\"attack\"}\n",
      "execute positioned ^-5 ^0 ^3 if block ~ ~ ~ #snc:destroy/nature run function snc:shifters/utility/setblock/destroy {\"shifter\":\"attack\"}\n",
      "execute positioned ^-5 ^5 ^3 if block ~ ~ ~ #snc:destroy/nature run function snc:shifters/utility/setblock/destroy {\"shifter\":\"attack\"}\n",
      "execute positioned ^-5 ^0 ^4 if block ~ ~ ~ #snc:destroy/nature run function snc:shifters/utility/setblock/destroy {\"shifter\":\"attack\"}\n",
      "execute positioned ^-5 ^5 ^4 if block ~ ~ ~ #snc:destroy/nature run function snc:shifters/utility/setblock/destroy {\"shifter\":\"attack\"}\n",
      "execute positioned ^-5 ^0 ^5 if block ~ ~ ~ #snc:destroy/nature run function snc:shifters/utility/setblock/destroy {\"shifter\":\"attack\"}\n",
      "execute positioned ^-5 ^5 ^5 if block ~ ~ ~ #snc:destroy/nature run function snc:shifters/utility/setblock/destroy {\"shifter\":\"attack\"}\n",
      "execute positioned ^-4 ^0 ^-5 if block ~ ~ ~ #snc:destroy/nature run function snc:shifters/utility/setblock/destroy {\"shifter\":\"attack\"}\n",
      "execute positioned ^-4 ^5 ^-5 if block ~ ~ ~ #snc:destroy/nature run function snc:shifters/utility/setblock/destroy {\"shifter\":\"attack\"}\n",
      "execute positioned ^-4 ^0 ^-4 if block ~ ~ ~ #snc:destroy/nature run function snc:shifters/utility/setblock/destroy {\"shifter\":\"attack\"}\n",
      "execute positioned ^-4 ^5 ^-4 if block ~ ~ ~ #snc:destroy/nature run function snc:shifters/utility/setblock/destroy {\"shifter\":\"attack\"}\n",
      "execute positioned ^-4 ^0 ^-3 if block ~ ~ ~ #snc:destroy/nature run function snc:shifters/utility/setblock/destroy {\"shifter\":\"attack\"}\n",
      "execute positioned ^-4 ^5 ^-3 if block ~ ~ ~ #snc:destroy/nature run function snc:shifters/utility/setblock/destroy {\"shifter\":\"attack\"}\n",
      "execute positioned ^-4 ^0 ^-2 if block ~ ~ ~ #snc:destroy/nature run function snc:shifters/utility/setblock/destroy {\"shifter\":\"attack\"}\n",
      "execute positioned ^-4 ^5 ^-2 if block ~ ~ ~ #snc:destroy/nature run function snc:shifters/utility/setblock/destroy {\"shifter\":\"attack\"}\n",
      "execute positioned ^-4 ^0 ^-1 if block ~ ~ ~ #snc:destroy/nature run function snc:shifters/utility/setblock/destroy {\"shifter\":\"attack\"}\n",
      "execute positioned ^-4 ^5 ^-1 if block ~ ~ ~ #snc:destroy/nature run function snc:shifters/utility/setblock/destroy {\"shifter\":\"attack\"}\n",
      "execute positioned ^-4 ^0 ^0 if block ~ ~ ~ #snc:destroy/nature run function snc:shifters/utility/setblock/destroy {\"shifter\":\"attack\"}\n",
      "execute positioned ^-4 ^5 ^0 if block ~ ~ ~ #snc:destroy/nature run function snc:shifters/utility/setblock/destroy {\"shifter\":\"attack\"}\n",
      "execute positioned ^-4 ^0 ^1 if block ~ ~ ~ #snc:destroy/nature run function snc:shifters/utility/setblock/destroy {\"shifter\":\"attack\"}\n",
      "execute positioned ^-4 ^5 ^1 if block ~ ~ ~ #snc:destroy/nature run function snc:shifters/utility/setblock/destroy {\"shifter\":\"attack\"}\n",
      "execute positioned ^-4 ^0 ^2 if block ~ ~ ~ #snc:destroy/nature run function snc:shifters/utility/setblock/destroy {\"shifter\":\"attack\"}\n",
      "execute positioned ^-4 ^5 ^2 if block ~ ~ ~ #snc:destroy/nature run function snc:shifters/utility/setblock/destroy {\"shifter\":\"attack\"}\n",
      "execute positioned ^-4 ^0 ^3 if block ~ ~ ~ #snc:destroy/nature run function snc:shifters/utility/setblock/destroy {\"shifter\":\"attack\"}\n",
      "execute positioned ^-4 ^5 ^3 if block ~ ~ ~ #snc:destroy/nature run function snc:shifters/utility/setblock/destroy {\"shifter\":\"attack\"}\n",
      "execute positioned ^-4 ^0 ^4 if block ~ ~ ~ #snc:destroy/nature run function snc:shifters/utility/setblock/destroy {\"shifter\":\"attack\"}\n",
      "execute positioned ^-4 ^5 ^4 if block ~ ~ ~ #snc:destroy/nature run function snc:shifters/utility/setblock/destroy {\"shifter\":\"attack\"}\n",
      "execute positioned ^-4 ^0 ^5 if block ~ ~ ~ #snc:destroy/nature run function snc:shifters/utility/setblock/destroy {\"shifter\":\"attack\"}\n",
      "execute positioned ^-4 ^5 ^5 if block ~ ~ ~ #snc:destroy/nature run function snc:shifters/utility/setblock/destroy {\"shifter\":\"attack\"}\n",
      "execute positioned ^-3 ^0 ^-5 if block ~ ~ ~ #snc:destroy/nature run function snc:shifters/utility/setblock/destroy {\"shifter\":\"attack\"}\n",
      "execute positioned ^-3 ^5 ^-5 if block ~ ~ ~ #snc:destroy/nature run function snc:shifters/utility/setblock/destroy {\"shifter\":\"attack\"}\n",
      "execute positioned ^-3 ^0 ^-4 if block ~ ~ ~ #snc:destroy/nature run function snc:shifters/utility/setblock/destroy {\"shifter\":\"attack\"}\n",
      "execute positioned ^-3 ^5 ^-4 if block ~ ~ ~ #snc:destroy/nature run function snc:shifters/utility/setblock/destroy {\"shifter\":\"attack\"}\n",
      "execute positioned ^-3 ^0 ^-3 if block ~ ~ ~ #snc:destroy/nature run function snc:shifters/utility/setblock/destroy {\"shifter\":\"attack\"}\n",
      "execute positioned ^-3 ^5 ^-3 if block ~ ~ ~ #snc:destroy/nature run function snc:shifters/utility/setblock/destroy {\"shifter\":\"attack\"}\n",
      "execute positioned ^-3 ^0 ^-2 if block ~ ~ ~ #snc:destroy/nature run function snc:shifters/utility/setblock/destroy {\"shifter\":\"attack\"}\n",
      "execute positioned ^-3 ^5 ^-2 if block ~ ~ ~ #snc:destroy/nature run function snc:shifters/utility/setblock/destroy {\"shifter\":\"attack\"}\n",
      "execute positioned ^-3 ^0 ^-1 if block ~ ~ ~ #snc:destroy/nature run function snc:shifters/utility/setblock/destroy {\"shifter\":\"attack\"}\n",
      "execute positioned ^-3 ^5 ^-1 if block ~ ~ ~ #snc:destroy/nature run function snc:shifters/utility/setblock/destroy {\"shifter\":\"attack\"}\n",
      "execute positioned ^-3 ^0 ^0 if block ~ ~ ~ #snc:destroy/nature run function snc:shifters/utility/setblock/destroy {\"shifter\":\"attack\"}\n",
      "execute positioned ^-3 ^5 ^0 if block ~ ~ ~ #snc:destroy/nature run function snc:shifters/utility/setblock/destroy {\"shifter\":\"attack\"}\n",
      "execute positioned ^-3 ^0 ^1 if block ~ ~ ~ #snc:destroy/nature run function snc:shifters/utility/setblock/destroy {\"shifter\":\"attack\"}\n",
      "execute positioned ^-3 ^5 ^1 if block ~ ~ ~ #snc:destroy/nature run function snc:shifters/utility/setblock/destroy {\"shifter\":\"attack\"}\n",
      "execute positioned ^-3 ^0 ^2 if block ~ ~ ~ #snc:destroy/nature run function snc:shifters/utility/setblock/destroy {\"shifter\":\"attack\"}\n",
      "execute positioned ^-3 ^5 ^2 if block ~ ~ ~ #snc:destroy/nature run function snc:shifters/utility/setblock/destroy {\"shifter\":\"attack\"}\n",
      "execute positioned ^-3 ^0 ^3 if block ~ ~ ~ #snc:destroy/nature run function snc:shifters/utility/setblock/destroy {\"shifter\":\"attack\"}\n",
      "execute positioned ^-3 ^5 ^3 if block ~ ~ ~ #snc:destroy/nature run function snc:shifters/utility/setblock/destroy {\"shifter\":\"attack\"}\n",
      "execute positioned ^-3 ^0 ^4 if block ~ ~ ~ #snc:destroy/nature run function snc:shifters/utility/setblock/destroy {\"shifter\":\"attack\"}\n",
      "execute positioned ^-3 ^5 ^4 if block ~ ~ ~ #snc:destroy/nature run function snc:shifters/utility/setblock/destroy {\"shifter\":\"attack\"}\n",
      "execute positioned ^-3 ^0 ^5 if block ~ ~ ~ #snc:destroy/nature run function snc:shifters/utility/setblock/destroy {\"shifter\":\"attack\"}\n",
      "execute positioned ^-3 ^5 ^5 if block ~ ~ ~ #snc:destroy/nature run function snc:shifters/utility/setblock/destroy {\"shifter\":\"attack\"}\n",
      "execute positioned ^-2 ^0 ^-5 if block ~ ~ ~ #snc:destroy/nature run function snc:shifters/utility/setblock/destroy {\"shifter\":\"attack\"}\n",
      "execute positioned ^-2 ^5 ^-5 if block ~ ~ ~ #snc:destroy/nature run function snc:shifters/utility/setblock/destroy {\"shifter\":\"attack\"}\n",
      "execute positioned ^-2 ^0 ^-4 if block ~ ~ ~ #snc:destroy/nature run function snc:shifters/utility/setblock/destroy {\"shifter\":\"attack\"}\n",
      "execute positioned ^-2 ^5 ^-4 if block ~ ~ ~ #snc:destroy/nature run function snc:shifters/utility/setblock/destroy {\"shifter\":\"attack\"}\n",
      "execute positioned ^-2 ^0 ^-3 if block ~ ~ ~ #snc:destroy/nature run function snc:shifters/utility/setblock/destroy {\"shifter\":\"attack\"}\n",
      "execute positioned ^-2 ^5 ^-3 if block ~ ~ ~ #snc:destroy/nature run function snc:shifters/utility/setblock/destroy {\"shifter\":\"attack\"}\n",
      "execute positioned ^-2 ^0 ^-2 if block ~ ~ ~ #snc:destroy/nature run function snc:shifters/utility/setblock/destroy {\"shifter\":\"attack\"}\n",
      "execute positioned ^-2 ^5 ^-2 if block ~ ~ ~ #snc:destroy/nature run function snc:shifters/utility/setblock/destroy {\"shifter\":\"attack\"}\n",
      "execute positioned ^-2 ^0 ^-1 if block ~ ~ ~ #snc:destroy/nature run function snc:shifters/utility/setblock/destroy {\"shifter\":\"attack\"}\n",
      "execute positioned ^-2 ^5 ^-1 if block ~ ~ ~ #snc:destroy/nature run function snc:shifters/utility/setblock/destroy {\"shifter\":\"attack\"}\n",
      "execute positioned ^-2 ^0 ^0 if block ~ ~ ~ #snc:destroy/nature run function snc:shifters/utility/setblock/destroy {\"shifter\":\"attack\"}\n",
      "execute positioned ^-2 ^5 ^0 if block ~ ~ ~ #snc:destroy/nature run function snc:shifters/utility/setblock/destroy {\"shifter\":\"attack\"}\n",
      "execute positioned ^-2 ^0 ^1 if block ~ ~ ~ #snc:destroy/nature run function snc:shifters/utility/setblock/destroy {\"shifter\":\"attack\"}\n",
      "execute positioned ^-2 ^5 ^1 if block ~ ~ ~ #snc:destroy/nature run function snc:shifters/utility/setblock/destroy {\"shifter\":\"attack\"}\n",
      "execute positioned ^-2 ^0 ^2 if block ~ ~ ~ #snc:destroy/nature run function snc:shifters/utility/setblock/destroy {\"shifter\":\"attack\"}\n",
      "execute positioned ^-2 ^5 ^2 if block ~ ~ ~ #snc:destroy/nature run function snc:shifters/utility/setblock/destroy {\"shifter\":\"attack\"}\n",
      "execute positioned ^-2 ^0 ^3 if block ~ ~ ~ #snc:destroy/nature run function snc:shifters/utility/setblock/destroy {\"shifter\":\"attack\"}\n",
      "execute positioned ^-2 ^5 ^3 if block ~ ~ ~ #snc:destroy/nature run function snc:shifters/utility/setblock/destroy {\"shifter\":\"attack\"}\n",
      "execute positioned ^-2 ^0 ^4 if block ~ ~ ~ #snc:destroy/nature run function snc:shifters/utility/setblock/destroy {\"shifter\":\"attack\"}\n",
      "execute positioned ^-2 ^5 ^4 if block ~ ~ ~ #snc:destroy/nature run function snc:shifters/utility/setblock/destroy {\"shifter\":\"attack\"}\n",
      "execute positioned ^-2 ^0 ^5 if block ~ ~ ~ #snc:destroy/nature run function snc:shifters/utility/setblock/destroy {\"shifter\":\"attack\"}\n",
      "execute positioned ^-2 ^5 ^5 if block ~ ~ ~ #snc:destroy/nature run function snc:shifters/utility/setblock/destroy {\"shifter\":\"attack\"}\n",
      "execute positioned ^-1 ^0 ^-5 if block ~ ~ ~ #snc:destroy/nature run function snc:shifters/utility/setblock/destroy {\"shifter\":\"attack\"}\n",
      "execute positioned ^-1 ^5 ^-5 if block ~ ~ ~ #snc:destroy/nature run function snc:shifters/utility/setblock/destroy {\"shifter\":\"attack\"}\n",
      "execute positioned ^-1 ^0 ^-4 if block ~ ~ ~ #snc:destroy/nature run function snc:shifters/utility/setblock/destroy {\"shifter\":\"attack\"}\n",
      "execute positioned ^-1 ^5 ^-4 if block ~ ~ ~ #snc:destroy/nature run function snc:shifters/utility/setblock/destroy {\"shifter\":\"attack\"}\n",
      "execute positioned ^-1 ^0 ^-3 if block ~ ~ ~ #snc:destroy/nature run function snc:shifters/utility/setblock/destroy {\"shifter\":\"attack\"}\n",
      "execute positioned ^-1 ^5 ^-3 if block ~ ~ ~ #snc:destroy/nature run function snc:shifters/utility/setblock/destroy {\"shifter\":\"attack\"}\n",
      "execute positioned ^-1 ^0 ^-2 if block ~ ~ ~ #snc:destroy/nature run function snc:shifters/utility/setblock/destroy {\"shifter\":\"attack\"}\n",
      "execute positioned ^-1 ^5 ^-2 if block ~ ~ ~ #snc:destroy/nature run function snc:shifters/utility/setblock/destroy {\"shifter\":\"attack\"}\n",
      "execute positioned ^-1 ^0 ^-1 if block ~ ~ ~ #snc:destroy/nature run function snc:shifters/utility/setblock/destroy {\"shifter\":\"attack\"}\n",
      "execute positioned ^-1 ^5 ^-1 if block ~ ~ ~ #snc:destroy/nature run function snc:shifters/utility/setblock/destroy {\"shifter\":\"attack\"}\n",
      "execute positioned ^-1 ^0 ^0 if block ~ ~ ~ #snc:destroy/nature run function snc:shifters/utility/setblock/destroy {\"shifter\":\"attack\"}\n",
      "execute positioned ^-1 ^5 ^0 if block ~ ~ ~ #snc:destroy/nature run function snc:shifters/utility/setblock/destroy {\"shifter\":\"attack\"}\n",
      "execute positioned ^-1 ^0 ^1 if block ~ ~ ~ #snc:destroy/nature run function snc:shifters/utility/setblock/destroy {\"shifter\":\"attack\"}\n",
      "execute positioned ^-1 ^5 ^1 if block ~ ~ ~ #snc:destroy/nature run function snc:shifters/utility/setblock/destroy {\"shifter\":\"attack\"}\n",
      "execute positioned ^-1 ^0 ^2 if block ~ ~ ~ #snc:destroy/nature run function snc:shifters/utility/setblock/destroy {\"shifter\":\"attack\"}\n",
      "execute positioned ^-1 ^5 ^2 if block ~ ~ ~ #snc:destroy/nature run function snc:shifters/utility/setblock/destroy {\"shifter\":\"attack\"}\n",
      "execute positioned ^-1 ^0 ^3 if block ~ ~ ~ #snc:destroy/nature run function snc:shifters/utility/setblock/destroy {\"shifter\":\"attack\"}\n",
      "execute positioned ^-1 ^5 ^3 if block ~ ~ ~ #snc:destroy/nature run function snc:shifters/utility/setblock/destroy {\"shifter\":\"attack\"}\n",
      "execute positioned ^-1 ^0 ^4 if block ~ ~ ~ #snc:destroy/nature run function snc:shifters/utility/setblock/destroy {\"shifter\":\"attack\"}\n",
      "execute positioned ^-1 ^5 ^4 if block ~ ~ ~ #snc:destroy/nature run function snc:shifters/utility/setblock/destroy {\"shifter\":\"attack\"}\n",
      "execute positioned ^-1 ^0 ^5 if block ~ ~ ~ #snc:destroy/nature run function snc:shifters/utility/setblock/destroy {\"shifter\":\"attack\"}\n",
      "execute positioned ^-1 ^5 ^5 if block ~ ~ ~ #snc:destroy/nature run function snc:shifters/utility/setblock/destroy {\"shifter\":\"attack\"}\n",
      "execute positioned ^0 ^0 ^-5 if block ~ ~ ~ #snc:destroy/nature run function snc:shifters/utility/setblock/destroy {\"shifter\":\"attack\"}\n",
      "execute positioned ^0 ^5 ^-5 if block ~ ~ ~ #snc:destroy/nature run function snc:shifters/utility/setblock/destroy {\"shifter\":\"attack\"}\n",
      "execute positioned ^0 ^0 ^-4 if block ~ ~ ~ #snc:destroy/nature run function snc:shifters/utility/setblock/destroy {\"shifter\":\"attack\"}\n",
      "execute positioned ^0 ^5 ^-4 if block ~ ~ ~ #snc:destroy/nature run function snc:shifters/utility/setblock/destroy {\"shifter\":\"attack\"}\n",
      "execute positioned ^0 ^0 ^-3 if block ~ ~ ~ #snc:destroy/nature run function snc:shifters/utility/setblock/destroy {\"shifter\":\"attack\"}\n",
      "execute positioned ^0 ^5 ^-3 if block ~ ~ ~ #snc:destroy/nature run function snc:shifters/utility/setblock/destroy {\"shifter\":\"attack\"}\n",
      "execute positioned ^0 ^0 ^-2 if block ~ ~ ~ #snc:destroy/nature run function snc:shifters/utility/setblock/destroy {\"shifter\":\"attack\"}\n",
      "execute positioned ^0 ^5 ^-2 if block ~ ~ ~ #snc:destroy/nature run function snc:shifters/utility/setblock/destroy {\"shifter\":\"attack\"}\n",
      "execute positioned ^0 ^0 ^-1 if block ~ ~ ~ #snc:destroy/nature run function snc:shifters/utility/setblock/destroy {\"shifter\":\"attack\"}\n",
      "execute positioned ^0 ^5 ^-1 if block ~ ~ ~ #snc:destroy/nature run function snc:shifters/utility/setblock/destroy {\"shifter\":\"attack\"}\n",
      "execute positioned ^0 ^0 ^0 if block ~ ~ ~ #snc:destroy/nature run function snc:shifters/utility/setblock/destroy {\"shifter\":\"attack\"}\n",
      "execute positioned ^0 ^5 ^0 if block ~ ~ ~ #snc:destroy/nature run function snc:shifters/utility/setblock/destroy {\"shifter\":\"attack\"}\n",
      "execute positioned ^0 ^0 ^1 if block ~ ~ ~ #snc:destroy/nature run function snc:shifters/utility/setblock/destroy {\"shifter\":\"attack\"}\n",
      "execute positioned ^0 ^5 ^1 if block ~ ~ ~ #snc:destroy/nature run function snc:shifters/utility/setblock/destroy {\"shifter\":\"attack\"}\n",
      "execute positioned ^0 ^0 ^2 if block ~ ~ ~ #snc:destroy/nature run function snc:shifters/utility/setblock/destroy {\"shifter\":\"attack\"}\n",
      "execute positioned ^0 ^5 ^2 if block ~ ~ ~ #snc:destroy/nature run function snc:shifters/utility/setblock/destroy {\"shifter\":\"attack\"}\n",
      "execute positioned ^0 ^0 ^3 if block ~ ~ ~ #snc:destroy/nature run function snc:shifters/utility/setblock/destroy {\"shifter\":\"attack\"}\n",
      "execute positioned ^0 ^5 ^3 if block ~ ~ ~ #snc:destroy/nature run function snc:shifters/utility/setblock/destroy {\"shifter\":\"attack\"}\n",
      "execute positioned ^0 ^0 ^4 if block ~ ~ ~ #snc:destroy/nature run function snc:shifters/utility/setblock/destroy {\"shifter\":\"attack\"}\n",
      "execute positioned ^0 ^5 ^4 if block ~ ~ ~ #snc:destroy/nature run function snc:shifters/utility/setblock/destroy {\"shifter\":\"attack\"}\n",
      "execute positioned ^0 ^0 ^5 if block ~ ~ ~ #snc:destroy/nature run function snc:shifters/utility/setblock/destroy {\"shifter\":\"attack\"}\n",
      "execute positioned ^0 ^5 ^5 if block ~ ~ ~ #snc:destroy/nature run function snc:shifters/utility/setblock/destroy {\"shifter\":\"attack\"}\n",
      "execute positioned ^1 ^0 ^-5 if block ~ ~ ~ #snc:destroy/nature run function snc:shifters/utility/setblock/destroy {\"shifter\":\"attack\"}\n",
      "execute positioned ^1 ^5 ^-5 if block ~ ~ ~ #snc:destroy/nature run function snc:shifters/utility/setblock/destroy {\"shifter\":\"attack\"}\n",
      "execute positioned ^1 ^0 ^-4 if block ~ ~ ~ #snc:destroy/nature run function snc:shifters/utility/setblock/destroy {\"shifter\":\"attack\"}\n",
      "execute positioned ^1 ^5 ^-4 if block ~ ~ ~ #snc:destroy/nature run function snc:shifters/utility/setblock/destroy {\"shifter\":\"attack\"}\n",
      "execute positioned ^1 ^0 ^-3 if block ~ ~ ~ #snc:destroy/nature run function snc:shifters/utility/setblock/destroy {\"shifter\":\"attack\"}\n",
      "execute positioned ^1 ^5 ^-3 if block ~ ~ ~ #snc:destroy/nature run function snc:shifters/utility/setblock/destroy {\"shifter\":\"attack\"}\n",
      "execute positioned ^1 ^0 ^-2 if block ~ ~ ~ #snc:destroy/nature run function snc:shifters/utility/setblock/destroy {\"shifter\":\"attack\"}\n",
      "execute positioned ^1 ^5 ^-2 if block ~ ~ ~ #snc:destroy/nature run function snc:shifters/utility/setblock/destroy {\"shifter\":\"attack\"}\n",
      "execute positioned ^1 ^0 ^-1 if block ~ ~ ~ #snc:destroy/nature run function snc:shifters/utility/setblock/destroy {\"shifter\":\"attack\"}\n",
      "execute positioned ^1 ^5 ^-1 if block ~ ~ ~ #snc:destroy/nature run function snc:shifters/utility/setblock/destroy {\"shifter\":\"attack\"}\n",
      "execute positioned ^1 ^0 ^0 if block ~ ~ ~ #snc:destroy/nature run function snc:shifters/utility/setblock/destroy {\"shifter\":\"attack\"}\n",
      "execute positioned ^1 ^5 ^0 if block ~ ~ ~ #snc:destroy/nature run function snc:shifters/utility/setblock/destroy {\"shifter\":\"attack\"}\n",
      "execute positioned ^1 ^0 ^1 if block ~ ~ ~ #snc:destroy/nature run function snc:shifters/utility/setblock/destroy {\"shifter\":\"attack\"}\n",
      "execute positioned ^1 ^5 ^1 if block ~ ~ ~ #snc:destroy/nature run function snc:shifters/utility/setblock/destroy {\"shifter\":\"attack\"}\n",
      "execute positioned ^1 ^0 ^2 if block ~ ~ ~ #snc:destroy/nature run function snc:shifters/utility/setblock/destroy {\"shifter\":\"attack\"}\n",
      "execute positioned ^1 ^5 ^2 if block ~ ~ ~ #snc:destroy/nature run function snc:shifters/utility/setblock/destroy {\"shifter\":\"attack\"}\n",
      "execute positioned ^1 ^0 ^3 if block ~ ~ ~ #snc:destroy/nature run function snc:shifters/utility/setblock/destroy {\"shifter\":\"attack\"}\n",
      "execute positioned ^1 ^5 ^3 if block ~ ~ ~ #snc:destroy/nature run function snc:shifters/utility/setblock/destroy {\"shifter\":\"attack\"}\n",
      "execute positioned ^1 ^0 ^4 if block ~ ~ ~ #snc:destroy/nature run function snc:shifters/utility/setblock/destroy {\"shifter\":\"attack\"}\n",
      "execute positioned ^1 ^5 ^4 if block ~ ~ ~ #snc:destroy/nature run function snc:shifters/utility/setblock/destroy {\"shifter\":\"attack\"}\n",
      "execute positioned ^1 ^0 ^5 if block ~ ~ ~ #snc:destroy/nature run function snc:shifters/utility/setblock/destroy {\"shifter\":\"attack\"}\n",
      "execute positioned ^1 ^5 ^5 if block ~ ~ ~ #snc:destroy/nature run function snc:shifters/utility/setblock/destroy {\"shifter\":\"attack\"}\n",
      "execute positioned ^2 ^0 ^-5 if block ~ ~ ~ #snc:destroy/nature run function snc:shifters/utility/setblock/destroy {\"shifter\":\"attack\"}\n",
      "execute positioned ^2 ^5 ^-5 if block ~ ~ ~ #snc:destroy/nature run function snc:shifters/utility/setblock/destroy {\"shifter\":\"attack\"}\n",
      "execute positioned ^2 ^0 ^-4 if block ~ ~ ~ #snc:destroy/nature run function snc:shifters/utility/setblock/destroy {\"shifter\":\"attack\"}\n",
      "execute positioned ^2 ^5 ^-4 if block ~ ~ ~ #snc:destroy/nature run function snc:shifters/utility/setblock/destroy {\"shifter\":\"attack\"}\n",
      "execute positioned ^2 ^0 ^-3 if block ~ ~ ~ #snc:destroy/nature run function snc:shifters/utility/setblock/destroy {\"shifter\":\"attack\"}\n",
      "execute positioned ^2 ^5 ^-3 if block ~ ~ ~ #snc:destroy/nature run function snc:shifters/utility/setblock/destroy {\"shifter\":\"attack\"}\n",
      "execute positioned ^2 ^0 ^-2 if block ~ ~ ~ #snc:destroy/nature run function snc:shifters/utility/setblock/destroy {\"shifter\":\"attack\"}\n",
      "execute positioned ^2 ^5 ^-2 if block ~ ~ ~ #snc:destroy/nature run function snc:shifters/utility/setblock/destroy {\"shifter\":\"attack\"}\n",
      "execute positioned ^2 ^0 ^-1 if block ~ ~ ~ #snc:destroy/nature run function snc:shifters/utility/setblock/destroy {\"shifter\":\"attack\"}\n",
      "execute positioned ^2 ^5 ^-1 if block ~ ~ ~ #snc:destroy/nature run function snc:shifters/utility/setblock/destroy {\"shifter\":\"attack\"}\n",
      "execute positioned ^2 ^0 ^0 if block ~ ~ ~ #snc:destroy/nature run function snc:shifters/utility/setblock/destroy {\"shifter\":\"attack\"}\n",
      "execute positioned ^2 ^5 ^0 if block ~ ~ ~ #snc:destroy/nature run function snc:shifters/utility/setblock/destroy {\"shifter\":\"attack\"}\n",
      "execute positioned ^2 ^0 ^1 if block ~ ~ ~ #snc:destroy/nature run function snc:shifters/utility/setblock/destroy {\"shifter\":\"attack\"}\n",
      "execute positioned ^2 ^5 ^1 if block ~ ~ ~ #snc:destroy/nature run function snc:shifters/utility/setblock/destroy {\"shifter\":\"attack\"}\n",
      "execute positioned ^2 ^0 ^2 if block ~ ~ ~ #snc:destroy/nature run function snc:shifters/utility/setblock/destroy {\"shifter\":\"attack\"}\n",
      "execute positioned ^2 ^5 ^2 if block ~ ~ ~ #snc:destroy/nature run function snc:shifters/utility/setblock/destroy {\"shifter\":\"attack\"}\n",
      "execute positioned ^2 ^0 ^3 if block ~ ~ ~ #snc:destroy/nature run function snc:shifters/utility/setblock/destroy {\"shifter\":\"attack\"}\n",
      "execute positioned ^2 ^5 ^3 if block ~ ~ ~ #snc:destroy/nature run function snc:shifters/utility/setblock/destroy {\"shifter\":\"attack\"}\n",
      "execute positioned ^2 ^0 ^4 if block ~ ~ ~ #snc:destroy/nature run function snc:shifters/utility/setblock/destroy {\"shifter\":\"attack\"}\n",
      "execute positioned ^2 ^5 ^4 if block ~ ~ ~ #snc:destroy/nature run function snc:shifters/utility/setblock/destroy {\"shifter\":\"attack\"}\n",
      "execute positioned ^2 ^0 ^5 if block ~ ~ ~ #snc:destroy/nature run function snc:shifters/utility/setblock/destroy {\"shifter\":\"attack\"}\n",
      "execute positioned ^2 ^5 ^5 if block ~ ~ ~ #snc:destroy/nature run function snc:shifters/utility/setblock/destroy {\"shifter\":\"attack\"}\n",
      "execute positioned ^3 ^0 ^-5 if block ~ ~ ~ #snc:destroy/nature run function snc:shifters/utility/setblock/destroy {\"shifter\":\"attack\"}\n",
      "execute positioned ^3 ^5 ^-5 if block ~ ~ ~ #snc:destroy/nature run function snc:shifters/utility/setblock/destroy {\"shifter\":\"attack\"}\n",
      "execute positioned ^3 ^0 ^-4 if block ~ ~ ~ #snc:destroy/nature run function snc:shifters/utility/setblock/destroy {\"shifter\":\"attack\"}\n",
      "execute positioned ^3 ^5 ^-4 if block ~ ~ ~ #snc:destroy/nature run function snc:shifters/utility/setblock/destroy {\"shifter\":\"attack\"}\n",
      "execute positioned ^3 ^0 ^-3 if block ~ ~ ~ #snc:destroy/nature run function snc:shifters/utility/setblock/destroy {\"shifter\":\"attack\"}\n",
      "execute positioned ^3 ^5 ^-3 if block ~ ~ ~ #snc:destroy/nature run function snc:shifters/utility/setblock/destroy {\"shifter\":\"attack\"}\n",
      "execute positioned ^3 ^0 ^-2 if block ~ ~ ~ #snc:destroy/nature run function snc:shifters/utility/setblock/destroy {\"shifter\":\"attack\"}\n",
      "execute positioned ^3 ^5 ^-2 if block ~ ~ ~ #snc:destroy/nature run function snc:shifters/utility/setblock/destroy {\"shifter\":\"attack\"}\n",
      "execute positioned ^3 ^0 ^-1 if block ~ ~ ~ #snc:destroy/nature run function snc:shifters/utility/setblock/destroy {\"shifter\":\"attack\"}\n",
      "execute positioned ^3 ^5 ^-1 if block ~ ~ ~ #snc:destroy/nature run function snc:shifters/utility/setblock/destroy {\"shifter\":\"attack\"}\n",
      "execute positioned ^3 ^0 ^0 if block ~ ~ ~ #snc:destroy/nature run function snc:shifters/utility/setblock/destroy {\"shifter\":\"attack\"}\n",
      "execute positioned ^3 ^5 ^0 if block ~ ~ ~ #snc:destroy/nature run function snc:shifters/utility/setblock/destroy {\"shifter\":\"attack\"}\n",
      "execute positioned ^3 ^0 ^1 if block ~ ~ ~ #snc:destroy/nature run function snc:shifters/utility/setblock/destroy {\"shifter\":\"attack\"}\n",
      "execute positioned ^3 ^5 ^1 if block ~ ~ ~ #snc:destroy/nature run function snc:shifters/utility/setblock/destroy {\"shifter\":\"attack\"}\n",
      "execute positioned ^3 ^0 ^2 if block ~ ~ ~ #snc:destroy/nature run function snc:shifters/utility/setblock/destroy {\"shifter\":\"attack\"}\n",
      "execute positioned ^3 ^5 ^2 if block ~ ~ ~ #snc:destroy/nature run function snc:shifters/utility/setblock/destroy {\"shifter\":\"attack\"}\n",
      "execute positioned ^3 ^0 ^3 if block ~ ~ ~ #snc:destroy/nature run function snc:shifters/utility/setblock/destroy {\"shifter\":\"attack\"}\n",
      "execute positioned ^3 ^5 ^3 if block ~ ~ ~ #snc:destroy/nature run function snc:shifters/utility/setblock/destroy {\"shifter\":\"attack\"}\n",
      "execute positioned ^3 ^0 ^4 if block ~ ~ ~ #snc:destroy/nature run function snc:shifters/utility/setblock/destroy {\"shifter\":\"attack\"}\n",
      "execute positioned ^3 ^5 ^4 if block ~ ~ ~ #snc:destroy/nature run function snc:shifters/utility/setblock/destroy {\"shifter\":\"attack\"}\n",
      "execute positioned ^3 ^0 ^5 if block ~ ~ ~ #snc:destroy/nature run function snc:shifters/utility/setblock/destroy {\"shifter\":\"attack\"}\n",
      "execute positioned ^3 ^5 ^5 if block ~ ~ ~ #snc:destroy/nature run function snc:shifters/utility/setblock/destroy {\"shifter\":\"attack\"}\n",
      "execute positioned ^4 ^0 ^-5 if block ~ ~ ~ #snc:destroy/nature run function snc:shifters/utility/setblock/destroy {\"shifter\":\"attack\"}\n",
      "execute positioned ^4 ^5 ^-5 if block ~ ~ ~ #snc:destroy/nature run function snc:shifters/utility/setblock/destroy {\"shifter\":\"attack\"}\n",
      "execute positioned ^4 ^0 ^-4 if block ~ ~ ~ #snc:destroy/nature run function snc:shifters/utility/setblock/destroy {\"shifter\":\"attack\"}\n",
      "execute positioned ^4 ^5 ^-4 if block ~ ~ ~ #snc:destroy/nature run function snc:shifters/utility/setblock/destroy {\"shifter\":\"attack\"}\n",
      "execute positioned ^4 ^0 ^-3 if block ~ ~ ~ #snc:destroy/nature run function snc:shifters/utility/setblock/destroy {\"shifter\":\"attack\"}\n",
      "execute positioned ^4 ^5 ^-3 if block ~ ~ ~ #snc:destroy/nature run function snc:shifters/utility/setblock/destroy {\"shifter\":\"attack\"}\n",
      "execute positioned ^4 ^0 ^-2 if block ~ ~ ~ #snc:destroy/nature run function snc:shifters/utility/setblock/destroy {\"shifter\":\"attack\"}\n",
      "execute positioned ^4 ^5 ^-2 if block ~ ~ ~ #snc:destroy/nature run function snc:shifters/utility/setblock/destroy {\"shifter\":\"attack\"}\n",
      "execute positioned ^4 ^0 ^-1 if block ~ ~ ~ #snc:destroy/nature run function snc:shifters/utility/setblock/destroy {\"shifter\":\"attack\"}\n",
      "execute positioned ^4 ^5 ^-1 if block ~ ~ ~ #snc:destroy/nature run function snc:shifters/utility/setblock/destroy {\"shifter\":\"attack\"}\n",
      "execute positioned ^4 ^0 ^0 if block ~ ~ ~ #snc:destroy/nature run function snc:shifters/utility/setblock/destroy {\"shifter\":\"attack\"}\n",
      "execute positioned ^4 ^5 ^0 if block ~ ~ ~ #snc:destroy/nature run function snc:shifters/utility/setblock/destroy {\"shifter\":\"attack\"}\n",
      "execute positioned ^4 ^0 ^1 if block ~ ~ ~ #snc:destroy/nature run function snc:shifters/utility/setblock/destroy {\"shifter\":\"attack\"}\n",
      "execute positioned ^4 ^5 ^1 if block ~ ~ ~ #snc:destroy/nature run function snc:shifters/utility/setblock/destroy {\"shifter\":\"attack\"}\n",
      "execute positioned ^4 ^0 ^2 if block ~ ~ ~ #snc:destroy/nature run function snc:shifters/utility/setblock/destroy {\"shifter\":\"attack\"}\n",
      "execute positioned ^4 ^5 ^2 if block ~ ~ ~ #snc:destroy/nature run function snc:shifters/utility/setblock/destroy {\"shifter\":\"attack\"}\n",
      "execute positioned ^4 ^0 ^3 if block ~ ~ ~ #snc:destroy/nature run function snc:shifters/utility/setblock/destroy {\"shifter\":\"attack\"}\n",
      "execute positioned ^4 ^5 ^3 if block ~ ~ ~ #snc:destroy/nature run function snc:shifters/utility/setblock/destroy {\"shifter\":\"attack\"}\n",
      "execute positioned ^4 ^0 ^4 if block ~ ~ ~ #snc:destroy/nature run function snc:shifters/utility/setblock/destroy {\"shifter\":\"attack\"}\n",
      "execute positioned ^4 ^5 ^4 if block ~ ~ ~ #snc:destroy/nature run function snc:shifters/utility/setblock/destroy {\"shifter\":\"attack\"}\n",
      "execute positioned ^4 ^0 ^5 if block ~ ~ ~ #snc:destroy/nature run function snc:shifters/utility/setblock/destroy {\"shifter\":\"attack\"}\n",
      "execute positioned ^4 ^5 ^5 if block ~ ~ ~ #snc:destroy/nature run function snc:shifters/utility/setblock/destroy {\"shifter\":\"attack\"}\n",
      "execute positioned ^5 ^0 ^-5 if block ~ ~ ~ #snc:destroy/nature run function snc:shifters/utility/setblock/destroy {\"shifter\":\"attack\"}\n",
      "execute positioned ^5 ^5 ^-5 if block ~ ~ ~ #snc:destroy/nature run function snc:shifters/utility/setblock/destroy {\"shifter\":\"attack\"}\n",
      "execute positioned ^5 ^0 ^-4 if block ~ ~ ~ #snc:destroy/nature run function snc:shifters/utility/setblock/destroy {\"shifter\":\"attack\"}\n",
      "execute positioned ^5 ^5 ^-4 if block ~ ~ ~ #snc:destroy/nature run function snc:shifters/utility/setblock/destroy {\"shifter\":\"attack\"}\n",
      "execute positioned ^5 ^0 ^-3 if block ~ ~ ~ #snc:destroy/nature run function snc:shifters/utility/setblock/destroy {\"shifter\":\"attack\"}\n",
      "execute positioned ^5 ^5 ^-3 if block ~ ~ ~ #snc:destroy/nature run function snc:shifters/utility/setblock/destroy {\"shifter\":\"attack\"}\n",
      "execute positioned ^5 ^0 ^-2 if block ~ ~ ~ #snc:destroy/nature run function snc:shifters/utility/setblock/destroy {\"shifter\":\"attack\"}\n",
      "execute positioned ^5 ^5 ^-2 if block ~ ~ ~ #snc:destroy/nature run function snc:shifters/utility/setblock/destroy {\"shifter\":\"attack\"}\n",
      "execute positioned ^5 ^0 ^-1 if block ~ ~ ~ #snc:destroy/nature run function snc:shifters/utility/setblock/destroy {\"shifter\":\"attack\"}\n",
      "execute positioned ^5 ^5 ^-1 if block ~ ~ ~ #snc:destroy/nature run function snc:shifters/utility/setblock/destroy {\"shifter\":\"attack\"}\n",
      "execute positioned ^5 ^0 ^0 if block ~ ~ ~ #snc:destroy/nature run function snc:shifters/utility/setblock/destroy {\"shifter\":\"attack\"}\n",
      "execute positioned ^5 ^5 ^0 if block ~ ~ ~ #snc:destroy/nature run function snc:shifters/utility/setblock/destroy {\"shifter\":\"attack\"}\n",
      "execute positioned ^5 ^0 ^1 if block ~ ~ ~ #snc:destroy/nature run function snc:shifters/utility/setblock/destroy {\"shifter\":\"attack\"}\n",
      "execute positioned ^5 ^5 ^1 if block ~ ~ ~ #snc:destroy/nature run function snc:shifters/utility/setblock/destroy {\"shifter\":\"attack\"}\n",
      "execute positioned ^5 ^0 ^2 if block ~ ~ ~ #snc:destroy/nature run function snc:shifters/utility/setblock/destroy {\"shifter\":\"attack\"}\n",
      "execute positioned ^5 ^5 ^2 if block ~ ~ ~ #snc:destroy/nature run function snc:shifters/utility/setblock/destroy {\"shifter\":\"attack\"}\n",
      "execute positioned ^5 ^0 ^3 if block ~ ~ ~ #snc:destroy/nature run function snc:shifters/utility/setblock/destroy {\"shifter\":\"attack\"}\n",
      "execute positioned ^5 ^5 ^3 if block ~ ~ ~ #snc:destroy/nature run function snc:shifters/utility/setblock/destroy {\"shifter\":\"attack\"}\n",
      "execute positioned ^5 ^0 ^4 if block ~ ~ ~ #snc:destroy/nature run function snc:shifters/utility/setblock/destroy {\"shifter\":\"attack\"}\n",
      "execute positioned ^5 ^5 ^4 if block ~ ~ ~ #snc:destroy/nature run function snc:shifters/utility/setblock/destroy {\"shifter\":\"attack\"}\n",
      "execute positioned ^5 ^0 ^5 if block ~ ~ ~ #snc:destroy/nature run function snc:shifters/utility/setblock/destroy {\"shifter\":\"attack\"}\n",
      "execute positioned ^5 ^5 ^5 if block ~ ~ ~ #snc:destroy/nature run function snc:shifters/utility/setblock/destroy {\"shifter\":\"attack\"}\n",
      "execute positioned ^-5 ^1 ^-5 if block ~ ~ ~ #snc:destroy/nature run function snc:shifters/utility/setblock/destroy {\"shifter\":\"attack\"}\n",
      "execute positioned ^5 ^1 ^-5 if block ~ ~ ~ #snc:destroy/nature run function snc:shifters/utility/setblock/destroy {\"shifter\":\"attack\"}\n",
      "execute positioned ^-5 ^1 ^-4 if block ~ ~ ~ #snc:destroy/nature run function snc:shifters/utility/setblock/destroy {\"shifter\":\"attack\"}\n",
      "execute positioned ^5 ^1 ^-4 if block ~ ~ ~ #snc:destroy/nature run function snc:shifters/utility/setblock/destroy {\"shifter\":\"attack\"}\n",
      "execute positioned ^-5 ^1 ^-3 if block ~ ~ ~ #snc:destroy/nature run function snc:shifters/utility/setblock/destroy {\"shifter\":\"attack\"}\n",
      "execute positioned ^5 ^1 ^-3 if block ~ ~ ~ #snc:destroy/nature run function snc:shifters/utility/setblock/destroy {\"shifter\":\"attack\"}\n",
      "execute positioned ^-5 ^1 ^-2 if block ~ ~ ~ #snc:destroy/nature run function snc:shifters/utility/setblock/destroy {\"shifter\":\"attack\"}\n",
      "execute positioned ^5 ^1 ^-2 if block ~ ~ ~ #snc:destroy/nature run function snc:shifters/utility/setblock/destroy {\"shifter\":\"attack\"}\n",
      "execute positioned ^-5 ^1 ^-1 if block ~ ~ ~ #snc:destroy/nature run function snc:shifters/utility/setblock/destroy {\"shifter\":\"attack\"}\n",
      "execute positioned ^5 ^1 ^-1 if block ~ ~ ~ #snc:destroy/nature run function snc:shifters/utility/setblock/destroy {\"shifter\":\"attack\"}\n",
      "execute positioned ^-5 ^1 ^0 if block ~ ~ ~ #snc:destroy/nature run function snc:shifters/utility/setblock/destroy {\"shifter\":\"attack\"}\n",
      "execute positioned ^5 ^1 ^0 if block ~ ~ ~ #snc:destroy/nature run function snc:shifters/utility/setblock/destroy {\"shifter\":\"attack\"}\n",
      "execute positioned ^-5 ^1 ^1 if block ~ ~ ~ #snc:destroy/nature run function snc:shifters/utility/setblock/destroy {\"shifter\":\"attack\"}\n",
      "execute positioned ^5 ^1 ^1 if block ~ ~ ~ #snc:destroy/nature run function snc:shifters/utility/setblock/destroy {\"shifter\":\"attack\"}\n",
      "execute positioned ^-5 ^1 ^2 if block ~ ~ ~ #snc:destroy/nature run function snc:shifters/utility/setblock/destroy {\"shifter\":\"attack\"}\n",
      "execute positioned ^5 ^1 ^2 if block ~ ~ ~ #snc:destroy/nature run function snc:shifters/utility/setblock/destroy {\"shifter\":\"attack\"}\n",
      "execute positioned ^-5 ^1 ^3 if block ~ ~ ~ #snc:destroy/nature run function snc:shifters/utility/setblock/destroy {\"shifter\":\"attack\"}\n",
      "execute positioned ^5 ^1 ^3 if block ~ ~ ~ #snc:destroy/nature run function snc:shifters/utility/setblock/destroy {\"shifter\":\"attack\"}\n",
      "execute positioned ^-5 ^1 ^4 if block ~ ~ ~ #snc:destroy/nature run function snc:shifters/utility/setblock/destroy {\"shifter\":\"attack\"}\n",
      "execute positioned ^5 ^1 ^4 if block ~ ~ ~ #snc:destroy/nature run function snc:shifters/utility/setblock/destroy {\"shifter\":\"attack\"}\n",
      "execute positioned ^-5 ^1 ^5 if block ~ ~ ~ #snc:destroy/nature run function snc:shifters/utility/setblock/destroy {\"shifter\":\"attack\"}\n",
      "execute positioned ^5 ^1 ^5 if block ~ ~ ~ #snc:destroy/nature run function snc:shifters/utility/setblock/destroy {\"shifter\":\"attack\"}\n",
      "execute positioned ^-5 ^2 ^-5 if block ~ ~ ~ #snc:destroy/nature run function snc:shifters/utility/setblock/destroy {\"shifter\":\"attack\"}\n",
      "execute positioned ^5 ^2 ^-5 if block ~ ~ ~ #snc:destroy/nature run function snc:shifters/utility/setblock/destroy {\"shifter\":\"attack\"}\n",
      "execute positioned ^-5 ^2 ^-4 if block ~ ~ ~ #snc:destroy/nature run function snc:shifters/utility/setblock/destroy {\"shifter\":\"attack\"}\n",
      "execute positioned ^5 ^2 ^-4 if block ~ ~ ~ #snc:destroy/nature run function snc:shifters/utility/setblock/destroy {\"shifter\":\"attack\"}\n",
      "execute positioned ^-5 ^2 ^-3 if block ~ ~ ~ #snc:destroy/nature run function snc:shifters/utility/setblock/destroy {\"shifter\":\"attack\"}\n",
      "execute positioned ^5 ^2 ^-3 if block ~ ~ ~ #snc:destroy/nature run function snc:shifters/utility/setblock/destroy {\"shifter\":\"attack\"}\n",
      "execute positioned ^-5 ^2 ^-2 if block ~ ~ ~ #snc:destroy/nature run function snc:shifters/utility/setblock/destroy {\"shifter\":\"attack\"}\n",
      "execute positioned ^5 ^2 ^-2 if block ~ ~ ~ #snc:destroy/nature run function snc:shifters/utility/setblock/destroy {\"shifter\":\"attack\"}\n",
      "execute positioned ^-5 ^2 ^-1 if block ~ ~ ~ #snc:destroy/nature run function snc:shifters/utility/setblock/destroy {\"shifter\":\"attack\"}\n",
      "execute positioned ^5 ^2 ^-1 if block ~ ~ ~ #snc:destroy/nature run function snc:shifters/utility/setblock/destroy {\"shifter\":\"attack\"}\n",
      "execute positioned ^-5 ^2 ^0 if block ~ ~ ~ #snc:destroy/nature run function snc:shifters/utility/setblock/destroy {\"shifter\":\"attack\"}\n",
      "execute positioned ^5 ^2 ^0 if block ~ ~ ~ #snc:destroy/nature run function snc:shifters/utility/setblock/destroy {\"shifter\":\"attack\"}\n",
      "execute positioned ^-5 ^2 ^1 if block ~ ~ ~ #snc:destroy/nature run function snc:shifters/utility/setblock/destroy {\"shifter\":\"attack\"}\n",
      "execute positioned ^5 ^2 ^1 if block ~ ~ ~ #snc:destroy/nature run function snc:shifters/utility/setblock/destroy {\"shifter\":\"attack\"}\n",
      "execute positioned ^-5 ^2 ^2 if block ~ ~ ~ #snc:destroy/nature run function snc:shifters/utility/setblock/destroy {\"shifter\":\"attack\"}\n",
      "execute positioned ^5 ^2 ^2 if block ~ ~ ~ #snc:destroy/nature run function snc:shifters/utility/setblock/destroy {\"shifter\":\"attack\"}\n",
      "execute positioned ^-5 ^2 ^3 if block ~ ~ ~ #snc:destroy/nature run function snc:shifters/utility/setblock/destroy {\"shifter\":\"attack\"}\n",
      "execute positioned ^5 ^2 ^3 if block ~ ~ ~ #snc:destroy/nature run function snc:shifters/utility/setblock/destroy {\"shifter\":\"attack\"}\n",
      "execute positioned ^-5 ^2 ^4 if block ~ ~ ~ #snc:destroy/nature run function snc:shifters/utility/setblock/destroy {\"shifter\":\"attack\"}\n",
      "execute positioned ^5 ^2 ^4 if block ~ ~ ~ #snc:destroy/nature run function snc:shifters/utility/setblock/destroy {\"shifter\":\"attack\"}\n",
      "execute positioned ^-5 ^2 ^5 if block ~ ~ ~ #snc:destroy/nature run function snc:shifters/utility/setblock/destroy {\"shifter\":\"attack\"}\n",
      "execute positioned ^5 ^2 ^5 if block ~ ~ ~ #snc:destroy/nature run function snc:shifters/utility/setblock/destroy {\"shifter\":\"attack\"}\n",
      "execute positioned ^-5 ^3 ^-5 if block ~ ~ ~ #snc:destroy/nature run function snc:shifters/utility/setblock/destroy {\"shifter\":\"attack\"}\n",
      "execute positioned ^5 ^3 ^-5 if block ~ ~ ~ #snc:destroy/nature run function snc:shifters/utility/setblock/destroy {\"shifter\":\"attack\"}\n",
      "execute positioned ^-5 ^3 ^-4 if block ~ ~ ~ #snc:destroy/nature run function snc:shifters/utility/setblock/destroy {\"shifter\":\"attack\"}\n",
      "execute positioned ^5 ^3 ^-4 if block ~ ~ ~ #snc:destroy/nature run function snc:shifters/utility/setblock/destroy {\"shifter\":\"attack\"}\n",
      "execute positioned ^-5 ^3 ^-3 if block ~ ~ ~ #snc:destroy/nature run function snc:shifters/utility/setblock/destroy {\"shifter\":\"attack\"}\n",
      "execute positioned ^5 ^3 ^-3 if block ~ ~ ~ #snc:destroy/nature run function snc:shifters/utility/setblock/destroy {\"shifter\":\"attack\"}\n",
      "execute positioned ^-5 ^3 ^-2 if block ~ ~ ~ #snc:destroy/nature run function snc:shifters/utility/setblock/destroy {\"shifter\":\"attack\"}\n",
      "execute positioned ^5 ^3 ^-2 if block ~ ~ ~ #snc:destroy/nature run function snc:shifters/utility/setblock/destroy {\"shifter\":\"attack\"}\n",
      "execute positioned ^-5 ^3 ^-1 if block ~ ~ ~ #snc:destroy/nature run function snc:shifters/utility/setblock/destroy {\"shifter\":\"attack\"}\n",
      "execute positioned ^5 ^3 ^-1 if block ~ ~ ~ #snc:destroy/nature run function snc:shifters/utility/setblock/destroy {\"shifter\":\"attack\"}\n",
      "execute positioned ^-5 ^3 ^0 if block ~ ~ ~ #snc:destroy/nature run function snc:shifters/utility/setblock/destroy {\"shifter\":\"attack\"}\n",
      "execute positioned ^5 ^3 ^0 if block ~ ~ ~ #snc:destroy/nature run function snc:shifters/utility/setblock/destroy {\"shifter\":\"attack\"}\n",
      "execute positioned ^-5 ^3 ^1 if block ~ ~ ~ #snc:destroy/nature run function snc:shifters/utility/setblock/destroy {\"shifter\":\"attack\"}\n",
      "execute positioned ^5 ^3 ^1 if block ~ ~ ~ #snc:destroy/nature run function snc:shifters/utility/setblock/destroy {\"shifter\":\"attack\"}\n",
      "execute positioned ^-5 ^3 ^2 if block ~ ~ ~ #snc:destroy/nature run function snc:shifters/utility/setblock/destroy {\"shifter\":\"attack\"}\n",
      "execute positioned ^5 ^3 ^2 if block ~ ~ ~ #snc:destroy/nature run function snc:shifters/utility/setblock/destroy {\"shifter\":\"attack\"}\n",
      "execute positioned ^-5 ^3 ^3 if block ~ ~ ~ #snc:destroy/nature run function snc:shifters/utility/setblock/destroy {\"shifter\":\"attack\"}\n",
      "execute positioned ^5 ^3 ^3 if block ~ ~ ~ #snc:destroy/nature run function snc:shifters/utility/setblock/destroy {\"shifter\":\"attack\"}\n",
      "execute positioned ^-5 ^3 ^4 if block ~ ~ ~ #snc:destroy/nature run function snc:shifters/utility/setblock/destroy {\"shifter\":\"attack\"}\n",
      "execute positioned ^5 ^3 ^4 if block ~ ~ ~ #snc:destroy/nature run function snc:shifters/utility/setblock/destroy {\"shifter\":\"attack\"}\n",
      "execute positioned ^-5 ^3 ^5 if block ~ ~ ~ #snc:destroy/nature run function snc:shifters/utility/setblock/destroy {\"shifter\":\"attack\"}\n",
      "execute positioned ^5 ^3 ^5 if block ~ ~ ~ #snc:destroy/nature run function snc:shifters/utility/setblock/destroy {\"shifter\":\"attack\"}\n",
      "execute positioned ^-5 ^4 ^-5 if block ~ ~ ~ #snc:destroy/nature run function snc:shifters/utility/setblock/destroy {\"shifter\":\"attack\"}\n",
      "execute positioned ^5 ^4 ^-5 if block ~ ~ ~ #snc:destroy/nature run function snc:shifters/utility/setblock/destroy {\"shifter\":\"attack\"}\n",
      "execute positioned ^-5 ^4 ^-4 if block ~ ~ ~ #snc:destroy/nature run function snc:shifters/utility/setblock/destroy {\"shifter\":\"attack\"}\n",
      "execute positioned ^5 ^4 ^-4 if block ~ ~ ~ #snc:destroy/nature run function snc:shifters/utility/setblock/destroy {\"shifter\":\"attack\"}\n",
      "execute positioned ^-5 ^4 ^-3 if block ~ ~ ~ #snc:destroy/nature run function snc:shifters/utility/setblock/destroy {\"shifter\":\"attack\"}\n",
      "execute positioned ^5 ^4 ^-3 if block ~ ~ ~ #snc:destroy/nature run function snc:shifters/utility/setblock/destroy {\"shifter\":\"attack\"}\n",
      "execute positioned ^-5 ^4 ^-2 if block ~ ~ ~ #snc:destroy/nature run function snc:shifters/utility/setblock/destroy {\"shifter\":\"attack\"}\n",
      "execute positioned ^5 ^4 ^-2 if block ~ ~ ~ #snc:destroy/nature run function snc:shifters/utility/setblock/destroy {\"shifter\":\"attack\"}\n",
      "execute positioned ^-5 ^4 ^-1 if block ~ ~ ~ #snc:destroy/nature run function snc:shifters/utility/setblock/destroy {\"shifter\":\"attack\"}\n",
      "execute positioned ^5 ^4 ^-1 if block ~ ~ ~ #snc:destroy/nature run function snc:shifters/utility/setblock/destroy {\"shifter\":\"attack\"}\n",
      "execute positioned ^-5 ^4 ^0 if block ~ ~ ~ #snc:destroy/nature run function snc:shifters/utility/setblock/destroy {\"shifter\":\"attack\"}\n",
      "execute positioned ^5 ^4 ^0 if block ~ ~ ~ #snc:destroy/nature run function snc:shifters/utility/setblock/destroy {\"shifter\":\"attack\"}\n",
      "execute positioned ^-5 ^4 ^1 if block ~ ~ ~ #snc:destroy/nature run function snc:shifters/utility/setblock/destroy {\"shifter\":\"attack\"}\n",
      "execute positioned ^5 ^4 ^1 if block ~ ~ ~ #snc:destroy/nature run function snc:shifters/utility/setblock/destroy {\"shifter\":\"attack\"}\n",
      "execute positioned ^-5 ^4 ^2 if block ~ ~ ~ #snc:destroy/nature run function snc:shifters/utility/setblock/destroy {\"shifter\":\"attack\"}\n",
      "execute positioned ^5 ^4 ^2 if block ~ ~ ~ #snc:destroy/nature run function snc:shifters/utility/setblock/destroy {\"shifter\":\"attack\"}\n",
      "execute positioned ^-5 ^4 ^3 if block ~ ~ ~ #snc:destroy/nature run function snc:shifters/utility/setblock/destroy {\"shifter\":\"attack\"}\n",
      "execute positioned ^5 ^4 ^3 if block ~ ~ ~ #snc:destroy/nature run function snc:shifters/utility/setblock/destroy {\"shifter\":\"attack\"}\n",
      "execute positioned ^-5 ^4 ^4 if block ~ ~ ~ #snc:destroy/nature run function snc:shifters/utility/setblock/destroy {\"shifter\":\"attack\"}\n",
      "execute positioned ^5 ^4 ^4 if block ~ ~ ~ #snc:destroy/nature run function snc:shifters/utility/setblock/destroy {\"shifter\":\"attack\"}\n",
      "execute positioned ^-5 ^4 ^5 if block ~ ~ ~ #snc:destroy/nature run function snc:shifters/utility/setblock/destroy {\"shifter\":\"attack\"}\n",
      "execute positioned ^5 ^4 ^5 if block ~ ~ ~ #snc:destroy/nature run function snc:shifters/utility/setblock/destroy {\"shifter\":\"attack\"}\n",
      "execute positioned ^-4 ^1 ^-5 if block ~ ~ ~ #snc:destroy/nature run function snc:shifters/utility/setblock/destroy {\"shifter\":\"attack\"}\n",
      "execute positioned ^-4 ^1 ^5 if block ~ ~ ~ #snc:destroy/nature run function snc:shifters/utility/setblock/destroy {\"shifter\":\"attack\"}\n",
      "execute positioned ^-3 ^1 ^-5 if block ~ ~ ~ #snc:destroy/nature run function snc:shifters/utility/setblock/destroy {\"shifter\":\"attack\"}\n",
      "execute positioned ^-3 ^1 ^5 if block ~ ~ ~ #snc:destroy/nature run function snc:shifters/utility/setblock/destroy {\"shifter\":\"attack\"}\n",
      "execute positioned ^-2 ^1 ^-5 if block ~ ~ ~ #snc:destroy/nature run function snc:shifters/utility/setblock/destroy {\"shifter\":\"attack\"}\n",
      "execute positioned ^-2 ^1 ^5 if block ~ ~ ~ #snc:destroy/nature run function snc:shifters/utility/setblock/destroy {\"shifter\":\"attack\"}\n",
      "execute positioned ^-1 ^1 ^-5 if block ~ ~ ~ #snc:destroy/nature run function snc:shifters/utility/setblock/destroy {\"shifter\":\"attack\"}\n",
      "execute positioned ^-1 ^1 ^5 if block ~ ~ ~ #snc:destroy/nature run function snc:shifters/utility/setblock/destroy {\"shifter\":\"attack\"}\n",
      "execute positioned ^0 ^1 ^-5 if block ~ ~ ~ #snc:destroy/nature run function snc:shifters/utility/setblock/destroy {\"shifter\":\"attack\"}\n",
      "execute positioned ^0 ^1 ^5 if block ~ ~ ~ #snc:destroy/nature run function snc:shifters/utility/setblock/destroy {\"shifter\":\"attack\"}\n",
      "execute positioned ^1 ^1 ^-5 if block ~ ~ ~ #snc:destroy/nature run function snc:shifters/utility/setblock/destroy {\"shifter\":\"attack\"}\n",
      "execute positioned ^1 ^1 ^5 if block ~ ~ ~ #snc:destroy/nature run function snc:shifters/utility/setblock/destroy {\"shifter\":\"attack\"}\n",
      "execute positioned ^2 ^1 ^-5 if block ~ ~ ~ #snc:destroy/nature run function snc:shifters/utility/setblock/destroy {\"shifter\":\"attack\"}\n",
      "execute positioned ^2 ^1 ^5 if block ~ ~ ~ #snc:destroy/nature run function snc:shifters/utility/setblock/destroy {\"shifter\":\"attack\"}\n",
      "execute positioned ^3 ^1 ^-5 if block ~ ~ ~ #snc:destroy/nature run function snc:shifters/utility/setblock/destroy {\"shifter\":\"attack\"}\n",
      "execute positioned ^3 ^1 ^5 if block ~ ~ ~ #snc:destroy/nature run function snc:shifters/utility/setblock/destroy {\"shifter\":\"attack\"}\n",
      "execute positioned ^4 ^1 ^-5 if block ~ ~ ~ #snc:destroy/nature run function snc:shifters/utility/setblock/destroy {\"shifter\":\"attack\"}\n",
      "execute positioned ^4 ^1 ^5 if block ~ ~ ~ #snc:destroy/nature run function snc:shifters/utility/setblock/destroy {\"shifter\":\"attack\"}\n",
      "execute positioned ^-4 ^2 ^-5 if block ~ ~ ~ #snc:destroy/nature run function snc:shifters/utility/setblock/destroy {\"shifter\":\"attack\"}\n",
      "execute positioned ^-4 ^2 ^5 if block ~ ~ ~ #snc:destroy/nature run function snc:shifters/utility/setblock/destroy {\"shifter\":\"attack\"}\n",
      "execute positioned ^-3 ^2 ^-5 if block ~ ~ ~ #snc:destroy/nature run function snc:shifters/utility/setblock/destroy {\"shifter\":\"attack\"}\n",
      "execute positioned ^-3 ^2 ^5 if block ~ ~ ~ #snc:destroy/nature run function snc:shifters/utility/setblock/destroy {\"shifter\":\"attack\"}\n",
      "execute positioned ^-2 ^2 ^-5 if block ~ ~ ~ #snc:destroy/nature run function snc:shifters/utility/setblock/destroy {\"shifter\":\"attack\"}\n",
      "execute positioned ^-2 ^2 ^5 if block ~ ~ ~ #snc:destroy/nature run function snc:shifters/utility/setblock/destroy {\"shifter\":\"attack\"}\n",
      "execute positioned ^-1 ^2 ^-5 if block ~ ~ ~ #snc:destroy/nature run function snc:shifters/utility/setblock/destroy {\"shifter\":\"attack\"}\n",
      "execute positioned ^-1 ^2 ^5 if block ~ ~ ~ #snc:destroy/nature run function snc:shifters/utility/setblock/destroy {\"shifter\":\"attack\"}\n",
      "execute positioned ^0 ^2 ^-5 if block ~ ~ ~ #snc:destroy/nature run function snc:shifters/utility/setblock/destroy {\"shifter\":\"attack\"}\n",
      "execute positioned ^0 ^2 ^5 if block ~ ~ ~ #snc:destroy/nature run function snc:shifters/utility/setblock/destroy {\"shifter\":\"attack\"}\n",
      "execute positioned ^1 ^2 ^-5 if block ~ ~ ~ #snc:destroy/nature run function snc:shifters/utility/setblock/destroy {\"shifter\":\"attack\"}\n",
      "execute positioned ^1 ^2 ^5 if block ~ ~ ~ #snc:destroy/nature run function snc:shifters/utility/setblock/destroy {\"shifter\":\"attack\"}\n",
      "execute positioned ^2 ^2 ^-5 if block ~ ~ ~ #snc:destroy/nature run function snc:shifters/utility/setblock/destroy {\"shifter\":\"attack\"}\n",
      "execute positioned ^2 ^2 ^5 if block ~ ~ ~ #snc:destroy/nature run function snc:shifters/utility/setblock/destroy {\"shifter\":\"attack\"}\n",
      "execute positioned ^3 ^2 ^-5 if block ~ ~ ~ #snc:destroy/nature run function snc:shifters/utility/setblock/destroy {\"shifter\":\"attack\"}\n",
      "execute positioned ^3 ^2 ^5 if block ~ ~ ~ #snc:destroy/nature run function snc:shifters/utility/setblock/destroy {\"shifter\":\"attack\"}\n",
      "execute positioned ^4 ^2 ^-5 if block ~ ~ ~ #snc:destroy/nature run function snc:shifters/utility/setblock/destroy {\"shifter\":\"attack\"}\n",
      "execute positioned ^4 ^2 ^5 if block ~ ~ ~ #snc:destroy/nature run function snc:shifters/utility/setblock/destroy {\"shifter\":\"attack\"}\n",
      "execute positioned ^-4 ^3 ^-5 if block ~ ~ ~ #snc:destroy/nature run function snc:shifters/utility/setblock/destroy {\"shifter\":\"attack\"}\n",
      "execute positioned ^-4 ^3 ^5 if block ~ ~ ~ #snc:destroy/nature run function snc:shifters/utility/setblock/destroy {\"shifter\":\"attack\"}\n",
      "execute positioned ^-3 ^3 ^-5 if block ~ ~ ~ #snc:destroy/nature run function snc:shifters/utility/setblock/destroy {\"shifter\":\"attack\"}\n",
      "execute positioned ^-3 ^3 ^5 if block ~ ~ ~ #snc:destroy/nature run function snc:shifters/utility/setblock/destroy {\"shifter\":\"attack\"}\n",
      "execute positioned ^-2 ^3 ^-5 if block ~ ~ ~ #snc:destroy/nature run function snc:shifters/utility/setblock/destroy {\"shifter\":\"attack\"}\n",
      "execute positioned ^-2 ^3 ^5 if block ~ ~ ~ #snc:destroy/nature run function snc:shifters/utility/setblock/destroy {\"shifter\":\"attack\"}\n",
      "execute positioned ^-1 ^3 ^-5 if block ~ ~ ~ #snc:destroy/nature run function snc:shifters/utility/setblock/destroy {\"shifter\":\"attack\"}\n",
      "execute positioned ^-1 ^3 ^5 if block ~ ~ ~ #snc:destroy/nature run function snc:shifters/utility/setblock/destroy {\"shifter\":\"attack\"}\n",
      "execute positioned ^0 ^3 ^-5 if block ~ ~ ~ #snc:destroy/nature run function snc:shifters/utility/setblock/destroy {\"shifter\":\"attack\"}\n",
      "execute positioned ^0 ^3 ^5 if block ~ ~ ~ #snc:destroy/nature run function snc:shifters/utility/setblock/destroy {\"shifter\":\"attack\"}\n",
      "execute positioned ^1 ^3 ^-5 if block ~ ~ ~ #snc:destroy/nature run function snc:shifters/utility/setblock/destroy {\"shifter\":\"attack\"}\n",
      "execute positioned ^1 ^3 ^5 if block ~ ~ ~ #snc:destroy/nature run function snc:shifters/utility/setblock/destroy {\"shifter\":\"attack\"}\n",
      "execute positioned ^2 ^3 ^-5 if block ~ ~ ~ #snc:destroy/nature run function snc:shifters/utility/setblock/destroy {\"shifter\":\"attack\"}\n",
      "execute positioned ^2 ^3 ^5 if block ~ ~ ~ #snc:destroy/nature run function snc:shifters/utility/setblock/destroy {\"shifter\":\"attack\"}\n",
      "execute positioned ^3 ^3 ^-5 if block ~ ~ ~ #snc:destroy/nature run function snc:shifters/utility/setblock/destroy {\"shifter\":\"attack\"}\n",
      "execute positioned ^3 ^3 ^5 if block ~ ~ ~ #snc:destroy/nature run function snc:shifters/utility/setblock/destroy {\"shifter\":\"attack\"}\n",
      "execute positioned ^4 ^3 ^-5 if block ~ ~ ~ #snc:destroy/nature run function snc:shifters/utility/setblock/destroy {\"shifter\":\"attack\"}\n",
      "execute positioned ^4 ^3 ^5 if block ~ ~ ~ #snc:destroy/nature run function snc:shifters/utility/setblock/destroy {\"shifter\":\"attack\"}\n",
      "execute positioned ^-4 ^4 ^-5 if block ~ ~ ~ #snc:destroy/nature run function snc:shifters/utility/setblock/destroy {\"shifter\":\"attack\"}\n",
      "execute positioned ^-4 ^4 ^5 if block ~ ~ ~ #snc:destroy/nature run function snc:shifters/utility/setblock/destroy {\"shifter\":\"attack\"}\n",
      "execute positioned ^-3 ^4 ^-5 if block ~ ~ ~ #snc:destroy/nature run function snc:shifters/utility/setblock/destroy {\"shifter\":\"attack\"}\n",
      "execute positioned ^-3 ^4 ^5 if block ~ ~ ~ #snc:destroy/nature run function snc:shifters/utility/setblock/destroy {\"shifter\":\"attack\"}\n",
      "execute positioned ^-2 ^4 ^-5 if block ~ ~ ~ #snc:destroy/nature run function snc:shifters/utility/setblock/destroy {\"shifter\":\"attack\"}\n",
      "execute positioned ^-2 ^4 ^5 if block ~ ~ ~ #snc:destroy/nature run function snc:shifters/utility/setblock/destroy {\"shifter\":\"attack\"}\n",
      "execute positioned ^-1 ^4 ^-5 if block ~ ~ ~ #snc:destroy/nature run function snc:shifters/utility/setblock/destroy {\"shifter\":\"attack\"}\n",
      "execute positioned ^-1 ^4 ^5 if block ~ ~ ~ #snc:destroy/nature run function snc:shifters/utility/setblock/destroy {\"shifter\":\"attack\"}\n",
      "execute positioned ^0 ^4 ^-5 if block ~ ~ ~ #snc:destroy/nature run function snc:shifters/utility/setblock/destroy {\"shifter\":\"attack\"}\n",
      "execute positioned ^0 ^4 ^5 if block ~ ~ ~ #snc:destroy/nature run function snc:shifters/utility/setblock/destroy {\"shifter\":\"attack\"}\n",
      "execute positioned ^1 ^4 ^-5 if block ~ ~ ~ #snc:destroy/nature run function snc:shifters/utility/setblock/destroy {\"shifter\":\"attack\"}\n",
      "execute positioned ^1 ^4 ^5 if block ~ ~ ~ #snc:destroy/nature run function snc:shifters/utility/setblock/destroy {\"shifter\":\"attack\"}\n",
      "execute positioned ^2 ^4 ^-5 if block ~ ~ ~ #snc:destroy/nature run function snc:shifters/utility/setblock/destroy {\"shifter\":\"attack\"}\n",
      "execute positioned ^2 ^4 ^5 if block ~ ~ ~ #snc:destroy/nature run function snc:shifters/utility/setblock/destroy {\"shifter\":\"attack\"}\n",
      "execute positioned ^3 ^4 ^-5 if block ~ ~ ~ #snc:destroy/nature run function snc:shifters/utility/setblock/destroy {\"shifter\":\"attack\"}\n",
      "execute positioned ^3 ^4 ^5 if block ~ ~ ~ #snc:destroy/nature run function snc:shifters/utility/setblock/destroy {\"shifter\":\"attack\"}\n",
      "execute positioned ^4 ^4 ^-5 if block ~ ~ ~ #snc:destroy/nature run function snc:shifters/utility/setblock/destroy {\"shifter\":\"attack\"}\n",
      "execute positioned ^4 ^4 ^5 if block ~ ~ ~ #snc:destroy/nature run function snc:shifters/utility/setblock/destroy {\"shifter\":\"attack\"}\n"
     ]
    },
    {
     "data": {
      "application/vnd.plotly.v1+json": {
       "config": {
        "plotlyServerURL": "https://plot.ly"
       },
       "data": [
        {
         "marker": {
          "opacity": 0.6,
          "size": 10
         },
         "mode": "markers",
         "type": "scatter3d",
         "x": [
          -5,
          -5,
          -5,
          -5,
          -5,
          -5,
          -5,
          -5,
          -5,
          -5,
          -5,
          -5,
          -5,
          -5,
          -5,
          -5,
          -5,
          -5,
          -5,
          -5,
          -5,
          -5,
          -4,
          -4,
          -4,
          -4,
          -4,
          -4,
          -4,
          -4,
          -4,
          -4,
          -4,
          -4,
          -4,
          -4,
          -4,
          -4,
          -4,
          -4,
          -4,
          -4,
          -4,
          -4,
          -3,
          -3,
          -3,
          -3,
          -3,
          -3,
          -3,
          -3,
          -3,
          -3,
          -3,
          -3,
          -3,
          -3,
          -3,
          -3,
          -3,
          -3,
          -3,
          -3,
          -3,
          -3,
          -2,
          -2,
          -2,
          -2,
          -2,
          -2,
          -2,
          -2,
          -2,
          -2,
          -2,
          -2,
          -2,
          -2,
          -2,
          -2,
          -2,
          -2,
          -2,
          -2,
          -2,
          -2,
          -1,
          -1,
          -1,
          -1,
          -1,
          -1,
          -1,
          -1,
          -1,
          -1,
          -1,
          -1,
          -1,
          -1,
          -1,
          -1,
          -1,
          -1,
          -1,
          -1,
          -1,
          -1,
          0,
          0,
          0,
          0,
          0,
          0,
          0,
          0,
          0,
          0,
          0,
          0,
          0,
          0,
          0,
          0,
          0,
          0,
          0,
          0,
          0,
          0,
          1,
          1,
          1,
          1,
          1,
          1,
          1,
          1,
          1,
          1,
          1,
          1,
          1,
          1,
          1,
          1,
          1,
          1,
          1,
          1,
          1,
          1,
          2,
          2,
          2,
          2,
          2,
          2,
          2,
          2,
          2,
          2,
          2,
          2,
          2,
          2,
          2,
          2,
          2,
          2,
          2,
          2,
          2,
          2,
          3,
          3,
          3,
          3,
          3,
          3,
          3,
          3,
          3,
          3,
          3,
          3,
          3,
          3,
          3,
          3,
          3,
          3,
          3,
          3,
          3,
          3,
          4,
          4,
          4,
          4,
          4,
          4,
          4,
          4,
          4,
          4,
          4,
          4,
          4,
          4,
          4,
          4,
          4,
          4,
          4,
          4,
          4,
          4,
          5,
          5,
          5,
          5,
          5,
          5,
          5,
          5,
          5,
          5,
          5,
          5,
          5,
          5,
          5,
          5,
          5,
          5,
          5,
          5,
          5,
          5,
          -5,
          5,
          -5,
          5,
          -5,
          5,
          -5,
          5,
          -5,
          5,
          -5,
          5,
          -5,
          5,
          -5,
          5,
          -5,
          5,
          -5,
          5,
          -5,
          5,
          -5,
          5,
          -5,
          5,
          -5,
          5,
          -5,
          5,
          -5,
          5,
          -5,
          5,
          -5,
          5,
          -5,
          5,
          -5,
          5,
          -5,
          5,
          -5,
          5,
          -5,
          5,
          -5,
          5,
          -5,
          5,
          -5,
          5,
          -5,
          5,
          -5,
          5,
          -5,
          5,
          -5,
          5,
          -5,
          5,
          -5,
          5,
          -5,
          5,
          -5,
          5,
          -5,
          5,
          -5,
          5,
          -5,
          5,
          -5,
          5,
          -5,
          5,
          -5,
          5,
          -5,
          5,
          -5,
          5,
          -5,
          5,
          -5,
          5,
          -4,
          -4,
          -3,
          -3,
          -2,
          -2,
          -1,
          -1,
          0,
          0,
          1,
          1,
          2,
          2,
          3,
          3,
          4,
          4,
          -4,
          -4,
          -3,
          -3,
          -2,
          -2,
          -1,
          -1,
          0,
          0,
          1,
          1,
          2,
          2,
          3,
          3,
          4,
          4,
          -4,
          -4,
          -3,
          -3,
          -2,
          -2,
          -1,
          -1,
          0,
          0,
          1,
          1,
          2,
          2,
          3,
          3,
          4,
          4,
          -4,
          -4,
          -3,
          -3,
          -2,
          -2,
          -1,
          -1,
          0,
          0,
          1,
          1,
          2,
          2,
          3,
          3,
          4,
          4
         ],
         "y": [
          -5,
          -5,
          -4,
          -4,
          -3,
          -3,
          -2,
          -2,
          -1,
          -1,
          0,
          0,
          1,
          1,
          2,
          2,
          3,
          3,
          4,
          4,
          5,
          5,
          -5,
          -5,
          -4,
          -4,
          -3,
          -3,
          -2,
          -2,
          -1,
          -1,
          0,
          0,
          1,
          1,
          2,
          2,
          3,
          3,
          4,
          4,
          5,
          5,
          -5,
          -5,
          -4,
          -4,
          -3,
          -3,
          -2,
          -2,
          -1,
          -1,
          0,
          0,
          1,
          1,
          2,
          2,
          3,
          3,
          4,
          4,
          5,
          5,
          -5,
          -5,
          -4,
          -4,
          -3,
          -3,
          -2,
          -2,
          -1,
          -1,
          0,
          0,
          1,
          1,
          2,
          2,
          3,
          3,
          4,
          4,
          5,
          5,
          -5,
          -5,
          -4,
          -4,
          -3,
          -3,
          -2,
          -2,
          -1,
          -1,
          0,
          0,
          1,
          1,
          2,
          2,
          3,
          3,
          4,
          4,
          5,
          5,
          -5,
          -5,
          -4,
          -4,
          -3,
          -3,
          -2,
          -2,
          -1,
          -1,
          0,
          0,
          1,
          1,
          2,
          2,
          3,
          3,
          4,
          4,
          5,
          5,
          -5,
          -5,
          -4,
          -4,
          -3,
          -3,
          -2,
          -2,
          -1,
          -1,
          0,
          0,
          1,
          1,
          2,
          2,
          3,
          3,
          4,
          4,
          5,
          5,
          -5,
          -5,
          -4,
          -4,
          -3,
          -3,
          -2,
          -2,
          -1,
          -1,
          0,
          0,
          1,
          1,
          2,
          2,
          3,
          3,
          4,
          4,
          5,
          5,
          -5,
          -5,
          -4,
          -4,
          -3,
          -3,
          -2,
          -2,
          -1,
          -1,
          0,
          0,
          1,
          1,
          2,
          2,
          3,
          3,
          4,
          4,
          5,
          5,
          -5,
          -5,
          -4,
          -4,
          -3,
          -3,
          -2,
          -2,
          -1,
          -1,
          0,
          0,
          1,
          1,
          2,
          2,
          3,
          3,
          4,
          4,
          5,
          5,
          -5,
          -5,
          -4,
          -4,
          -3,
          -3,
          -2,
          -2,
          -1,
          -1,
          0,
          0,
          1,
          1,
          2,
          2,
          3,
          3,
          4,
          4,
          5,
          5,
          -5,
          -5,
          -4,
          -4,
          -3,
          -3,
          -2,
          -2,
          -1,
          -1,
          0,
          0,
          1,
          1,
          2,
          2,
          3,
          3,
          4,
          4,
          5,
          5,
          -5,
          -5,
          -4,
          -4,
          -3,
          -3,
          -2,
          -2,
          -1,
          -1,
          0,
          0,
          1,
          1,
          2,
          2,
          3,
          3,
          4,
          4,
          5,
          5,
          -5,
          -5,
          -4,
          -4,
          -3,
          -3,
          -2,
          -2,
          -1,
          -1,
          0,
          0,
          1,
          1,
          2,
          2,
          3,
          3,
          4,
          4,
          5,
          5,
          -5,
          -5,
          -4,
          -4,
          -3,
          -3,
          -2,
          -2,
          -1,
          -1,
          0,
          0,
          1,
          1,
          2,
          2,
          3,
          3,
          4,
          4,
          5,
          5,
          -5,
          5,
          -5,
          5,
          -5,
          5,
          -5,
          5,
          -5,
          5,
          -5,
          5,
          -5,
          5,
          -5,
          5,
          -5,
          5,
          -5,
          5,
          -5,
          5,
          -5,
          5,
          -5,
          5,
          -5,
          5,
          -5,
          5,
          -5,
          5,
          -5,
          5,
          -5,
          5,
          -5,
          5,
          -5,
          5,
          -5,
          5,
          -5,
          5,
          -5,
          5,
          -5,
          5,
          -5,
          5,
          -5,
          5,
          -5,
          5,
          -5,
          5,
          -5,
          5,
          -5,
          5,
          -5,
          5,
          -5,
          5,
          -5,
          5,
          -5,
          5,
          -5,
          5,
          -5,
          5
         ],
         "z": [
          0,
          5,
          0,
          5,
          0,
          5,
          0,
          5,
          0,
          5,
          0,
          5,
          0,
          5,
          0,
          5,
          0,
          5,
          0,
          5,
          0,
          5,
          0,
          5,
          0,
          5,
          0,
          5,
          0,
          5,
          0,
          5,
          0,
          5,
          0,
          5,
          0,
          5,
          0,
          5,
          0,
          5,
          0,
          5,
          0,
          5,
          0,
          5,
          0,
          5,
          0,
          5,
          0,
          5,
          0,
          5,
          0,
          5,
          0,
          5,
          0,
          5,
          0,
          5,
          0,
          5,
          0,
          5,
          0,
          5,
          0,
          5,
          0,
          5,
          0,
          5,
          0,
          5,
          0,
          5,
          0,
          5,
          0,
          5,
          0,
          5,
          0,
          5,
          0,
          5,
          0,
          5,
          0,
          5,
          0,
          5,
          0,
          5,
          0,
          5,
          0,
          5,
          0,
          5,
          0,
          5,
          0,
          5,
          0,
          5,
          0,
          5,
          0,
          5,
          0,
          5,
          0,
          5,
          0,
          5,
          0,
          5,
          0,
          5,
          0,
          5,
          0,
          5,
          0,
          5,
          0,
          5,
          0,
          5,
          0,
          5,
          0,
          5,
          0,
          5,
          0,
          5,
          0,
          5,
          0,
          5,
          0,
          5,
          0,
          5,
          0,
          5,
          0,
          5,
          0,
          5,
          0,
          5,
          0,
          5,
          0,
          5,
          0,
          5,
          0,
          5,
          0,
          5,
          0,
          5,
          0,
          5,
          0,
          5,
          0,
          5,
          0,
          5,
          0,
          5,
          0,
          5,
          0,
          5,
          0,
          5,
          0,
          5,
          0,
          5,
          0,
          5,
          0,
          5,
          0,
          5,
          0,
          5,
          0,
          5,
          0,
          5,
          0,
          5,
          0,
          5,
          0,
          5,
          0,
          5,
          0,
          5,
          0,
          5,
          0,
          5,
          0,
          5,
          0,
          5,
          0,
          5,
          0,
          5,
          0,
          5,
          0,
          5,
          0,
          5,
          0,
          5,
          0,
          5,
          0,
          5,
          0,
          5,
          0,
          5,
          0,
          5,
          1,
          1,
          1,
          1,
          1,
          1,
          1,
          1,
          1,
          1,
          1,
          1,
          1,
          1,
          1,
          1,
          1,
          1,
          1,
          1,
          1,
          1,
          2,
          2,
          2,
          2,
          2,
          2,
          2,
          2,
          2,
          2,
          2,
          2,
          2,
          2,
          2,
          2,
          2,
          2,
          2,
          2,
          2,
          2,
          3,
          3,
          3,
          3,
          3,
          3,
          3,
          3,
          3,
          3,
          3,
          3,
          3,
          3,
          3,
          3,
          3,
          3,
          3,
          3,
          3,
          3,
          4,
          4,
          4,
          4,
          4,
          4,
          4,
          4,
          4,
          4,
          4,
          4,
          4,
          4,
          4,
          4,
          4,
          4,
          4,
          4,
          4,
          4,
          1,
          1,
          1,
          1,
          1,
          1,
          1,
          1,
          1,
          1,
          1,
          1,
          1,
          1,
          1,
          1,
          1,
          1,
          2,
          2,
          2,
          2,
          2,
          2,
          2,
          2,
          2,
          2,
          2,
          2,
          2,
          2,
          2,
          2,
          2,
          2,
          3,
          3,
          3,
          3,
          3,
          3,
          3,
          3,
          3,
          3,
          3,
          3,
          3,
          3,
          3,
          3,
          3,
          3,
          4,
          4,
          4,
          4,
          4,
          4,
          4,
          4,
          4,
          4,
          4,
          4,
          4,
          4,
          4,
          4,
          4,
          4
         ]
        }
       ],
       "layout": {
        "scene": {
         "xaxis": {
          "tickmode": "array",
          "tickvals": [
           -5,
           -4,
           -3,
           -2,
           -1,
           0,
           1,
           2,
           3,
           4,
           5
          ],
          "title": {
           "text": "X Axis"
          }
         },
         "yaxis": {
          "tickmode": "array",
          "tickvals": [
           -5,
           -4,
           -3,
           -2,
           -1,
           0,
           1,
           2,
           3,
           4,
           5
          ],
          "title": {
           "text": "Z Axis"
          }
         },
         "zaxis": {
          "tickmode": "array",
          "tickvals": [
           0,
           1,
           2,
           3,
           4,
           5
          ],
          "title": {
           "text": "Y Axis"
          }
         }
        },
        "template": {
         "data": {
          "bar": [
           {
            "error_x": {
             "color": "#2a3f5f"
            },
            "error_y": {
             "color": "#2a3f5f"
            },
            "marker": {
             "line": {
              "color": "#E5ECF6",
              "width": 0.5
             },
             "pattern": {
              "fillmode": "overlay",
              "size": 10,
              "solidity": 0.2
             }
            },
            "type": "bar"
           }
          ],
          "barpolar": [
           {
            "marker": {
             "line": {
              "color": "#E5ECF6",
              "width": 0.5
             },
             "pattern": {
              "fillmode": "overlay",
              "size": 10,
              "solidity": 0.2
             }
            },
            "type": "barpolar"
           }
          ],
          "carpet": [
           {
            "aaxis": {
             "endlinecolor": "#2a3f5f",
             "gridcolor": "white",
             "linecolor": "white",
             "minorgridcolor": "white",
             "startlinecolor": "#2a3f5f"
            },
            "baxis": {
             "endlinecolor": "#2a3f5f",
             "gridcolor": "white",
             "linecolor": "white",
             "minorgridcolor": "white",
             "startlinecolor": "#2a3f5f"
            },
            "type": "carpet"
           }
          ],
          "choropleth": [
           {
            "colorbar": {
             "outlinewidth": 0,
             "ticks": ""
            },
            "type": "choropleth"
           }
          ],
          "contour": [
           {
            "colorbar": {
             "outlinewidth": 0,
             "ticks": ""
            },
            "colorscale": [
             [
              0,
              "#0d0887"
             ],
             [
              0.1111111111111111,
              "#46039f"
             ],
             [
              0.2222222222222222,
              "#7201a8"
             ],
             [
              0.3333333333333333,
              "#9c179e"
             ],
             [
              0.4444444444444444,
              "#bd3786"
             ],
             [
              0.5555555555555556,
              "#d8576b"
             ],
             [
              0.6666666666666666,
              "#ed7953"
             ],
             [
              0.7777777777777778,
              "#fb9f3a"
             ],
             [
              0.8888888888888888,
              "#fdca26"
             ],
             [
              1,
              "#f0f921"
             ]
            ],
            "type": "contour"
           }
          ],
          "contourcarpet": [
           {
            "colorbar": {
             "outlinewidth": 0,
             "ticks": ""
            },
            "type": "contourcarpet"
           }
          ],
          "heatmap": [
           {
            "colorbar": {
             "outlinewidth": 0,
             "ticks": ""
            },
            "colorscale": [
             [
              0,
              "#0d0887"
             ],
             [
              0.1111111111111111,
              "#46039f"
             ],
             [
              0.2222222222222222,
              "#7201a8"
             ],
             [
              0.3333333333333333,
              "#9c179e"
             ],
             [
              0.4444444444444444,
              "#bd3786"
             ],
             [
              0.5555555555555556,
              "#d8576b"
             ],
             [
              0.6666666666666666,
              "#ed7953"
             ],
             [
              0.7777777777777778,
              "#fb9f3a"
             ],
             [
              0.8888888888888888,
              "#fdca26"
             ],
             [
              1,
              "#f0f921"
             ]
            ],
            "type": "heatmap"
           }
          ],
          "heatmapgl": [
           {
            "colorbar": {
             "outlinewidth": 0,
             "ticks": ""
            },
            "colorscale": [
             [
              0,
              "#0d0887"
             ],
             [
              0.1111111111111111,
              "#46039f"
             ],
             [
              0.2222222222222222,
              "#7201a8"
             ],
             [
              0.3333333333333333,
              "#9c179e"
             ],
             [
              0.4444444444444444,
              "#bd3786"
             ],
             [
              0.5555555555555556,
              "#d8576b"
             ],
             [
              0.6666666666666666,
              "#ed7953"
             ],
             [
              0.7777777777777778,
              "#fb9f3a"
             ],
             [
              0.8888888888888888,
              "#fdca26"
             ],
             [
              1,
              "#f0f921"
             ]
            ],
            "type": "heatmapgl"
           }
          ],
          "histogram": [
           {
            "marker": {
             "pattern": {
              "fillmode": "overlay",
              "size": 10,
              "solidity": 0.2
             }
            },
            "type": "histogram"
           }
          ],
          "histogram2d": [
           {
            "colorbar": {
             "outlinewidth": 0,
             "ticks": ""
            },
            "colorscale": [
             [
              0,
              "#0d0887"
             ],
             [
              0.1111111111111111,
              "#46039f"
             ],
             [
              0.2222222222222222,
              "#7201a8"
             ],
             [
              0.3333333333333333,
              "#9c179e"
             ],
             [
              0.4444444444444444,
              "#bd3786"
             ],
             [
              0.5555555555555556,
              "#d8576b"
             ],
             [
              0.6666666666666666,
              "#ed7953"
             ],
             [
              0.7777777777777778,
              "#fb9f3a"
             ],
             [
              0.8888888888888888,
              "#fdca26"
             ],
             [
              1,
              "#f0f921"
             ]
            ],
            "type": "histogram2d"
           }
          ],
          "histogram2dcontour": [
           {
            "colorbar": {
             "outlinewidth": 0,
             "ticks": ""
            },
            "colorscale": [
             [
              0,
              "#0d0887"
             ],
             [
              0.1111111111111111,
              "#46039f"
             ],
             [
              0.2222222222222222,
              "#7201a8"
             ],
             [
              0.3333333333333333,
              "#9c179e"
             ],
             [
              0.4444444444444444,
              "#bd3786"
             ],
             [
              0.5555555555555556,
              "#d8576b"
             ],
             [
              0.6666666666666666,
              "#ed7953"
             ],
             [
              0.7777777777777778,
              "#fb9f3a"
             ],
             [
              0.8888888888888888,
              "#fdca26"
             ],
             [
              1,
              "#f0f921"
             ]
            ],
            "type": "histogram2dcontour"
           }
          ],
          "mesh3d": [
           {
            "colorbar": {
             "outlinewidth": 0,
             "ticks": ""
            },
            "type": "mesh3d"
           }
          ],
          "parcoords": [
           {
            "line": {
             "colorbar": {
              "outlinewidth": 0,
              "ticks": ""
             }
            },
            "type": "parcoords"
           }
          ],
          "pie": [
           {
            "automargin": true,
            "type": "pie"
           }
          ],
          "scatter": [
           {
            "fillpattern": {
             "fillmode": "overlay",
             "size": 10,
             "solidity": 0.2
            },
            "type": "scatter"
           }
          ],
          "scatter3d": [
           {
            "line": {
             "colorbar": {
              "outlinewidth": 0,
              "ticks": ""
             }
            },
            "marker": {
             "colorbar": {
              "outlinewidth": 0,
              "ticks": ""
             }
            },
            "type": "scatter3d"
           }
          ],
          "scattercarpet": [
           {
            "marker": {
             "colorbar": {
              "outlinewidth": 0,
              "ticks": ""
             }
            },
            "type": "scattercarpet"
           }
          ],
          "scattergeo": [
           {
            "marker": {
             "colorbar": {
              "outlinewidth": 0,
              "ticks": ""
             }
            },
            "type": "scattergeo"
           }
          ],
          "scattergl": [
           {
            "marker": {
             "colorbar": {
              "outlinewidth": 0,
              "ticks": ""
             }
            },
            "type": "scattergl"
           }
          ],
          "scattermapbox": [
           {
            "marker": {
             "colorbar": {
              "outlinewidth": 0,
              "ticks": ""
             }
            },
            "type": "scattermapbox"
           }
          ],
          "scatterpolar": [
           {
            "marker": {
             "colorbar": {
              "outlinewidth": 0,
              "ticks": ""
             }
            },
            "type": "scatterpolar"
           }
          ],
          "scatterpolargl": [
           {
            "marker": {
             "colorbar": {
              "outlinewidth": 0,
              "ticks": ""
             }
            },
            "type": "scatterpolargl"
           }
          ],
          "scatterternary": [
           {
            "marker": {
             "colorbar": {
              "outlinewidth": 0,
              "ticks": ""
             }
            },
            "type": "scatterternary"
           }
          ],
          "surface": [
           {
            "colorbar": {
             "outlinewidth": 0,
             "ticks": ""
            },
            "colorscale": [
             [
              0,
              "#0d0887"
             ],
             [
              0.1111111111111111,
              "#46039f"
             ],
             [
              0.2222222222222222,
              "#7201a8"
             ],
             [
              0.3333333333333333,
              "#9c179e"
             ],
             [
              0.4444444444444444,
              "#bd3786"
             ],
             [
              0.5555555555555556,
              "#d8576b"
             ],
             [
              0.6666666666666666,
              "#ed7953"
             ],
             [
              0.7777777777777778,
              "#fb9f3a"
             ],
             [
              0.8888888888888888,
              "#fdca26"
             ],
             [
              1,
              "#f0f921"
             ]
            ],
            "type": "surface"
           }
          ],
          "table": [
           {
            "cells": {
             "fill": {
              "color": "#EBF0F8"
             },
             "line": {
              "color": "white"
             }
            },
            "header": {
             "fill": {
              "color": "#C8D4E3"
             },
             "line": {
              "color": "white"
             }
            },
            "type": "table"
           }
          ]
         },
         "layout": {
          "annotationdefaults": {
           "arrowcolor": "#2a3f5f",
           "arrowhead": 0,
           "arrowwidth": 1
          },
          "autotypenumbers": "strict",
          "coloraxis": {
           "colorbar": {
            "outlinewidth": 0,
            "ticks": ""
           }
          },
          "colorscale": {
           "diverging": [
            [
             0,
             "#8e0152"
            ],
            [
             0.1,
             "#c51b7d"
            ],
            [
             0.2,
             "#de77ae"
            ],
            [
             0.3,
             "#f1b6da"
            ],
            [
             0.4,
             "#fde0ef"
            ],
            [
             0.5,
             "#f7f7f7"
            ],
            [
             0.6,
             "#e6f5d0"
            ],
            [
             0.7,
             "#b8e186"
            ],
            [
             0.8,
             "#7fbc41"
            ],
            [
             0.9,
             "#4d9221"
            ],
            [
             1,
             "#276419"
            ]
           ],
           "sequential": [
            [
             0,
             "#0d0887"
            ],
            [
             0.1111111111111111,
             "#46039f"
            ],
            [
             0.2222222222222222,
             "#7201a8"
            ],
            [
             0.3333333333333333,
             "#9c179e"
            ],
            [
             0.4444444444444444,
             "#bd3786"
            ],
            [
             0.5555555555555556,
             "#d8576b"
            ],
            [
             0.6666666666666666,
             "#ed7953"
            ],
            [
             0.7777777777777778,
             "#fb9f3a"
            ],
            [
             0.8888888888888888,
             "#fdca26"
            ],
            [
             1,
             "#f0f921"
            ]
           ],
           "sequentialminus": [
            [
             0,
             "#0d0887"
            ],
            [
             0.1111111111111111,
             "#46039f"
            ],
            [
             0.2222222222222222,
             "#7201a8"
            ],
            [
             0.3333333333333333,
             "#9c179e"
            ],
            [
             0.4444444444444444,
             "#bd3786"
            ],
            [
             0.5555555555555556,
             "#d8576b"
            ],
            [
             0.6666666666666666,
             "#ed7953"
            ],
            [
             0.7777777777777778,
             "#fb9f3a"
            ],
            [
             0.8888888888888888,
             "#fdca26"
            ],
            [
             1,
             "#f0f921"
            ]
           ]
          },
          "colorway": [
           "#636efa",
           "#EF553B",
           "#00cc96",
           "#ab63fa",
           "#FFA15A",
           "#19d3f3",
           "#FF6692",
           "#B6E880",
           "#FF97FF",
           "#FECB52"
          ],
          "font": {
           "color": "#2a3f5f"
          },
          "geo": {
           "bgcolor": "white",
           "lakecolor": "white",
           "landcolor": "#E5ECF6",
           "showlakes": true,
           "showland": true,
           "subunitcolor": "white"
          },
          "hoverlabel": {
           "align": "left"
          },
          "hovermode": "closest",
          "mapbox": {
           "style": "light"
          },
          "paper_bgcolor": "white",
          "plot_bgcolor": "#E5ECF6",
          "polar": {
           "angularaxis": {
            "gridcolor": "white",
            "linecolor": "white",
            "ticks": ""
           },
           "bgcolor": "#E5ECF6",
           "radialaxis": {
            "gridcolor": "white",
            "linecolor": "white",
            "ticks": ""
           }
          },
          "scene": {
           "xaxis": {
            "backgroundcolor": "#E5ECF6",
            "gridcolor": "white",
            "gridwidth": 2,
            "linecolor": "white",
            "showbackground": true,
            "ticks": "",
            "zerolinecolor": "white"
           },
           "yaxis": {
            "backgroundcolor": "#E5ECF6",
            "gridcolor": "white",
            "gridwidth": 2,
            "linecolor": "white",
            "showbackground": true,
            "ticks": "",
            "zerolinecolor": "white"
           },
           "zaxis": {
            "backgroundcolor": "#E5ECF6",
            "gridcolor": "white",
            "gridwidth": 2,
            "linecolor": "white",
            "showbackground": true,
            "ticks": "",
            "zerolinecolor": "white"
           }
          },
          "shapedefaults": {
           "line": {
            "color": "#2a3f5f"
           }
          },
          "ternary": {
           "aaxis": {
            "gridcolor": "white",
            "linecolor": "white",
            "ticks": ""
           },
           "baxis": {
            "gridcolor": "white",
            "linecolor": "white",
            "ticks": ""
           },
           "bgcolor": "#E5ECF6",
           "caxis": {
            "gridcolor": "white",
            "linecolor": "white",
            "ticks": ""
           }
          },
          "title": {
           "x": 0.05
          },
          "xaxis": {
           "automargin": true,
           "gridcolor": "white",
           "linecolor": "white",
           "ticks": "",
           "title": {
            "standoff": 15
           },
           "zerolinecolor": "white",
           "zerolinewidth": 2
          },
          "yaxis": {
           "automargin": true,
           "gridcolor": "white",
           "linecolor": "white",
           "ticks": "",
           "title": {
            "standoff": 15
           },
           "zerolinecolor": "white",
           "zerolinewidth": 2
          }
         }
        }
       }
      }
     },
     "metadata": {},
     "output_type": "display_data"
    }
   ],
   "source": [
    "## Attack\n",
    "plot_3d_scatter(destroy_and_replace(6,6,\"attack\",\"destroy\"))"
   ]
  },
  {
   "cell_type": "code",
   "execution_count": 5,
   "metadata": {},
   "outputs": [
    {
     "name": "stdout",
     "output_type": "stream",
     "text": [
      "execute positioned ^-1 ^0 ^-1 if block ~ ~ ~ #dirt if block ~ ~1 ~ air run function snc:shifters/utility/setblock/farmland\n",
      "execute positioned ^-1 ^1 ^-1 if block ~ ~ ~ #dirt if block ~ ~1 ~ air run function snc:shifters/utility/setblock/farmland\n",
      "execute positioned ^-1 ^0 ^0 if block ~ ~ ~ #dirt if block ~ ~1 ~ air run function snc:shifters/utility/setblock/farmland\n",
      "execute positioned ^-1 ^1 ^0 if block ~ ~ ~ #dirt if block ~ ~1 ~ air run function snc:shifters/utility/setblock/farmland\n",
      "execute positioned ^-1 ^0 ^1 if block ~ ~ ~ #dirt if block ~ ~1 ~ air run function snc:shifters/utility/setblock/farmland\n",
      "execute positioned ^-1 ^1 ^1 if block ~ ~ ~ #dirt if block ~ ~1 ~ air run function snc:shifters/utility/setblock/farmland\n",
      "execute positioned ^0 ^0 ^-1 if block ~ ~ ~ #dirt if block ~ ~1 ~ air run function snc:shifters/utility/setblock/farmland\n",
      "execute positioned ^0 ^1 ^-1 if block ~ ~ ~ #dirt if block ~ ~1 ~ air run function snc:shifters/utility/setblock/farmland\n",
      "execute positioned ^0 ^0 ^0 if block ~ ~ ~ #dirt if block ~ ~1 ~ air run function snc:shifters/utility/setblock/farmland\n",
      "execute positioned ^0 ^1 ^0 if block ~ ~ ~ #dirt if block ~ ~1 ~ air run function snc:shifters/utility/setblock/farmland\n",
      "execute positioned ^0 ^0 ^1 if block ~ ~ ~ #dirt if block ~ ~1 ~ air run function snc:shifters/utility/setblock/farmland\n",
      "execute positioned ^0 ^1 ^1 if block ~ ~ ~ #dirt if block ~ ~1 ~ air run function snc:shifters/utility/setblock/farmland\n",
      "execute positioned ^1 ^0 ^-1 if block ~ ~ ~ #dirt if block ~ ~1 ~ air run function snc:shifters/utility/setblock/farmland\n",
      "execute positioned ^1 ^1 ^-1 if block ~ ~ ~ #dirt if block ~ ~1 ~ air run function snc:shifters/utility/setblock/farmland\n",
      "execute positioned ^1 ^0 ^0 if block ~ ~ ~ #dirt if block ~ ~1 ~ air run function snc:shifters/utility/setblock/farmland\n",
      "execute positioned ^1 ^1 ^0 if block ~ ~ ~ #dirt if block ~ ~1 ~ air run function snc:shifters/utility/setblock/farmland\n",
      "execute positioned ^1 ^0 ^1 if block ~ ~ ~ #dirt if block ~ ~1 ~ air run function snc:shifters/utility/setblock/farmland\n",
      "execute positioned ^1 ^1 ^1 if block ~ ~ ~ #dirt if block ~ ~1 ~ air run function snc:shifters/utility/setblock/farmland\n"
     ]
    },
    {
     "data": {
      "application/vnd.plotly.v1+json": {
       "config": {
        "plotlyServerURL": "https://plot.ly"
       },
       "data": [
        {
         "marker": {
          "opacity": 0.6,
          "size": 10
         },
         "mode": "markers",
         "type": "scatter3d",
         "x": [
          -1,
          -1,
          -1,
          -1,
          -1,
          -1,
          0,
          0,
          0,
          0,
          0,
          0,
          1,
          1,
          1,
          1,
          1,
          1
         ],
         "y": [
          -1,
          -1,
          0,
          0,
          1,
          1,
          -1,
          -1,
          0,
          0,
          1,
          1,
          -1,
          -1,
          0,
          0,
          1,
          1
         ],
         "z": [
          0,
          1,
          0,
          1,
          0,
          1,
          0,
          1,
          0,
          1,
          0,
          1,
          0,
          1,
          0,
          1,
          0,
          1
         ]
        }
       ],
       "layout": {
        "scene": {
         "xaxis": {
          "tickmode": "array",
          "tickvals": [
           -1,
           0,
           1
          ],
          "title": {
           "text": "X Axis"
          }
         },
         "yaxis": {
          "tickmode": "array",
          "tickvals": [
           -1,
           0,
           1
          ],
          "title": {
           "text": "Z Axis"
          }
         },
         "zaxis": {
          "tickmode": "array",
          "tickvals": [
           0,
           1
          ],
          "title": {
           "text": "Y Axis"
          }
         }
        },
        "template": {
         "data": {
          "bar": [
           {
            "error_x": {
             "color": "#2a3f5f"
            },
            "error_y": {
             "color": "#2a3f5f"
            },
            "marker": {
             "line": {
              "color": "#E5ECF6",
              "width": 0.5
             },
             "pattern": {
              "fillmode": "overlay",
              "size": 10,
              "solidity": 0.2
             }
            },
            "type": "bar"
           }
          ],
          "barpolar": [
           {
            "marker": {
             "line": {
              "color": "#E5ECF6",
              "width": 0.5
             },
             "pattern": {
              "fillmode": "overlay",
              "size": 10,
              "solidity": 0.2
             }
            },
            "type": "barpolar"
           }
          ],
          "carpet": [
           {
            "aaxis": {
             "endlinecolor": "#2a3f5f",
             "gridcolor": "white",
             "linecolor": "white",
             "minorgridcolor": "white",
             "startlinecolor": "#2a3f5f"
            },
            "baxis": {
             "endlinecolor": "#2a3f5f",
             "gridcolor": "white",
             "linecolor": "white",
             "minorgridcolor": "white",
             "startlinecolor": "#2a3f5f"
            },
            "type": "carpet"
           }
          ],
          "choropleth": [
           {
            "colorbar": {
             "outlinewidth": 0,
             "ticks": ""
            },
            "type": "choropleth"
           }
          ],
          "contour": [
           {
            "colorbar": {
             "outlinewidth": 0,
             "ticks": ""
            },
            "colorscale": [
             [
              0,
              "#0d0887"
             ],
             [
              0.1111111111111111,
              "#46039f"
             ],
             [
              0.2222222222222222,
              "#7201a8"
             ],
             [
              0.3333333333333333,
              "#9c179e"
             ],
             [
              0.4444444444444444,
              "#bd3786"
             ],
             [
              0.5555555555555556,
              "#d8576b"
             ],
             [
              0.6666666666666666,
              "#ed7953"
             ],
             [
              0.7777777777777778,
              "#fb9f3a"
             ],
             [
              0.8888888888888888,
              "#fdca26"
             ],
             [
              1,
              "#f0f921"
             ]
            ],
            "type": "contour"
           }
          ],
          "contourcarpet": [
           {
            "colorbar": {
             "outlinewidth": 0,
             "ticks": ""
            },
            "type": "contourcarpet"
           }
          ],
          "heatmap": [
           {
            "colorbar": {
             "outlinewidth": 0,
             "ticks": ""
            },
            "colorscale": [
             [
              0,
              "#0d0887"
             ],
             [
              0.1111111111111111,
              "#46039f"
             ],
             [
              0.2222222222222222,
              "#7201a8"
             ],
             [
              0.3333333333333333,
              "#9c179e"
             ],
             [
              0.4444444444444444,
              "#bd3786"
             ],
             [
              0.5555555555555556,
              "#d8576b"
             ],
             [
              0.6666666666666666,
              "#ed7953"
             ],
             [
              0.7777777777777778,
              "#fb9f3a"
             ],
             [
              0.8888888888888888,
              "#fdca26"
             ],
             [
              1,
              "#f0f921"
             ]
            ],
            "type": "heatmap"
           }
          ],
          "heatmapgl": [
           {
            "colorbar": {
             "outlinewidth": 0,
             "ticks": ""
            },
            "colorscale": [
             [
              0,
              "#0d0887"
             ],
             [
              0.1111111111111111,
              "#46039f"
             ],
             [
              0.2222222222222222,
              "#7201a8"
             ],
             [
              0.3333333333333333,
              "#9c179e"
             ],
             [
              0.4444444444444444,
              "#bd3786"
             ],
             [
              0.5555555555555556,
              "#d8576b"
             ],
             [
              0.6666666666666666,
              "#ed7953"
             ],
             [
              0.7777777777777778,
              "#fb9f3a"
             ],
             [
              0.8888888888888888,
              "#fdca26"
             ],
             [
              1,
              "#f0f921"
             ]
            ],
            "type": "heatmapgl"
           }
          ],
          "histogram": [
           {
            "marker": {
             "pattern": {
              "fillmode": "overlay",
              "size": 10,
              "solidity": 0.2
             }
            },
            "type": "histogram"
           }
          ],
          "histogram2d": [
           {
            "colorbar": {
             "outlinewidth": 0,
             "ticks": ""
            },
            "colorscale": [
             [
              0,
              "#0d0887"
             ],
             [
              0.1111111111111111,
              "#46039f"
             ],
             [
              0.2222222222222222,
              "#7201a8"
             ],
             [
              0.3333333333333333,
              "#9c179e"
             ],
             [
              0.4444444444444444,
              "#bd3786"
             ],
             [
              0.5555555555555556,
              "#d8576b"
             ],
             [
              0.6666666666666666,
              "#ed7953"
             ],
             [
              0.7777777777777778,
              "#fb9f3a"
             ],
             [
              0.8888888888888888,
              "#fdca26"
             ],
             [
              1,
              "#f0f921"
             ]
            ],
            "type": "histogram2d"
           }
          ],
          "histogram2dcontour": [
           {
            "colorbar": {
             "outlinewidth": 0,
             "ticks": ""
            },
            "colorscale": [
             [
              0,
              "#0d0887"
             ],
             [
              0.1111111111111111,
              "#46039f"
             ],
             [
              0.2222222222222222,
              "#7201a8"
             ],
             [
              0.3333333333333333,
              "#9c179e"
             ],
             [
              0.4444444444444444,
              "#bd3786"
             ],
             [
              0.5555555555555556,
              "#d8576b"
             ],
             [
              0.6666666666666666,
              "#ed7953"
             ],
             [
              0.7777777777777778,
              "#fb9f3a"
             ],
             [
              0.8888888888888888,
              "#fdca26"
             ],
             [
              1,
              "#f0f921"
             ]
            ],
            "type": "histogram2dcontour"
           }
          ],
          "mesh3d": [
           {
            "colorbar": {
             "outlinewidth": 0,
             "ticks": ""
            },
            "type": "mesh3d"
           }
          ],
          "parcoords": [
           {
            "line": {
             "colorbar": {
              "outlinewidth": 0,
              "ticks": ""
             }
            },
            "type": "parcoords"
           }
          ],
          "pie": [
           {
            "automargin": true,
            "type": "pie"
           }
          ],
          "scatter": [
           {
            "fillpattern": {
             "fillmode": "overlay",
             "size": 10,
             "solidity": 0.2
            },
            "type": "scatter"
           }
          ],
          "scatter3d": [
           {
            "line": {
             "colorbar": {
              "outlinewidth": 0,
              "ticks": ""
             }
            },
            "marker": {
             "colorbar": {
              "outlinewidth": 0,
              "ticks": ""
             }
            },
            "type": "scatter3d"
           }
          ],
          "scattercarpet": [
           {
            "marker": {
             "colorbar": {
              "outlinewidth": 0,
              "ticks": ""
             }
            },
            "type": "scattercarpet"
           }
          ],
          "scattergeo": [
           {
            "marker": {
             "colorbar": {
              "outlinewidth": 0,
              "ticks": ""
             }
            },
            "type": "scattergeo"
           }
          ],
          "scattergl": [
           {
            "marker": {
             "colorbar": {
              "outlinewidth": 0,
              "ticks": ""
             }
            },
            "type": "scattergl"
           }
          ],
          "scattermapbox": [
           {
            "marker": {
             "colorbar": {
              "outlinewidth": 0,
              "ticks": ""
             }
            },
            "type": "scattermapbox"
           }
          ],
          "scatterpolar": [
           {
            "marker": {
             "colorbar": {
              "outlinewidth": 0,
              "ticks": ""
             }
            },
            "type": "scatterpolar"
           }
          ],
          "scatterpolargl": [
           {
            "marker": {
             "colorbar": {
              "outlinewidth": 0,
              "ticks": ""
             }
            },
            "type": "scatterpolargl"
           }
          ],
          "scatterternary": [
           {
            "marker": {
             "colorbar": {
              "outlinewidth": 0,
              "ticks": ""
             }
            },
            "type": "scatterternary"
           }
          ],
          "surface": [
           {
            "colorbar": {
             "outlinewidth": 0,
             "ticks": ""
            },
            "colorscale": [
             [
              0,
              "#0d0887"
             ],
             [
              0.1111111111111111,
              "#46039f"
             ],
             [
              0.2222222222222222,
              "#7201a8"
             ],
             [
              0.3333333333333333,
              "#9c179e"
             ],
             [
              0.4444444444444444,
              "#bd3786"
             ],
             [
              0.5555555555555556,
              "#d8576b"
             ],
             [
              0.6666666666666666,
              "#ed7953"
             ],
             [
              0.7777777777777778,
              "#fb9f3a"
             ],
             [
              0.8888888888888888,
              "#fdca26"
             ],
             [
              1,
              "#f0f921"
             ]
            ],
            "type": "surface"
           }
          ],
          "table": [
           {
            "cells": {
             "fill": {
              "color": "#EBF0F8"
             },
             "line": {
              "color": "white"
             }
            },
            "header": {
             "fill": {
              "color": "#C8D4E3"
             },
             "line": {
              "color": "white"
             }
            },
            "type": "table"
           }
          ]
         },
         "layout": {
          "annotationdefaults": {
           "arrowcolor": "#2a3f5f",
           "arrowhead": 0,
           "arrowwidth": 1
          },
          "autotypenumbers": "strict",
          "coloraxis": {
           "colorbar": {
            "outlinewidth": 0,
            "ticks": ""
           }
          },
          "colorscale": {
           "diverging": [
            [
             0,
             "#8e0152"
            ],
            [
             0.1,
             "#c51b7d"
            ],
            [
             0.2,
             "#de77ae"
            ],
            [
             0.3,
             "#f1b6da"
            ],
            [
             0.4,
             "#fde0ef"
            ],
            [
             0.5,
             "#f7f7f7"
            ],
            [
             0.6,
             "#e6f5d0"
            ],
            [
             0.7,
             "#b8e186"
            ],
            [
             0.8,
             "#7fbc41"
            ],
            [
             0.9,
             "#4d9221"
            ],
            [
             1,
             "#276419"
            ]
           ],
           "sequential": [
            [
             0,
             "#0d0887"
            ],
            [
             0.1111111111111111,
             "#46039f"
            ],
            [
             0.2222222222222222,
             "#7201a8"
            ],
            [
             0.3333333333333333,
             "#9c179e"
            ],
            [
             0.4444444444444444,
             "#bd3786"
            ],
            [
             0.5555555555555556,
             "#d8576b"
            ],
            [
             0.6666666666666666,
             "#ed7953"
            ],
            [
             0.7777777777777778,
             "#fb9f3a"
            ],
            [
             0.8888888888888888,
             "#fdca26"
            ],
            [
             1,
             "#f0f921"
            ]
           ],
           "sequentialminus": [
            [
             0,
             "#0d0887"
            ],
            [
             0.1111111111111111,
             "#46039f"
            ],
            [
             0.2222222222222222,
             "#7201a8"
            ],
            [
             0.3333333333333333,
             "#9c179e"
            ],
            [
             0.4444444444444444,
             "#bd3786"
            ],
            [
             0.5555555555555556,
             "#d8576b"
            ],
            [
             0.6666666666666666,
             "#ed7953"
            ],
            [
             0.7777777777777778,
             "#fb9f3a"
            ],
            [
             0.8888888888888888,
             "#fdca26"
            ],
            [
             1,
             "#f0f921"
            ]
           ]
          },
          "colorway": [
           "#636efa",
           "#EF553B",
           "#00cc96",
           "#ab63fa",
           "#FFA15A",
           "#19d3f3",
           "#FF6692",
           "#B6E880",
           "#FF97FF",
           "#FECB52"
          ],
          "font": {
           "color": "#2a3f5f"
          },
          "geo": {
           "bgcolor": "white",
           "lakecolor": "white",
           "landcolor": "#E5ECF6",
           "showlakes": true,
           "showland": true,
           "subunitcolor": "white"
          },
          "hoverlabel": {
           "align": "left"
          },
          "hovermode": "closest",
          "mapbox": {
           "style": "light"
          },
          "paper_bgcolor": "white",
          "plot_bgcolor": "#E5ECF6",
          "polar": {
           "angularaxis": {
            "gridcolor": "white",
            "linecolor": "white",
            "ticks": ""
           },
           "bgcolor": "#E5ECF6",
           "radialaxis": {
            "gridcolor": "white",
            "linecolor": "white",
            "ticks": ""
           }
          },
          "scene": {
           "xaxis": {
            "backgroundcolor": "#E5ECF6",
            "gridcolor": "white",
            "gridwidth": 2,
            "linecolor": "white",
            "showbackground": true,
            "ticks": "",
            "zerolinecolor": "white"
           },
           "yaxis": {
            "backgroundcolor": "#E5ECF6",
            "gridcolor": "white",
            "gridwidth": 2,
            "linecolor": "white",
            "showbackground": true,
            "ticks": "",
            "zerolinecolor": "white"
           },
           "zaxis": {
            "backgroundcolor": "#E5ECF6",
            "gridcolor": "white",
            "gridwidth": 2,
            "linecolor": "white",
            "showbackground": true,
            "ticks": "",
            "zerolinecolor": "white"
           }
          },
          "shapedefaults": {
           "line": {
            "color": "#2a3f5f"
           }
          },
          "ternary": {
           "aaxis": {
            "gridcolor": "white",
            "linecolor": "white",
            "ticks": ""
           },
           "baxis": {
            "gridcolor": "white",
            "linecolor": "white",
            "ticks": ""
           },
           "bgcolor": "#E5ECF6",
           "caxis": {
            "gridcolor": "white",
            "linecolor": "white",
            "ticks": ""
           }
          },
          "title": {
           "x": 0.05
          },
          "xaxis": {
           "automargin": true,
           "gridcolor": "white",
           "linecolor": "white",
           "ticks": "",
           "title": {
            "standoff": 15
           },
           "zerolinecolor": "white",
           "zerolinewidth": 2
          },
          "yaxis": {
           "automargin": true,
           "gridcolor": "white",
           "linecolor": "white",
           "ticks": "",
           "title": {
            "standoff": 15
           },
           "zerolinecolor": "white",
           "zerolinewidth": 2
          }
         }
        }
       }
      }
     },
     "metadata": {},
     "output_type": "display_data"
    },
    {
     "name": "stdout",
     "output_type": "stream",
     "text": [
      "$execute positioned ^-1 ^0 ^-1 if block ~ ~ ~ minecraft:farmland if block ~ ~1 ~ air run function snc:shifters/utility/setblock/plant {\"shifter\":$(shifter),\"crop\":$(crop),\"seeds\":$(seeds)}\n",
      "$execute positioned ^-1 ^1 ^-1 if block ~ ~ ~ minecraft:farmland if block ~ ~1 ~ air run function snc:shifters/utility/setblock/plant {\"shifter\":$(shifter),\"crop\":$(crop),\"seeds\":$(seeds)}\n",
      "$execute positioned ^-1 ^0 ^0 if block ~ ~ ~ minecraft:farmland if block ~ ~1 ~ air run function snc:shifters/utility/setblock/plant {\"shifter\":$(shifter),\"crop\":$(crop),\"seeds\":$(seeds)}\n",
      "$execute positioned ^-1 ^1 ^0 if block ~ ~ ~ minecraft:farmland if block ~ ~1 ~ air run function snc:shifters/utility/setblock/plant {\"shifter\":$(shifter),\"crop\":$(crop),\"seeds\":$(seeds)}\n",
      "$execute positioned ^-1 ^0 ^1 if block ~ ~ ~ minecraft:farmland if block ~ ~1 ~ air run function snc:shifters/utility/setblock/plant {\"shifter\":$(shifter),\"crop\":$(crop),\"seeds\":$(seeds)}\n",
      "$execute positioned ^-1 ^1 ^1 if block ~ ~ ~ minecraft:farmland if block ~ ~1 ~ air run function snc:shifters/utility/setblock/plant {\"shifter\":$(shifter),\"crop\":$(crop),\"seeds\":$(seeds)}\n",
      "$execute positioned ^0 ^0 ^-1 if block ~ ~ ~ minecraft:farmland if block ~ ~1 ~ air run function snc:shifters/utility/setblock/plant {\"shifter\":$(shifter),\"crop\":$(crop),\"seeds\":$(seeds)}\n",
      "$execute positioned ^0 ^1 ^-1 if block ~ ~ ~ minecraft:farmland if block ~ ~1 ~ air run function snc:shifters/utility/setblock/plant {\"shifter\":$(shifter),\"crop\":$(crop),\"seeds\":$(seeds)}\n",
      "$execute positioned ^0 ^0 ^0 if block ~ ~ ~ minecraft:farmland if block ~ ~1 ~ air run function snc:shifters/utility/setblock/plant {\"shifter\":$(shifter),\"crop\":$(crop),\"seeds\":$(seeds)}\n",
      "$execute positioned ^0 ^1 ^0 if block ~ ~ ~ minecraft:farmland if block ~ ~1 ~ air run function snc:shifters/utility/setblock/plant {\"shifter\":$(shifter),\"crop\":$(crop),\"seeds\":$(seeds)}\n",
      "$execute positioned ^0 ^0 ^1 if block ~ ~ ~ minecraft:farmland if block ~ ~1 ~ air run function snc:shifters/utility/setblock/plant {\"shifter\":$(shifter),\"crop\":$(crop),\"seeds\":$(seeds)}\n",
      "$execute positioned ^0 ^1 ^1 if block ~ ~ ~ minecraft:farmland if block ~ ~1 ~ air run function snc:shifters/utility/setblock/plant {\"shifter\":$(shifter),\"crop\":$(crop),\"seeds\":$(seeds)}\n",
      "$execute positioned ^1 ^0 ^-1 if block ~ ~ ~ minecraft:farmland if block ~ ~1 ~ air run function snc:shifters/utility/setblock/plant {\"shifter\":$(shifter),\"crop\":$(crop),\"seeds\":$(seeds)}\n",
      "$execute positioned ^1 ^1 ^-1 if block ~ ~ ~ minecraft:farmland if block ~ ~1 ~ air run function snc:shifters/utility/setblock/plant {\"shifter\":$(shifter),\"crop\":$(crop),\"seeds\":$(seeds)}\n",
      "$execute positioned ^1 ^0 ^0 if block ~ ~ ~ minecraft:farmland if block ~ ~1 ~ air run function snc:shifters/utility/setblock/plant {\"shifter\":$(shifter),\"crop\":$(crop),\"seeds\":$(seeds)}\n",
      "$execute positioned ^1 ^1 ^0 if block ~ ~ ~ minecraft:farmland if block ~ ~1 ~ air run function snc:shifters/utility/setblock/plant {\"shifter\":$(shifter),\"crop\":$(crop),\"seeds\":$(seeds)}\n",
      "$execute positioned ^1 ^0 ^1 if block ~ ~ ~ minecraft:farmland if block ~ ~1 ~ air run function snc:shifters/utility/setblock/plant {\"shifter\":$(shifter),\"crop\":$(crop),\"seeds\":$(seeds)}\n",
      "$execute positioned ^1 ^1 ^1 if block ~ ~ ~ minecraft:farmland if block ~ ~1 ~ air run function snc:shifters/utility/setblock/plant {\"shifter\":$(shifter),\"crop\":$(crop),\"seeds\":$(seeds)}\n",
      "execute positioned ^-1 ^0 ^-1 if block ~ ~ ~ #minecraft:crops run function snc:shifters/utility/setblock/harvest\n",
      "execute positioned ^-1 ^0 ^0 if block ~ ~ ~ #minecraft:crops run function snc:shifters/utility/setblock/harvest\n",
      "execute positioned ^-1 ^0 ^1 if block ~ ~ ~ #minecraft:crops run function snc:shifters/utility/setblock/harvest\n",
      "execute positioned ^0 ^0 ^-1 if block ~ ~ ~ #minecraft:crops run function snc:shifters/utility/setblock/harvest\n",
      "execute positioned ^0 ^0 ^0 if block ~ ~ ~ #minecraft:crops run function snc:shifters/utility/setblock/harvest\n",
      "execute positioned ^0 ^0 ^1 if block ~ ~ ~ #minecraft:crops run function snc:shifters/utility/setblock/harvest\n",
      "execute positioned ^1 ^0 ^-1 if block ~ ~ ~ #minecraft:crops run function snc:shifters/utility/setblock/harvest\n",
      "execute positioned ^1 ^0 ^0 if block ~ ~ ~ #minecraft:crops run function snc:shifters/utility/setblock/harvest\n",
      "execute positioned ^1 ^0 ^1 if block ~ ~ ~ #minecraft:crops run function snc:shifters/utility/setblock/harvest\n"
     ]
    },
    {
     "data": {
      "text/plain": [
       "[[-1, 0, -1],\n",
       " [-1, 0, 0],\n",
       " [-1, 0, 1],\n",
       " [0, 0, -1],\n",
       " [0, 0, 0],\n",
       " [0, 0, 1],\n",
       " [1, 0, -1],\n",
       " [1, 0, 0],\n",
       " [1, 0, 1]]"
      ]
     },
     "execution_count": 5,
     "metadata": {},
     "output_type": "execute_result"
    }
   ],
   "source": [
    "## Cart\n",
    "plot_3d_scatter(destroy_and_replace(2,2,\"cart\",\"farm\"))\n",
    "destroy_and_replace(2,2,\"cart\",\"crops\")\n",
    "destroy_and_replace(2,1,\"cart\",\"harvest\")"
   ]
  }
 ],
 "metadata": {
  "kernelspec": {
   "display_name": "base",
   "language": "python",
   "name": "python3"
  },
  "language_info": {
   "codemirror_mode": {
    "name": "ipython",
    "version": 3
   },
   "file_extension": ".py",
   "mimetype": "text/x-python",
   "name": "python",
   "nbconvert_exporter": "python",
   "pygments_lexer": "ipython3",
   "version": "3.9.13"
  }
 },
 "nbformat": 4,
 "nbformat_minor": 2
}
