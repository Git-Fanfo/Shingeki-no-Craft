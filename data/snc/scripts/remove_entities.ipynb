{
 "cells": [
  {
   "cell_type": "code",
   "execution_count": 49,
   "metadata": {},
   "outputs": [
    {
     "name": "stdout",
     "output_type": "stream",
     "text": [
      "Monsters not found on minecraft:the_void\n",
      "Deleted minecraft:spider from minecraft:wooded_badlands\n",
      "Deleted minecraft:zombie_villager from minecraft:wooded_badlands\n"
     ]
    }
   ],
   "source": [
    "import os\n",
    "import json\n",
    "import shutil\n",
    "\n",
    "### EDIT THIS ###\n",
    "banned_monsters = ['minecraft:spider']\n",
    "### EDIT THIS ###\n",
    "\n",
    "### DON'T TOUCH ###\n",
    "banned_monsters.append('minecraft:zombie_villager')\n",
    "\n",
    "directory_path = './biomes'\n",
    "namespaces = [d for d in os.listdir(directory_path) if os.path.isdir(os.path.join(directory_path, d))]\n",
    "\n",
    "for namespace in namespaces:\n",
    "    worldgen_path = '../../'+namespace+'/worldgen'\n",
    "    # Check if the folder exists\n",
    "    if os.path.exists(worldgen_path) and os.path.isdir(worldgen_path):\n",
    "        # Delete it\n",
    "        shutil.rmtree(worldgen_path)\n",
    "        print(\"Folder deleted 🗑️\")\n",
    "    # Create the folder again\n",
    "    os.makedirs(worldgen_path)\n",
    "\n",
    "    biomes = [f for f in os.listdir('./biomes/'+namespace) if os.path.isfile(os.path.join('./biomes/'+namespace, f))]\n",
    "    for biome in biomes:\n",
    "        with open('./biomes/'+namespace+'/'+biome, 'r') as f:\n",
    "            conditions = json.loads(f.read())\n",
    "\n",
    "            if(len(conditions['spawners']['monster']) >= 1):\n",
    "                new_monsters = []\n",
    "                for monster in conditions['spawners']['monster']:\n",
    "                    if not(monster['type'] in banned_monsters):\n",
    "                        new_monsters.append(monster)\n",
    "                    else:\n",
    "                        print('Deleted',monster['type'],'from',namespace+':'+biome[:-5])\n",
    "                conditions['spawners']['monster'] = new_monsters\n",
    "            else:\n",
    "                print('Monsters not found on',namespace+':'+biome[:-5])\n",
    "            # Write file\n",
    "            # print('../../'+namespace+'/'+biome)\n",
    "            with open('../../'+namespace+'/worldgen/'+biome, 'w') as file:\n",
    "                json.dump(conditions, file, indent=4)"
   ]
  }
 ],
 "metadata": {
  "kernelspec": {
   "display_name": "base",
   "language": "python",
   "name": "python3"
  },
  "language_info": {
   "codemirror_mode": {
    "name": "ipython",
    "version": 3
   },
   "file_extension": ".py",
   "mimetype": "text/x-python",
   "name": "python",
   "nbconvert_exporter": "python",
   "pygments_lexer": "ipython3",
   "version": "3.9.13"
  }
 },
 "nbformat": 4,
 "nbformat_minor": 2
}
