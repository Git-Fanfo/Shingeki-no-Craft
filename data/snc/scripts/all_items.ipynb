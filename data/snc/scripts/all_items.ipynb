{
 "cells": [
  {
   "cell_type": "code",
   "execution_count": 123,
   "metadata": {},
   "outputs": [],
   "source": [
    "import os\n",
    "import json\n",
    "\n",
    "def search_files_for_term(directory, search_term):\n",
    "    \"\"\"\n",
    "    Searches for files in the given directory that contain the specified search_term.\n",
    "    \n",
    "    Parameters:\n",
    "    - directory (str): The directory to search in.\n",
    "    - search_term (str): The term to search for within the files.\n",
    "    \"\"\"\n",
    "    # Check if the provided directory exists\n",
    "    if not os.path.isdir(directory):\n",
    "        print(\"The specified directory does not exist. Please check the path.\")\n",
    "        return\n",
    "\n",
    "    # List to hold names of files containing the search term\n",
    "    files_with_term = []\n",
    "\n",
    "    # Walking through the directory\n",
    "    for root, dirs, files in os.walk(directory):\n",
    "        for file in files:\n",
    "            # Construct the full file path\n",
    "            file_path = os.path.join(root, file)\n",
    "            try:\n",
    "                # Open and read the file contents\n",
    "                with open(file_path, 'r') as f:\n",
    "                    contents_str = f.read()\n",
    "                    if search_term in contents_str:\n",
    "                        contents_dict = json.loads(contents_str)\n",
    "                        files_with_term.append(contents_dict['result'])\n",
    "            except Exception as e:\n",
    "                print(f\"An error occurred while reading {file}: {e}\")\n",
    "    return files_with_term"
   ]
  },
  {
   "cell_type": "code",
   "execution_count": 124,
   "metadata": {},
   "outputs": [],
   "source": [
    "# Call the function with the specified directory and search term\n",
    "# Store into variable 'items'\n",
    "items = search_files_for_term(directory='../recipes', search_term='snc_item')"
   ]
  },
  {
   "cell_type": "markdown",
   "metadata": {},
   "source": [
    "### Recipes to /give (Optional)"
   ]
  },
  {
   "cell_type": "code",
   "execution_count": 125,
   "metadata": {},
   "outputs": [],
   "source": [
    "def json_to_mc_give_command(json_data):\n",
    "    # Start building the command with the ID and basic structure\n",
    "    command = f\"give @s {json_data['id']}\"\n",
    "\n",
    "    # Add components\n",
    "    if 'components' in json_data:\n",
    "        components_strings = []\n",
    "        for component_key, component_value in json_data['components'].items():\n",
    "            # Special handling for nested 'custom_data'\n",
    "            if component_key == 'custom_data':\n",
    "                custom_data_strs = [f\"{k}:{v}\" for k, v in component_value.items()]\n",
    "                components_strings.append(f\"{component_key}={{{', '.join(custom_data_strs)}}}\")\n",
    "            else:\n",
    "                # Directly turning the component's value into a string\n",
    "                # {'minecraft:custom_name': \"value\"} becomes \"minecraft:custom_name='value'\"\n",
    "                # Note: For non-string types, we don't use quotes.\n",
    "                component_value_str = f\"'{component_value}'\" if isinstance(component_value, str) else str(component_value)\n",
    "                components_strings.append(f\"{component_key}={component_value_str}\")\n",
    "\n",
    "        # Combine components into the command\n",
    "        components_str = ','.join(components_strings)\n",
    "        command += f\"[{components_str}]\"\n",
    "\n",
    "    # Add count at the end\n",
    "    if 'count' in json_data:\n",
    "        command += f\" {json_data['count']}\"\n",
    "\n",
    "    return command"
   ]
  },
  {
   "cell_type": "code",
   "execution_count": 126,
   "metadata": {},
   "outputs": [
    {
     "name": "stdout",
     "output_type": "stream",
     "text": [
      "give @s minecraft:potion[custom_data={snc_item:1},custom_model_data=3,custom_name='{\"translate\":\"Apple Juice\",\"italic\":false}',potion_contents={'custom_color': 16777215, 'custom_effects': [{'id': 'minecraft:speed', 'amplifier': 0, 'duration': 2400, 'ambient': False, 'show_particles': False, 'show_icon': False}, {'id': 'minecraft:instant_health', 'amplifier': 0, 'duration': 40, 'ambient': False, 'show_particles': False, 'show_icon': False}, {'id': 'minecraft:jump_boost', 'amplifier': 0, 'duration': 2400, 'ambient': False, 'show_particles': False, 'show_icon': False}, {'id': 'minecraft:weakness', 'amplifier': 0, 'duration': 600, 'ambient': False, 'show_particles': False, 'show_icon': False}, {'id': 'minecraft:saturation', 'amplifier': 3, 'duration': 40, 'ambient': False, 'show_particles': False, 'show_icon': False}]}] 1\n",
      "give @s minecraft:potion[custom_data={snc_item:1},custom_model_data=4,custom_name='{\"translate\":\"Beetroot Beer\",\"italic\":false}',potion_contents={'custom_color': 16777215, 'custom_effects': [{'id': 'minecraft:slowness', 'amplifier': 0, 'duration': 1200, 'ambient': False, 'show_particles': False, 'show_icon': False}, {'id': 'minecraft:haste', 'amplifier': 0, 'duration': 2400, 'ambient': False, 'show_particles': False, 'show_icon': False}, {'id': 'minecraft:strength', 'amplifier': 0, 'duration': 2400, 'ambient': False, 'show_particles': False, 'show_icon': False}, {'id': 'minecraft:blindness', 'amplifier': 0, 'duration': 100, 'ambient': False, 'show_particles': False, 'show_icon': False}, {'id': 'minecraft:saturation', 'amplifier': 3, 'duration': 40, 'ambient': False, 'show_particles': False, 'show_icon': False}]}] 1\n",
      "give @s minecraft:potion[custom_data={snc_item:1},custom_model_data=5,custom_name='{\"translate\":\"Watermelon Juice\",\"italic\":false}',potion_contents={'custom_color': 16777215, 'custom_effects': [{'id': 'minecraft:slowness', 'amplifier': 0, 'duration': 1200, 'ambient': False, 'show_particles': False, 'show_icon': False}, {'id': 'minecraft:water_breathing', 'amplifier': 0, 'duration': 1200, 'ambient': False, 'show_particles': False, 'show_icon': False}, {'id': 'minecraft:weakness', 'amplifier': 0, 'duration': 900, 'ambient': False, 'show_particles': False, 'show_icon': False}, {'id': 'minecraft:health_boost', 'amplifier': 1, 'duration': 2400, 'ambient': False, 'show_particles': False, 'show_icon': False}, {'id': 'minecraft:saturation', 'amplifier': 3, 'duration': 40, 'ambient': False, 'show_particles': False, 'show_icon': False}]}] 1\n",
      "give @s minecraft:potion[custom_data={snc_item:1},custom_model_data=1,custom_name='{\"translate\":\"Berry Wine\",\"italic\":false}',potion_contents={'custom_color': 16777215, 'custom_effects': [{'id': 'minecraft:resistance', 'amplifier': 0, 'duration': 1800, 'ambient': False, 'show_particles': False, 'show_icon': False}, {'id': 'minecraft:absorption', 'amplifier': 0, 'duration': 3600, 'ambient': False, 'show_particles': False, 'show_icon': False}, {'id': 'minecraft:regeneration', 'amplifier': 1, 'duration': 900, 'ambient': False, 'show_particles': False, 'show_icon': False}, {'id': 'minecraft:saturation', 'amplifier': 3, 'duration': 40, 'ambient': False, 'show_particles': False, 'show_icon': False}, {'id': 'minecraft:slowness', 'amplifier': 0, 'duration': 600, 'ambient': False, 'show_particles': False, 'show_icon': False}, {'id': 'minecraft:nausea', 'amplifier': 0, 'duration': 200, 'ambient': False, 'show_particles': False, 'show_icon': False}]}] 1\n",
      "give @s minecraft:quartz[custom_data={snc_item:1},minecraft:custom_model_data=1,minecraft:custom_name='{\"translate\":\"aot.gun.jar\",\"color\":\"white\",\"italic\":false}'] 1\n",
      "give @s minecraft:carrot_on_a_stick[custom_data={build:1, snc_item:1},minecraft:custom_model_data=41,minecraft:custom_name='{\"translate\":\"aot.build.wrench\",\"italic\":false}',minecraft:lore=['{\"translate\":\"aot.build.wrench.desc\",\"color\":\"gray\",\"italic\":false}', '{\"translate\":\"aot.build.wrench.desc2\",\"color\":\"gray\",\"italic\":false}', '[{\"translate\":\"aot.build.wrench.desc3\",\"color\":\"gold\",\"italic\":false},{\"text\":\".\",\"color\":\"gray\",\"italic\":false}]', '{\"text\":\" \"}', '{\"translate\":\"aot.used\",\"color\":\"gray\",\"italic\":false}', '{\"translate\":\"aot.build\",\"color\":\"blue\",\"italic\":false}']] 1\n",
      "give @s minecraft:carrot_on_a_stick[custom_data={handcuffs:1, snc_item:1},minecraft:custom_model_data=42,minecraft:custom_name='{\"translate\":\"aot.handcuffs\",\"color\":\"white\",\"italic\":false}',minecraft:lore=['[{\"translate\":\"aot.handcuffs.desc\",\"color\":\"gray\",\"italic\":false},\" \",{\"translate\":\"aot.handcuffs.desc2\",\"color\":\"aqua\",\"italic\":false}]', '[{\"translate\":\"aot.handcuffs.desc3\",\"color\":\"dark_red\",\"italic\":false},\" \",{\"translate\":\"aot.handcuffs.desc4\",\"color\":\"gray\",\"italic\":false},\" \",{\"translate\":\"villagers\",\"italic\":false}]']] 1\n",
      "give @s minecraft:carrot_on_a_stick[custom_data={inj:1, snc_item:1},minecraft:custom_model_data=13,minecraft:custom_name='{\"translate\":\"aot.syringe\",\"color\":\"white\",\"italic\":false}',minecraft:lore=['{\"translate\":\"aot.syringe.desc\",\"color\":\"gray\",\"italic\":false}', '{\"translate\":\"aot.syringe.desc2\",\"color\":\"gray\",\"italic\":false}', '{\"text\":\" \",\"color\":\"gray\",\"italic\":false}', '{\"translate\":\"aot.syringe.desc3\",\"color\":\"blue\",\"italic\":false}']] 1\n",
      "give @s minecraft:carrot_on_a_stick[custom_data={add:1, needle:1, snc_item:1},minecraft:custom_name='{\"translate\":\"aot.needle\",\"color\":\"white\",\"italic\":false}',minecraft:lore=['{\"translate\":\"aot.needle.desc\",\"color\":\"gray\",\"italic\":false}', '{\"translate\":\"aot.needle.desc2\",\"color\":\"gray\",\"italic\":false}', '{\"text\":\" \",\"color\":\"gray\",\"italic\":false}', '{\"translate\":\"aot.used\",\"color\":\"gray\",\"italic\":false}', '[{\"text\":\"\"},{\"translate\":\"effect.minecraft.instant_damage\",\"color\":\"blue\",\"italic\":false}]'],minecraft:custom_model_data=28,minecraft:attribute_modifiers=[{'type': 'generic.attack_damage', 'name': 'generic.attack_damage', 'amount': 0.5, 'operation': 'add_value', 'uuid': [2027707325, 374294181, -2037583379, -2092882926], 'slot': 'mainhand'}]] 1\n",
      "give @s minecraft:carrot_on_a_stick[custom_data={add:1, snc_item:1},minecraft:custom_name='{\"translate\":\"aot.scissors\",\"color\":\"white\",\"italic\":false}',minecraft:lore=['{\"translate\":\"aot.scissors.desc\",\"color\":\"gray\",\"italic\":false}', '{\"translate\":\"aot.scissors.desc2\",\"color\":\"gray\",\"italic\":false}', '{\"text\":\" \",\"color\":\"gray\",\"italic\":false}', '{\"translate\":\"aot.used\",\"color\":\"gray\",\"italic\":false}', '[{\"text\":\"\"},{\"translate\":\"effect.minecraft.instant_damage\",\"color\":\"blue\",\"italic\":false}]'],minecraft:custom_model_data=5,minecraft:attribute_modifiers=[{'type': 'generic.attack_damage', 'name': 'generic.attack_damage', 'amount': 1, 'operation': 'add_value', 'uuid': [2027707325, 374294181, -2037583379, -2092882926], 'slot': 'mainhand'}]] 1\n",
      "give @s minecraft:iron_ingot[custom_data={snc_item:1},minecraft:custom_model_data=1,minecraft:custom_name='{\"translate\":\"aot.steel\",\"color\":\"dark_red\",\"italic\":false}',minecraft:lore=['{\"translate\":\"aot.steelblade.desc\",\"color\":\"gray\",\"italic\":false}', '{\"translate\":\"aot.steelblade.desc2\",\"color\":\"gray\",\"italic\":false}', '{\"translate\":\"aot.steelblade.desc3\",\"color\":\"gray\",\"italic\":false}']] 3\n",
      "give @s minecraft:carrot_on_a_stick[custom_data={trigger:1, snc_item:1},damage=0,minecraft:custom_model_data=2,minecraft:custom_name='{\"translate\":\"aot.gas\",\"color\":\"white\",\"italic\":false}',minecraft:lore=['{\"translate\":\"aot.gas.desc2\",\"color\":\"gray\",\"italic\":false}', '{\"translate\":\"aot.gas.desc3\",\"color\":\"gray\",\"italic\":false}', '{\"text\":\" \",\"color\":\"gray\",\"italic\":false}', '[{\"translate\":\"aot.odmstatus\",\"color\":\"gray\",\"italic\":false}]', '[{\"text\":\"\"},{\"translate\":\"aot.odmstatus.swing\",\"color\":\"blue\",\"italic\":false}]'],minecraft:dyed_color=16777215,minecraft:attribute_modifiers=[{'type': 'generic.attack_speed', 'name': 'generic.attack_speed', 'amount': -0.3, 'operation': 'add_value', 'uuid': [503885493, 1735674700, -1249634279, 1768712874], 'slot': 'mainhand'}]] 1\n",
      "give @s minecraft:carrot_on_a_stick[custom_data={blade:1, trigger:1, snc_item:1},damage=0,minecraft:custom_model_data=1,minecraft:custom_name='[{\"translate\":\"aot.gas\",\"color\":\"dark_red\",\"italic\":false},{\"text\":\" (\",\"color\":\"dark_red\"},{\"translate\":\"aot.steel\",\"color\":\"dark_red\"},{\"text\":\")\",\"color\":\"dark_red\"}]',minecraft:lore=['{\"translate\":\"aot.gas2.desc\",\"color\":\"gray\",\"italic\":false}', '{\"translate\":\"aot.gas2.desc2\",\"color\":\"gray\",\"italic\":false}', '{\"translate\":\"aot.gas2.desc3\",\"color\":\"gray\",\"italic\":false}', '{\"text\":\" \",\"color\":\"gray\",\"italic\":false}', '{\"translate\":\"aot.odmstatus\",\"color\":\"gray\",\"italic\":false}', '[{\"text\":\"\"},{\"translate\":\"aot.odmstatus.swing\",\"color\":\"blue\",\"italic\":false}]'],minecraft:attribute_modifiers=[{'type': 'generic.attack_damage', 'name': 'generic.attack_damage', 'amount': 3, 'operation': 'add_value', 'uuid': [961433901, -739227567, -1840712519, 234389694], 'slot': 'mainhand'}, {'type': 'generic.attack_speed', 'name': 'generic.attack_speed', 'amount': -0.3, 'operation': 'add_value', 'uuid': [503885493, 1735674700, -1249634279, 1768712874], 'slot': 'mainhand'}]] 1\n",
      "give @s minecraft:warped_fungus_on_a_stick[custom_data={odm_gear:1, snc_item:1},minecraft:custom_model_data=3,damage=100,minecraft:custom_name='{\"translate\":\"aot.odm\",\"color\":\"white\",\"italic\":false}',minecraft:lore=['{\"translate\":\"aot.gas.desc2\",\"color\":\"gray\",\"italic\":false}', '{\"translate\":\"aot.gas.desc3\",\"color\":\"gray\",\"italic\":false}', '{\"text\":\" \"}', '{\"translate\":\"aot.odmstatus2\",\"color\":\"gray\",\"italic\":false}', '[{\"text\":\"\"},{\"translate\":\"aot.odmstatus.swing\",\"color\":\"blue\",\"italic\":false}]']] 1\n",
      "give @s minecraft:warped_fungus_on_a_stick[custom_data={blade:1, odm_gear:1, snc_item:1},damage=0,minecraft:custom_model_data=2,minecraft:custom_name='[{\"translate\":\"aot.odm\",\"color\":\"dark_red\",\"italic\":false},{\"text\":\" (\",\"color\":\"dark_red\"},{\"translate\":\"aot.steel\",\"color\":\"dark_red\"},{\"text\":\")\",\"color\":\"dark_red\"}]',minecraft:lore=['{\"translate\":\"aot.gas2.desc\",\"color\":\"gray\",\"italic\":false}', '{\"translate\":\"aot.gas2.desc2\",\"color\":\"gray\",\"italic\":false}', '{\"translate\":\"aot.gas2.desc3\",\"color\":\"gray\",\"italic\":false}', '{\"text\":\" \",\"color\":\"gray\",\"italic\":false}', '{\"translate\":\"aot.odmstatus2\",\"color\":\"gray\",\"italic\":false}', '[{\"text\":\"\"},{\"translate\":\"aot.odmstatus.swing\",\"color\":\"blue\",\"italic\":false}]'],minecraft:attribute_modifiers=[{'type': 'generic.attack_damage', 'name': 'generic.attack_damage', 'amount': 3, 'operation': 'add_value', 'uuid': [-707667393, -1836363835, -1542088599, -1833382903], 'slot': 'offhand'}, {'type': 'generic.attack_speed', 'name': 'generic.attack_speed', 'amount': -0.3, 'operation': 'add_value', 'uuid': [-1155788963, -1882176153, -1781169494, 1828663329], 'slot': 'offhand'}]] 1\n",
      "give @s minecraft:minecart[custom_data={snc_item:1},custom_model_data=5,custom_name='[{\"translate\":\"aot.gun.flare\",\"color\":\"white\",\"italic\":false}]',lore=['{\"translate\":\"aot.gun.flare.desc\",\"color\":\"gray\",\"italic\":false}', '{\"translate\":\"aot.gun.flare.desc2\",\"color\":\"gray\",\"italic\":false}', '{\"translate\":\"aot.gun.flare.desc3\",\"color\":\"gray\",\"italic\":false}', '{\"translate\":\"aot.gun.flare.desc4\",\"color\":\"gray\",\"italic\":false}']] 1\n",
      "give @s minecraft:carrot_on_a_stick[custom_data={gun:1, black:1, snc_item:1},minecraft:custom_model_data=30,minecraft:custom_name='[{\"translate\":\"aot.gun.flare\",\"color\":\"white\",\"italic\":false},\" (\",{\"translate\":\"aot.gun.flare.black\",\"color\":\"dark_gray\"},\")\"]',minecraft:lore=['{\"translate\":\"aot.gun.flare.black.desc\",\"color\":\"gray\",\"italic\":false}', '{\"translate\":\"aot.gun.flare.black.desc2\",\"color\":\"gray\",\"italic\":false}', '{\"text\":\" \"}', '{\"translate\":\"aot.used\",\"color\":\"gray\",\"italic\":false}', '{\"translate\":\"aot.gun.flare.desc5\",\"color\":\"blue\",\"italic\":false}']] 1\n",
      "give @s minecraft:carrot_on_a_stick[custom_data={gun:1, blue:1, snc_item:1},minecraft:custom_model_data=31,minecraft:custom_name='[{\"translate\":\"aot.gun.flare\",\"color\":\"white\",\"italic\":false},\" (\",{\"translate\":\"aot.gun.flare.blue\",\"color\":\"blue\"},\")\"]',minecraft:lore=['{\"translate\":\"aot.gun.flare.blue.desc\",\"color\":\"gray\",\"italic\":false}', '{\"text\":\" \"}', '{\"translate\":\"aot.used\",\"color\":\"gray\",\"italic\":false}', '{\"translate\":\"aot.gun.flare.desc5\",\"color\":\"blue\",\"italic\":false}']] 1\n",
      "give @s minecraft:carrot_on_a_stick[custom_data={gun:1, green:1, snc_item:1},custom_model_data=32,custom_name='[{\"translate\":\"aot.gun.flare\",\"color\":\"white\",\"italic\":false},\" (\",{\"translate\":\"aot.gun.flare.green\",\"color\":\"green\"},\")\"]',lore=['{\"translate\":\"aot.gun.flare.green.desc\",\"color\":\"gray\",\"italic\":false}', '{\"text\":\" \"}', '{\"translate\":\"aot.used\",\"color\":\"gray\",\"italic\":false}', '{\"translate\":\"aot.gun.flare.desc5\",\"color\":\"blue\",\"italic\":false}']] 1\n",
      "give @s minecraft:carrot_on_a_stick[custom_data={gun:1, purple:1, snc_item:1},custom_model_data=33,custom_name='[{\"translate\":\"aot.gun.flare\",\"color\":\"white\",\"italic\":false},\" (\",{\"translate\":\"aot.gun.flare.purple\",\"color\":\"dark_purple\"},\")\"]',lore=['{\"translate\":\"aot.gun.flare.purple.desc\",\"color\":\"gray\",\"italic\":false}', '{\"translate\":\"aot.gun.flare.purple.desc2\",\"color\":\"gray\",\"italic\":false}', '{\"text\":\" \"}', '{\"translate\":\"aot.used\",\"color\":\"gray\",\"italic\":false}', '{\"translate\":\"aot.gun.flare.desc5\",\"color\":\"blue\",\"italic\":false}']] 1\n",
      "give @s minecraft:carrot_on_a_stick[custom_data={gun:1, red:1, snc_item:1},custom_model_data=34,custom_name='[{\"translate\":\"aot.gun.flare\",\"color\":\"white\",\"italic\":false},\" (\",{\"translate\":\"aot.gun.flare.red\",\"color\":\"red\"},\")\"]',lore=['{\"translate\":\"aot.gun.flare.red.desc\",\"color\":\"gray\",\"italic\":false}', '{\"text\":\" \"}', '{\"translate\":\"aot.used\",\"color\":\"gray\",\"italic\":false}', '{\"translate\":\"aot.gun.flare.desc5\",\"color\":\"blue\",\"italic\":false}']] 1\n",
      "give @s minecraft:carrot_on_a_stick[custom_data={gun:1, yellow:1, snc_item:1},custom_model_data=35,custom_name='[{\"translate\":\"aot.gun.flare\",\"color\":\"white\",\"italic\":false},\" (\",{\"translate\":\"aot.gun.flare.yellow\",\"color\":\"yellow\"},\")\"]',lore=['{\"translate\":\"aot.gun.flare.yellow.desc\",\"color\":\"gray\",\"italic\":false}', '{\"translate\":\"aot.gun.flare.yellow.desc2\",\"color\":\"gray\",\"italic\":false}', '{\"text\":\" \"}', '{\"translate\":\"aot.used\",\"color\":\"gray\",\"italic\":false}', '{\"translate\":\"aot.gun.flare.desc5\",\"color\":\"blue\",\"italic\":false}']] 1\n",
      "give @s minecraft:carrot_on_a_stick[custom_data={trigger:1, spear:1, load:1, snc_item:1},minecraft:custom_model_data=25,damage=16,minecraft:custom_name='[{\"translate\":\"aot.gas\",\"color\":\"dark_red\",\"italic\":false},{\"text\":\" (\",\"color\":\"dark_red\"},{\"translate\":\"aot.thunder\",\"color\":\"dark_red\"},{\"text\":\")\",\"color\":\"dark_red\"}]',minecraft:lore=['{\"translate\":\"aot.thunder.desc1\",\"color\":\"gray\",\"italic\":false}', '{\"translate\":\"aot.thunder.desc2\",\"color\":\"gray\",\"italic\":false}', '{\"translate\":\"aot.thunder.desc3\",\"color\":\"gray\",\"italic\":false}', '{\"text\":\" \"}', '{\"translate\":\"aot.odmstatus\",\"color\":\"gray\",\"italic\":false}', '[{\"text\":\"\"},{\"translate\":\"aot.odmstatus.swing\",\"color\":\"blue\",\"italic\":false}]', '{\"text\":\" \"}', '{\"translate\":\"aot.mainhand\",\"color\":\"gray\",\"italic\":false}', '[{\"text\":\"+1 \",\"color\":\"blue\",\"italic\":false},{\"translate\":\"aot.thunder.rew.weight\",\"color\":\"blue\",\"italic\":false}]'],minecraft:attribute_modifiers=[{'type': 'generic.attack_speed', 'name': 'generic.attack_speed', 'amount': -0.3, 'operation': 'add_value', 'uuid': [1671476577, -1623307731, -1514617349, -510885499], 'slot': 'mainhand'}]] 1\n",
      "give @s minecraft:carrot_on_a_stick[custom_data={trigger:1, spear:1, load:1, snc_item:1},minecraft:custom_model_data=26,damage=8,minecraft:custom_name='[{\"translate\":\"aot.gas\",\"color\":\"dark_red\",\"italic\":false},{\"text\":\" (\",\"color\":\"dark_red\"},{\"translate\":\"aot.thunder\",\"color\":\"dark_red\"},{\"text\":\")\",\"color\":\"dark_red\"}]',minecraft:lore=['{\"translate\":\"aot.thunder.desc1\",\"color\":\"gray\",\"italic\":false}', '{\"translate\":\"aot.thunder.desc2\",\"color\":\"gray\",\"italic\":false}', '{\"translate\":\"aot.thunder.desc3\",\"color\":\"gray\",\"italic\":false}', '{\"text\":\" \"}', '{\"translate\":\"aot.odmstatus\",\"color\":\"gray\",\"italic\":false}', '[{\"text\":\"\"},{\"translate\":\"aot.odmstatus.swing\",\"color\":\"blue\",\"italic\":false}]', '{\"text\":\" \"}', '{\"translate\":\"aot.mainhand\",\"color\":\"gray\",\"italic\":false}', '[{\"text\":\"+2 \",\"color\":\"blue\",\"italic\":false},{\"translate\":\"aot.thunder.rew.weight\",\"color\":\"blue\",\"italic\":false}]'],minecraft:attribute_modifiers=[{'type': 'generic.attack_speed', 'name': 'generic.attack_speed', 'amount': -0.3, 'operation': 'add_value', 'uuid': [1671476577, -1623307731, -1514617349, -510885499], 'slot': 'mainhand'}]] 1\n",
      "give @s minecraft:carrot_on_a_stick[custom_data={trigger:1, spear:1, load:1, snc_item:1},minecraft:custom_model_data=27,damage=0,minecraft:custom_name='[{\"translate\":\"aot.gas\",\"color\":\"dark_red\",\"italic\":false},{\"text\":\" (\",\"color\":\"dark_red\"},{\"translate\":\"aot.thunder\",\"color\":\"dark_red\"},{\"text\":\")\",\"color\":\"dark_red\"}]',minecraft:lore=['{\"translate\":\"aot.thunder.desc1\",\"color\":\"gray\",\"italic\":false}', '{\"translate\":\"aot.thunder.desc2\",\"color\":\"gray\",\"italic\":false}', '{\"translate\":\"aot.thunder.desc3\",\"color\":\"gray\",\"italic\":false}', '{\"text\":\" \"}', '{\"translate\":\"aot.odmstatus\",\"color\":\"gray\",\"italic\":false}', '[{\"text\":\"\"},{\"translate\":\"aot.odmstatus.swing\",\"color\":\"blue\",\"italic\":false}]', '{\"text\":\" \"}', '{\"translate\":\"aot.mainhand\",\"color\":\"gray\",\"italic\":false}', '[{\"text\":\"+2 \",\"color\":\"blue\",\"italic\":false},{\"translate\":\"aot.thunder.rew.weight\",\"color\":\"blue\",\"italic\":false}]'],minecraft:attribute_modifiers=[{'type': 'generic.attack_speed', 'name': 'generic.attack_speed', 'amount': -0.3, 'operation': 'add_value', 'uuid': [1671476577, -1623307731, -1514617349, -510885499], 'slot': 'mainhand'}]] 1\n",
      "give @s minecraft:warped_fungus_on_a_stick[custom_data={odm_gear:1, spear:1, load:1, snc_item:1},minecraft:custom_model_data=6,damage=66,minecraft:custom_name='[{\"translate\":\"aot.odm\",\"color\":\"dark_red\",\"italic\":false},{\"text\":\" (\",\"color\":\"dark_red\"},{\"translate\":\"aot.thunder\",\"color\":\"dark_red\"},{\"text\":\")\",\"color\":\"dark_red\"}]',minecraft:lore=['{\"translate\":\"aot.thunder.desc1\",\"color\":\"gray\",\"italic\":false}', '{\"translate\":\"aot.thunder.desc2\",\"color\":\"gray\",\"italic\":false}', '{\"translate\":\"aot.thunder.desc3\",\"color\":\"gray\",\"italic\":false}', '{\"text\":\" \"}', '{\"translate\":\"aot.odmstatus2\",\"color\":\"gray\",\"italic\":false}', '[{\"text\":\"\"},{\"translate\":\"aot.odmstatus.swing\",\"color\":\"blue\",\"italic\":false}]', '{\"text\":\" \"}', '{\"translate\":\"aot.offhand\",\"color\":\"gray\",\"italic\":false}', '[{\"text\":\"+1 \",\"color\":\"blue\",\"italic\":false},{\"translate\":\"aot.thunder.rew.weight\",\"color\":\"blue\",\"italic\":false}]'],minecraft:attribute_modifiers=[{'type': 'generic.attack_speed', 'name': 'generic.attack_speed', 'amount': -0.3, 'operation': 'add_value', 'uuid': [503885493, 1735674700, -1249634279, 1768712874], 'slot': 'offhand'}]] 1\n",
      "give @s minecraft:warped_fungus_on_a_stick[custom_data={odm_gear:1, spear:1, load:1, snc_item:1},minecraft:custom_model_data=6,damage=33,minecraft:custom_name='[{\"translate\":\"aot.odm\",\"color\":\"dark_red\",\"italic\":false},{\"text\":\" (\",\"color\":\"dark_red\"},{\"translate\":\"aot.thunder\",\"color\":\"dark_red\"},{\"text\":\")\",\"color\":\"dark_red\"}]',minecraft:lore=['{\"translate\":\"aot.thunder.desc1\",\"color\":\"gray\",\"italic\":false}', '{\"translate\":\"aot.thunder.desc2\",\"color\":\"gray\",\"italic\":false}', '{\"translate\":\"aot.thunder.desc3\",\"color\":\"gray\",\"italic\":false}', '{\"text\":\" \"}', '{\"translate\":\"aot.odmstatus2\",\"color\":\"gray\",\"italic\":false}', '[{\"text\":\"\"},{\"translate\":\"aot.odmstatus.swing\",\"color\":\"blue\",\"italic\":false}]', '{\"text\":\" \"}', '{\"translate\":\"aot.offhand\",\"color\":\"gray\",\"italic\":false}', '[{\"text\":\"+1 \",\"color\":\"blue\",\"italic\":false},{\"translate\":\"aot.thunder.rew.weight\",\"color\":\"blue\",\"italic\":false}]'],minecraft:attribute_modifiers=[{'type': 'generic.attack_speed', 'name': 'generic.attack_speed', 'amount': -0.3, 'operation': 'add_value', 'uuid': [503885493, 1735674700, -1249634279, 1768712874], 'slot': 'offhand'}]] 1\n",
      "give @s minecraft:warped_fungus_on_a_stick[custom_data={odm_gear:1, spear:1, load:1, snc_item:1},minecraft:custom_model_data=8,damage=0,minecraft:custom_name='[{\"translate\":\"aot.odm\",\"color\":\"dark_red\",\"italic\":false},{\"text\":\" (\",\"color\":\"dark_red\"},{\"translate\":\"aot.thunder\",\"color\":\"dark_red\"},{\"text\":\")\",\"color\":\"dark_red\"}]',minecraft:lore=['{\"translate\":\"aot.thunder.desc1\",\"color\":\"gray\",\"italic\":false}', '{\"translate\":\"aot.thunder.desc2\",\"color\":\"gray\",\"italic\":false}', '{\"translate\":\"aot.thunder.desc3\",\"color\":\"gray\",\"italic\":false}', '{\"text\":\" \"}', '{\"translate\":\"aot.odmstatus2\",\"color\":\"gray\",\"italic\":false}', '[{\"text\":\"\"},{\"translate\":\"aot.odmstatus.swing\",\"color\":\"blue\",\"italic\":false}]', '{\"text\":\" \"}', '{\"translate\":\"aot.offhand\",\"color\":\"gray\",\"italic\":false}', '[{\"text\":\"+1 \",\"color\":\"blue\",\"italic\":false},{\"translate\":\"aot.thunder.rew.weight\",\"color\":\"blue\",\"italic\":false}]'],minecraft:attribute_modifiers=[{'type': 'generic.attack_speed', 'name': 'generic.attack_speed', 'amount': -0.3, 'operation': 'add_value', 'uuid': [503885493, 1735674700, -1249634279, 1768712874], 'slot': 'offhand'}]] 1\n",
      "give @s minecraft:minecart[custom_data={snc_item:1},minecraft:custom_model_data=4,minecraft:custom_name='{\"translate\":\"aot.thunder\",\"color\":\"dark_red\",\"italic\":false}',minecraft:lore=['{\"translate\":\"aot.thunder.spear.desc1\",\"color\":\"gray\",\"italic\":false}', '{\"translate\":\"aot.thunder.spear.desc2\",\"color\":\"gray\",\"italic\":false}', '{\"translate\":\"aot.thunder.spear.desc3\",\"color\":\"gray\",\"italic\":false}']] 1\n",
      "give @s minecraft:leather_boots[custom_data={survey_cops:1, snc_item:1},minecraft:custom_name='{\"translate\":\"aot.surveyboot\",\"color\":\"dark_green\",\"italic\":false} ',minecraft:lore=['{\"translate\":\"aot.surveyboot.desc\",\"color\":\"gray\",\"italic\":false}', '{\"translate\":\"aot.surveyboot.desc2\",\"color\":\"gray\",\"italic\":false}', '{\"translate\":\"aot.surveyboot.desc3\",\"color\":\"gray\",\"italic\":false}', '{\"text\":\" \",\"color\":\"gray\",\"italic\":false}', '{\"translate\":\"item.modifiers.feet\",\"color\":\"gray\",\"italic\":false}', '{\"translate\":\"aot.footstatus.slow\",\"color\":\"blue\",\"italic\":false}'],minecraft:dyed_color={'rgb': 16777215, 'show_in_tooltip': False},minecraft:unbreakable={'show_in_tooltip': False},minecraft:attribute_modifiers=[{'type': 'generic.armor', 'name': 'generic.armor', 'amount': 2, 'operation': 'add_value', 'uuid': [1632747128, 1271939618, -1570986068, -84105968], 'slot': 'feet'}]] 1\n",
      "give @s minecraft:leather_chestplate[custom_data={survey_cops:1, snc_item:1},minecraft:custom_name='{\"translate\":\"aot.surveycape\",\"color\":\"dark_green\",\"italic\":false}',minecraft:lore=['{\"translate\":\"aot.surveycape.desc\",\"color\":\"gray\",\"italic\":false}', '{\"translate\":\"aot.surveycape.desc2\",\"color\":\"gray\",\"italic\":false}', '{\"translate\":\"aot.surveycape.desc3\",\"color\":\"gray\",\"italic\":false}'],minecraft:dyed_color={'rgb': 16777215, 'show_in_tooltip': False},minecraft:unbreakable={'show_in_tooltip': False},minecraft:attribute_modifiers=[{'type': 'generic.armor', 'name': 'generic.armor', 'amount': 6, 'operation': 'add_value', 'uuid': [-926549424, 2051231445, -1734656845, 2021570005], 'slot': 'chest'}]] 1\n",
      "give @s minecraft:leather_leggings[custom_data={survey_cops:1, snc_item:1},minecraft:custom_name='{\"translate\":\"aot.surveyleggings\",\"color\":\"dark_green\",\"italic\":false}',minecraft:lore=['{\"translate\":\"aot.surveyleggings.desc\",\"color\":\"gray\",\"italic\":false}', '{\"translate\":\"aot.surveyleggings.desc2\",\"color\":\"gray\",\"italic\":false}', '{\"translate\":\"aot.surveyleggings.desc3\",\"color\":\"gray\",\"italic\":false}'],minecraft:dyed_color={'rgb': 16777215, 'show_in_tooltip': False},minecraft:unbreakable={'show_in_tooltip': False},minecraft:attribute_modifiers=[{'type': 'generic.armor', 'name': 'generic.armor', 'amount': 5, 'operation': 'add_value', 'uuid': [-2128896066, -2051257334, -1523320596, -802086640], 'slot': 'legs'}]] 1\n",
      "give @s minecraft:carved_pumpkin[custom_data={survey_cops:1, snc_item:1},minecraft:custom_name='{\"translate\":\"aot.surveyhood\",\"color\":\"dark_green\",\"italic\":false}',minecraft:lore=['{\"translate\":\"aot.surveyhood.desc\",\"color\":\"gray\",\"italic\":false}', '{\"translate\":\"aot.surveyhood.desc2\",\"color\":\"gray\",\"italic\":false}', '{\"translate\":\"aot.surveyhood.desc3\",\"color\":\"gray\",\"italic\":false}'],minecraft:custom_model_data=1,minecraft:dyed_color={'rgb': 16777215, 'show_in_tooltip': False},minecraft:unbreakable={'show_in_tooltip': False},minecraft:attribute_modifiers=[{'type': 'generic.armor', 'name': 'generic.armor', 'amount': 2, 'operation': 'add_value', 'uuid': [-1011016289, -609072635, -1385543351, 978358347], 'slot': 'head'}]] 1\n",
      "give @s flint[custom_data={coin:1, snc_item:1},custom_model_data=216,enchantment_glint_override=True,custom_name='{\"translate\":\"aot.villager.currency\",\"color\":\"gold\",\"italic\":false}'] 1\n",
      "give @s minecraft:carrot_on_a_stick[custom_data={gene:1, inv:1, snc_item:1},minecraft:custom_model_data=48,minecraft:custom_name='{\"translate\":\"aot.inv\",\"color\":\"red\",\"italic\":false}',minecraft:lore=['{\"translate\":\"aot.inv.desc1\",\"color\":\"gray\",\"italic\":false}', '{\"translate\":\"aot.inv.desc2\",\"color\":\"gray\",\"italic\":false}', '{\"text\":\" \",\"color\":\"gray\",\"italic\":false}', '{\"translate\":\"aot.used\",\"color\":\"gray\",\"italic\":false}', '[{\"translate\":\"aot.inv.desc3\",\"color\":\"blue\",\"italic\":false}]']] 1\n",
      "give @s minecraft:carrot_on_a_stick[custom_data={rename:1, snc_item:1},minecraft:custom_model_data=54,minecraft:custom_name='{\"translate\":\"aot.rename\",\"italic\":false,\"color\":\"white\"}',minecraft:lore=['{\"translate\":\"aot.rename.desc\",\"color\":\"yellow\",\"italic\":true}', '[\"\"]', '{\"translate\":\"aot.how\",\"color\":\"gray\",\"italic\":false}', '[{\"text\":\" ● \",\"color\":\"yellow\",\"italic\":false},{\"translate\":\"aot.rename.desc2\",\"color\":\"white\"}]', '[{\"text\":\"   \"},{\"translate\":\"aot.rename.desc3\",\"color\":\"blue\",\"italic\":false}]', '[{\"text\":\"   \"},{\"translate\":\"aot.rename.desc4\",\"color\":\"blue\",\"italic\":false}]', '[{\"text\":\" ● \",\"color\":\"yellow\",\"italic\":false},{\"translate\":\"aot.rename.desc5\",\"color\":\"white\"}]', '[{\"text\":\"   \"},{\"translate\":\"aot.rename.desc6\",\"color\":\"blue\",\"italic\":false}]', '[{\"text\":\"   \"},{\"translate\":\"aot.rename.desc7\",\"color\":\"blue\",\"italic\":false}]', '{\"text\":\" \"}']] 1\n",
      "give @s minecraft:carrot_on_a_stick[custom_data={shifters_finder:1, snc_item:1},minecraft:custom_model_data=16,minecraft:custom_name='{\"translate\":\"aot.finder\",\"color\":\"light_purple\",\"italic\":false}',minecraft:lore=['{\"translate\":\"aot.used\",\"color\":\"gray\",\"italic\":false}', '{\"translate\":\"aot.finder.desc\",\"color\":\"blue\",\"bold\":false,\"italic\":false}']] 1\n"
     ]
    }
   ],
   "source": [
    "for item in items:\n",
    "    print(json_to_mc_give_command(item))"
   ]
  },
  {
   "cell_type": "code",
   "execution_count": 127,
   "metadata": {},
   "outputs": [],
   "source": [
    "def json_to_slot(json_data, slot):\n",
    "    command = f\"Slot:{slot}b\"\n",
    "\n",
    "    for key, value in json_data.items():\n",
    "        if 'components' in key:\n",
    "            command += f\",components:\"\n",
    "            components_strings = []\n",
    "            for component_key, component_value in json_data['components'].items():\n",
    "                # Special handling for nested 'custom_data'\n",
    "                if component_key == 'custom_data':\n",
    "                    custom_data_strs = [f\"{k}:{v}\" for k, v in component_value.items()]\n",
    "                    components_strings.append(f\"\\\"{component_key}\\\":{{{', '.join(custom_data_strs)}}}\")\n",
    "                else:\n",
    "                    # Directly turning the component's value into a string\n",
    "                    # {'minecraft:custom_name': \"value\"} becomes \"minecraft:custom_name='value'\"\n",
    "                    # Note: For non-string types, we don't use quotes.\n",
    "                    component_value_str = f\"'{component_value}'\" if isinstance(component_value, str) else str(component_value)\n",
    "                    components_strings.append(f\"\\\"{component_key}\\\":{component_value_str}\")\n",
    "\n",
    "            # Combine components into the command\n",
    "            components_str = ','.join(components_strings)\n",
    "            command += f\"{{{components_str}}}\"\n",
    "        else:\n",
    "            # General handling for other keys\n",
    "            if isinstance(value, int):\n",
    "                # Append 'b' to integers to match the target format's requirement\n",
    "                command += f',{key}:{value}b'\n",
    "            else:\n",
    "                # Quotes around string values if not already present\n",
    "                command += f',{key}:\\\"{value}\\\"'\n",
    "\n",
    "    return command"
   ]
  },
  {
   "cell_type": "code",
   "execution_count": 128,
   "metadata": {},
   "outputs": [],
   "source": [
    "set_chest = \"setblock ~ ~ ~ chest{Items:[\"\n",
    "chest = 0\n",
    "for slot, item in enumerate(items):\n",
    "    set_chest += \"{\"+json_to_slot(item, slot if slot <= 26 else slot-27)+\"}\"\n",
    "    #if slot != len(items)-1:\n",
    "    #    set_chest += \",\"\n",
    "    if slot != 0 and slot % 26 == 0:\n",
    "        chest += 1\n",
    "        set_chest += \"]}\\nsetblock ~ ~\"+str(chest)+\" ~ chest{Items:[\"\n",
    "    else:\n",
    "        set_chest += \",\"\n",
    "set_chest += \"]}\""
   ]
  },
  {
   "cell_type": "code",
   "execution_count": 129,
   "metadata": {},
   "outputs": [],
   "source": [
    "# Save into a new file\n",
    "with open('../functions/api/all_items.mcfunction', 'w') as file:\n",
    "    # Write the string to the file\n",
    "    file.write(set_chest)"
   ]
  },
  {
   "cell_type": "markdown",
   "metadata": {},
   "source": []
  }
 ],
 "metadata": {
  "kernelspec": {
   "display_name": "base",
   "language": "python",
   "name": "python3"
  },
  "language_info": {
   "codemirror_mode": {
    "name": "ipython",
    "version": 3
   },
   "file_extension": ".py",
   "mimetype": "text/x-python",
   "name": "python",
   "nbconvert_exporter": "python",
   "pygments_lexer": "ipython3",
   "version": "3.9.13"
  }
 },
 "nbformat": 4,
 "nbformat_minor": 2
}
