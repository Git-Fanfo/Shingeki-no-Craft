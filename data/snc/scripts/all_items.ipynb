{
 "cells": [
  {
   "cell_type": "code",
   "execution_count": 159,
   "metadata": {},
   "outputs": [],
   "source": [
    "import os\n",
    "import json\n",
    "\n",
    "def search_files_for_term(directory, search_term, export_mcfunction):\n",
    "    \"\"\"\n",
    "    Searches for files in the given directory that contain the specified search_term.\n",
    "    \n",
    "    Parameters:\n",
    "    - directory (str): The directory to search in.\n",
    "    - search_term (str): The term to search for within the files.\n",
    "    \"\"\"\n",
    "    # Check if the provided directory exists\n",
    "    if not os.path.isdir(directory):\n",
    "        print(\"The specified directory does not exist. Please check the path.\")\n",
    "        return\n",
    "\n",
    "    # List to hold names of files containing the search term\n",
    "    files_with_term = []\n",
    "    files_with_term_path = []\n",
    "\n",
    "    # Walking through the directory\n",
    "    for root, dirs, files in os.walk(directory):\n",
    "        for file in files:\n",
    "            # Construct the full file path\n",
    "            file_path = os.path.join(root, file)\n",
    "            try:\n",
    "                # Open and read the file contents\n",
    "                with open(file_path, 'r') as f:\n",
    "                    contents_str = f.read()\n",
    "                    if search_term in contents_str:\n",
    "                        contents_dict = json.loads(contents_str)\n",
    "                        files_with_term.append(contents_dict['result'])\n",
    "                        files_with_term_path.append(export_mcfunction+file_path[len(directory):])\n",
    "            except Exception as e:\n",
    "                print(f\"An error occurred while reading {file}: {e}\")\n",
    "    return files_with_term, files_with_term_path"
   ]
  },
  {
   "cell_type": "code",
   "execution_count": 164,
   "metadata": {},
   "outputs": [],
   "source": [
    "# Call the function with the specified directory, search term and export_functions\n",
    "# Store into variable 'items'\n",
    "export_folder = '../functions/api/give'\n",
    "items, items_path = search_files_for_term(directory='../recipes',\n",
    "                                          search_term='snc_item',\n",
    "                                          export_mcfunction=export_folder)"
   ]
  },
  {
   "cell_type": "markdown",
   "metadata": {},
   "source": [
    "### Export into mcfunctions"
   ]
  },
  {
   "cell_type": "code",
   "execution_count": 165,
   "metadata": {},
   "outputs": [],
   "source": [
    "def json_to_mc_give_command(json_data):\n",
    "    # Start building the command with the ID and basic structure\n",
    "    command = f\"give @s {json_data['id']}\"\n",
    "\n",
    "    # Add components\n",
    "    if 'components' in json_data:\n",
    "        components_strings = []\n",
    "        for component_key, component_value in json_data['components'].items():\n",
    "            # Special handling for nested 'custom_data'\n",
    "            if component_key == 'custom_data':\n",
    "                custom_data_strs = [f\"{k}:{v}\" for k, v in component_value.items()]\n",
    "                components_strings.append(f\"{component_key}={{{', '.join(custom_data_strs)}}}\")\n",
    "            else:\n",
    "                # Directly turning the component's value into a string\n",
    "                # {'minecraft:custom_name': \"value\"} becomes \"minecraft:custom_name='value'\"\n",
    "                # Note: For non-string types, we don't use quotes.\n",
    "                component_value_str = f\"'{component_value}'\" if isinstance(component_value, str) else str(component_value)\n",
    "                components_strings.append(f\"{component_key}={component_value_str}\")\n",
    "\n",
    "        # Combine components into the command\n",
    "        components_str = ','.join(components_strings)\n",
    "        command += f\"[{components_str}]\"\n",
    "\n",
    "    # Add count at the end\n",
    "    if 'count' in json_data:\n",
    "        command += f\" {json_data['count']}\"\n",
    "\n",
    "    return command"
   ]
  },
  {
   "cell_type": "code",
   "execution_count": 176,
   "metadata": {},
   "outputs": [
    {
     "name": "stdout",
     "output_type": "stream",
     "text": [
      "Error: The system cannot find the path specified - ../functions/api/give\n"
     ]
    }
   ],
   "source": [
    "import shutil\n",
    "\n",
    "# Delete the previous folder\n",
    "try:\n",
    "    shutil.rmtree(export_folder)\n",
    "    print(\"Folder deleted successfully! 🗑️✨\")\n",
    "except OSError as e:\n",
    "    print(f\"Error: {e.strerror} - {e.filename}\")\n",
    "\n",
    "# Export all recipes into the 'export_folder'\n",
    "for i, item_path in enumerate(items_path):\n",
    "    # Split the path into the directory and the file name\n",
    "    directory = os.path.dirname(item_path)\n",
    "\n",
    "    # Check if the directory exists, if not, create it\n",
    "    if not os.path.exists(directory):\n",
    "        os.makedirs(directory)  # This creates the directory and any intermediate directories\n",
    "\n",
    "    # Now, safely open and write to your file\n",
    "    with open(item_path[:-5]+'.mcfunction', 'w') as file:\n",
    "        file.write(json_to_mc_give_command(items[i]))"
   ]
  },
  {
   "cell_type": "code",
   "execution_count": 134,
   "metadata": {},
   "outputs": [],
   "source": [
    "def json_to_slot(json_data, slot):\n",
    "    command = f\"Slot:{slot}b\"\n",
    "\n",
    "    for key, value in json_data.items():\n",
    "        if 'components' in key:\n",
    "            command += f\",components:\"\n",
    "            components_strings = []\n",
    "            for component_key, component_value in json_data['components'].items():\n",
    "                # Special handling for nested 'custom_data'\n",
    "                if component_key == 'custom_data':\n",
    "                    custom_data_strs = [f\"{k}:{v}\" for k, v in component_value.items()]\n",
    "                    components_strings.append(f\"\\\"{component_key}\\\":{{{', '.join(custom_data_strs)}}}\")\n",
    "                else:\n",
    "                    # Directly turning the component's value into a string\n",
    "                    # {'minecraft:custom_name': \"value\"} becomes \"minecraft:custom_name='value'\"\n",
    "                    # Note: For non-string types, we don't use quotes.\n",
    "                    component_value_str = f\"'{component_value}'\" if isinstance(component_value, str) else str(component_value)\n",
    "                    components_strings.append(f\"\\\"{component_key}\\\":{component_value_str}\")\n",
    "\n",
    "            # Combine components into the command\n",
    "            components_str = ','.join(components_strings)\n",
    "            command += f\"{{{components_str}}}\"\n",
    "        else:\n",
    "            # General handling for other keys\n",
    "            if isinstance(value, int):\n",
    "                # Append 'b' to integers to match the target format's requirement\n",
    "                command += f',{key}:{value}b'\n",
    "            else:\n",
    "                # Quotes around string values if not already present\n",
    "                command += f',{key}:\\\"{value}\\\"'\n",
    "\n",
    "    return command"
   ]
  },
  {
   "cell_type": "code",
   "execution_count": 135,
   "metadata": {},
   "outputs": [],
   "source": [
    "set_chest = \"setblock ~ ~ ~ chest{Items:[\"\n",
    "chest = 0\n",
    "for slot, item in enumerate(items):\n",
    "    set_chest += \"{\"+json_to_slot(item, slot if slot <= 26 else slot-27)+\"}\"\n",
    "    #if slot != len(items)-1:\n",
    "    #    set_chest += \",\"\n",
    "    if slot != 0 and slot % 26 == 0:\n",
    "        chest += 1\n",
    "        set_chest += \"]}\\nsetblock ~ ~\"+str(chest)+\" ~ chest{Items:[\"\n",
    "    else:\n",
    "        set_chest += \",\"\n",
    "set_chest += \"]}\""
   ]
  },
  {
   "cell_type": "code",
   "execution_count": 136,
   "metadata": {},
   "outputs": [],
   "source": [
    "# Save into a new file\n",
    "with open('../functions/api/all_items.mcfunction', 'w') as file:\n",
    "    # Write the string to the file\n",
    "    file.write(set_chest)"
   ]
  },
  {
   "cell_type": "markdown",
   "metadata": {},
   "source": []
  }
 ],
 "metadata": {
  "kernelspec": {
   "display_name": "base",
   "language": "python",
   "name": "python3"
  },
  "language_info": {
   "codemirror_mode": {
    "name": "ipython",
    "version": 3
   },
   "file_extension": ".py",
   "mimetype": "text/x-python",
   "name": "python",
   "nbconvert_exporter": "python",
   "pygments_lexer": "ipython3",
   "version": "3.9.13"
  }
 },
 "nbformat": 4,
 "nbformat_minor": 2
}
