{
 "cells": [
  {
   "cell_type": "code",
   "execution_count": 217,
   "metadata": {},
   "outputs": [],
   "source": [
    "import os\n",
    "import json\n",
    "\n",
    "def search_files_for_term(directory, search_term):\n",
    "    \"\"\"\n",
    "    Searches for files in the given directory that contain the specified search_term.\n",
    "    \n",
    "    Parameters:\n",
    "    - directory (str): The directory to search in.\n",
    "    - search_term (str): The term to search for within the files.\n",
    "    \"\"\"\n",
    "    # Check if the provided directory exists\n",
    "    if not os.path.isdir(directory):\n",
    "        print(\"The specified directory does not exist. Please check the path.\")\n",
    "        return\n",
    "\n",
    "    # List to hold names of files containing the search term\n",
    "    files_with_term = []\n",
    "\n",
    "    # Walking through the directory\n",
    "    for root, dirs, files in os.walk(directory):\n",
    "        for file in files:\n",
    "            # Construct the full file path\n",
    "            file_path = os.path.join(root, file)\n",
    "            try:\n",
    "                # Open and read the file contents\n",
    "                with open(file_path, 'r') as f:\n",
    "                    contents_str = f.read()\n",
    "                    if search_term in contents_str:\n",
    "                        contents_dict = json.loads(contents_str)\n",
    "                        files_with_term.append(contents_dict['result'])\n",
    "            except Exception as e:\n",
    "                print(f\"An error occurred while reading {file}: {e}\")\n",
    "    return files_with_term"
   ]
  },
  {
   "cell_type": "code",
   "execution_count": 218,
   "metadata": {},
   "outputs": [],
   "source": [
    "# Call the function with the specified directory and search term\n",
    "# Store into variable 'items'\n",
    "items = search_files_for_term(directory='../recipes', search_term='snc_item')"
   ]
  },
  {
   "cell_type": "markdown",
   "metadata": {},
   "source": [
    "### Recipes to /give (Optional)"
   ]
  },
  {
   "cell_type": "code",
   "execution_count": 155,
   "metadata": {},
   "outputs": [],
   "source": [
    "def json_to_mc_give_command(json_data):\n",
    "    # Start building the command with the ID and basic structure\n",
    "    command = f\"give @s {json_data['id']}\"\n",
    "\n",
    "    # Add components\n",
    "    if 'components' in json_data:\n",
    "        components_strings = []\n",
    "        for component_key, component_value in json_data['components'].items():\n",
    "            # Special handling for nested 'custom_data'\n",
    "            if component_key == 'custom_data':\n",
    "                custom_data_strs = [f\"{k}:{v}\" for k, v in component_value.items()]\n",
    "                components_strings.append(f\"{component_key}={{{', '.join(custom_data_strs)}}}\")\n",
    "            else:\n",
    "                # Directly turning the component's value into a string\n",
    "                # {'minecraft:custom_name': \"value\"} becomes \"minecraft:custom_name='value'\"\n",
    "                # Note: For non-string types, we don't use quotes.\n",
    "                component_value_str = f\"'{component_value}'\" if isinstance(component_value, str) else str(component_value)\n",
    "                components_strings.append(f\"{component_key}={component_value_str}\")\n",
    "\n",
    "        # Combine components into the command\n",
    "        components_str = ','.join(components_strings)\n",
    "        command += f\"[{components_str}]\"\n",
    "\n",
    "    # Add count at the end\n",
    "    if 'count' in json_data:\n",
    "        command += f\" {json_data['count']}\"\n",
    "\n",
    "    return command"
   ]
  },
  {
   "cell_type": "code",
   "execution_count": 159,
   "metadata": {},
   "outputs": [
    {
     "name": "stdout",
     "output_type": "stream",
     "text": [
      "give @s minecraft:warped_fungus_on_a_stick[custom_data={odm_gear:1, spear:1, load:1, snc_item:1},minecraft:custom_model_data=6,damage=66,minecraft:custom_name='[{\"translate\":\"aot.odm\",\"color\":\"dark_red\",\"italic\":false},{\"text\":\" (\",\"color\":\"dark_red\"},{\"translate\":\"aot.thunder\",\"color\":\"dark_red\"},{\"text\":\")\",\"color\":\"dark_red\"}]',minecraft:lore=['{\"text\":\" \"}', '{\"translate\":\"aot.thunder.desc1\",\"color\":\"gray\",\"italic\":false}', '{\"translate\":\"aot.thunder.desc2\",\"color\":\"gray\",\"italic\":false}', '{\"translate\":\"aot.thunder.desc3\",\"color\":\"gray\",\"italic\":false}', '{\"text\":\" \"}', '{\"translate\":\"aot.odmstatus2\",\"color\":\"gray\",\"italic\":false}', '[{\"text\":\"\"},{\"translate\":\"aot.odmstatus.swing\",\"color\":\"blue\",\"italic\":false}]', '{\"text\":\" \"}', '{\"translate\":\"aot.offhand\",\"color\":\"gray\",\"italic\":false}', '[{\"text\":\"+1 \",\"color\":\"blue\",\"italic\":false},{\"translate\":\"aot.thunder.rew.weight\",\"color\":\"blue\",\"italic\":false}]']] 1\n",
      "give @s minecraft:quartz[custom_data={snc_item:1},minecraft:custom_model_data=1,minecraft:custom_name='{\"translate\":\"aot.gun.jar\",\"color\":\"white\",\"italic\":false}'] 1\n"
     ]
    }
   ],
   "source": [
    "for item in items:\n",
    "    print(json_to_mc_give_command(item))"
   ]
  },
  {
   "cell_type": "code",
   "execution_count": 215,
   "metadata": {},
   "outputs": [],
   "source": [
    "def json_to_slot(json_data, slot):\n",
    "    command = f\"Slot:{slot}b\"\n",
    "\n",
    "    for key, value in json_data.items():\n",
    "        if 'components' in key:\n",
    "            command += f\",components:\"\n",
    "            components_strings = []\n",
    "            for component_key, component_value in json_data['components'].items():\n",
    "                # Special handling for nested 'custom_data'\n",
    "                if component_key == 'custom_data':\n",
    "                    custom_data_strs = [f\"{k}:{v}\" for k, v in component_value.items()]\n",
    "                    components_strings.append(f\"\\\"{component_key}\\\":{{{', '.join(custom_data_strs)}}}\")\n",
    "                else:\n",
    "                    # Directly turning the component's value into a string\n",
    "                    # {'minecraft:custom_name': \"value\"} becomes \"minecraft:custom_name='value'\"\n",
    "                    # Note: For non-string types, we don't use quotes.\n",
    "                    component_value_str = f\"'{component_value}'\" if isinstance(component_value, str) else str(component_value)\n",
    "                    components_strings.append(f\"\\\"{component_key}\\\":{component_value_str}\")\n",
    "\n",
    "            # Combine components into the command\n",
    "            components_str = ','.join(components_strings)\n",
    "            command += f\"{{{components_str}}}\"\n",
    "        else:\n",
    "            # General handling for other keys\n",
    "            if isinstance(value, int):\n",
    "                # Append 'b' to integers to match the target format's requirement\n",
    "                command += f',{key}:{value}b'\n",
    "            else:\n",
    "                # Quotes around string values if not already present\n",
    "                command += f',{key}:\\\"{value}\\\"'\n",
    "\n",
    "    return command"
   ]
  },
  {
   "cell_type": "code",
   "execution_count": 219,
   "metadata": {},
   "outputs": [],
   "source": [
    "set_chest = \"setblock ~ ~ ~ chest{Items:[\"\n",
    "for slot, item in enumerate(items):\n",
    "    set_chest += \"{\"+json_to_slot(item, slot)+\"}\"\n",
    "    if slot != len(items)-1:\n",
    "        set_chest += \",\"\n",
    "    #TODO: 26 is the last one\n",
    "set_chest += \"]}\"\n",
    "\n",
    "# print(set_chest)"
   ]
  },
  {
   "cell_type": "code",
   "execution_count": null,
   "metadata": {},
   "outputs": [],
   "source": [
    "# Save into a new file\n",
    "with open('../functions/api/all_items.mcfunction', 'w') as file:\n",
    "    # Write the string to the file\n",
    "    file.write(set_chest)"
   ]
  },
  {
   "cell_type": "markdown",
   "metadata": {},
   "source": []
  }
 ],
 "metadata": {
  "kernelspec": {
   "display_name": "base",
   "language": "python",
   "name": "python3"
  },
  "language_info": {
   "codemirror_mode": {
    "name": "ipython",
    "version": 3
   },
   "file_extension": ".py",
   "mimetype": "text/x-python",
   "name": "python",
   "nbconvert_exporter": "python",
   "pygments_lexer": "ipython3",
   "version": "3.9.13"
  }
 },
 "nbformat": 4,
 "nbformat_minor": 2
}
