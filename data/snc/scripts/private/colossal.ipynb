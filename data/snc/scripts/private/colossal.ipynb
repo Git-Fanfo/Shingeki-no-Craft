{
 "cells": [
  {
   "cell_type": "code",
   "execution_count": 9,
   "metadata": {},
   "outputs": [],
   "source": [
    "def generate_commands(start_score, end_score, base_path):\n",
    "    for i in range(start_score, end_score - 1, -1):\n",
    "        frame_number = start_score - i + 1\n",
    "        command = f'execute if score walk colossal_vars matches {i} run data modify entity @s item.components.minecraft:item_model set value \"{base_path}/{frame_number+30}\"'\n",
    "        print(command)\n",
    "\n",
    "# Example usage:\n",
    "#generate_commands(120, 1, \"shifters/colossal/walk\")"
   ]
  },
  {
   "cell_type": "code",
   "execution_count": 10,
   "metadata": {},
   "outputs": [
    {
     "name": "stdout",
     "output_type": "stream",
     "text": [
      "execute if score walk colossal_vars matches 45 run data modify entity @s item.components.minecraft:item_model set value \"shifters/colossal/kick/31\"\n",
      "execute if score walk colossal_vars matches 44 run data modify entity @s item.components.minecraft:item_model set value \"shifters/colossal/kick/32\"\n",
      "execute if score walk colossal_vars matches 43 run data modify entity @s item.components.minecraft:item_model set value \"shifters/colossal/kick/33\"\n",
      "execute if score walk colossal_vars matches 42 run data modify entity @s item.components.minecraft:item_model set value \"shifters/colossal/kick/34\"\n",
      "execute if score walk colossal_vars matches 41 run data modify entity @s item.components.minecraft:item_model set value \"shifters/colossal/kick/35\"\n",
      "execute if score walk colossal_vars matches 40 run data modify entity @s item.components.minecraft:item_model set value \"shifters/colossal/kick/36\"\n",
      "execute if score walk colossal_vars matches 39 run data modify entity @s item.components.minecraft:item_model set value \"shifters/colossal/kick/37\"\n",
      "execute if score walk colossal_vars matches 38 run data modify entity @s item.components.minecraft:item_model set value \"shifters/colossal/kick/38\"\n",
      "execute if score walk colossal_vars matches 37 run data modify entity @s item.components.minecraft:item_model set value \"shifters/colossal/kick/39\"\n",
      "execute if score walk colossal_vars matches 36 run data modify entity @s item.components.minecraft:item_model set value \"shifters/colossal/kick/40\"\n",
      "execute if score walk colossal_vars matches 35 run data modify entity @s item.components.minecraft:item_model set value \"shifters/colossal/kick/41\"\n",
      "execute if score walk colossal_vars matches 34 run data modify entity @s item.components.minecraft:item_model set value \"shifters/colossal/kick/42\"\n",
      "execute if score walk colossal_vars matches 33 run data modify entity @s item.components.minecraft:item_model set value \"shifters/colossal/kick/43\"\n",
      "execute if score walk colossal_vars matches 32 run data modify entity @s item.components.minecraft:item_model set value \"shifters/colossal/kick/44\"\n",
      "execute if score walk colossal_vars matches 31 run data modify entity @s item.components.minecraft:item_model set value \"shifters/colossal/kick/45\"\n",
      "execute if score walk colossal_vars matches 30 run data modify entity @s item.components.minecraft:item_model set value \"shifters/colossal/kick/46\"\n",
      "execute if score walk colossal_vars matches 29 run data modify entity @s item.components.minecraft:item_model set value \"shifters/colossal/kick/47\"\n",
      "execute if score walk colossal_vars matches 28 run data modify entity @s item.components.minecraft:item_model set value \"shifters/colossal/kick/48\"\n",
      "execute if score walk colossal_vars matches 27 run data modify entity @s item.components.minecraft:item_model set value \"shifters/colossal/kick/49\"\n",
      "execute if score walk colossal_vars matches 26 run data modify entity @s item.components.minecraft:item_model set value \"shifters/colossal/kick/50\"\n",
      "execute if score walk colossal_vars matches 25 run data modify entity @s item.components.minecraft:item_model set value \"shifters/colossal/kick/51\"\n",
      "execute if score walk colossal_vars matches 24 run data modify entity @s item.components.minecraft:item_model set value \"shifters/colossal/kick/52\"\n",
      "execute if score walk colossal_vars matches 23 run data modify entity @s item.components.minecraft:item_model set value \"shifters/colossal/kick/53\"\n",
      "execute if score walk colossal_vars matches 22 run data modify entity @s item.components.minecraft:item_model set value \"shifters/colossal/kick/54\"\n",
      "execute if score walk colossal_vars matches 21 run data modify entity @s item.components.minecraft:item_model set value \"shifters/colossal/kick/55\"\n",
      "execute if score walk colossal_vars matches 20 run data modify entity @s item.components.minecraft:item_model set value \"shifters/colossal/kick/56\"\n",
      "execute if score walk colossal_vars matches 19 run data modify entity @s item.components.minecraft:item_model set value \"shifters/colossal/kick/57\"\n",
      "execute if score walk colossal_vars matches 18 run data modify entity @s item.components.minecraft:item_model set value \"shifters/colossal/kick/58\"\n",
      "execute if score walk colossal_vars matches 17 run data modify entity @s item.components.minecraft:item_model set value \"shifters/colossal/kick/59\"\n",
      "execute if score walk colossal_vars matches 16 run data modify entity @s item.components.minecraft:item_model set value \"shifters/colossal/kick/60\"\n",
      "execute if score walk colossal_vars matches 15 run data modify entity @s item.components.minecraft:item_model set value \"shifters/colossal/kick/61\"\n",
      "execute if score walk colossal_vars matches 14 run data modify entity @s item.components.minecraft:item_model set value \"shifters/colossal/kick/62\"\n",
      "execute if score walk colossal_vars matches 13 run data modify entity @s item.components.minecraft:item_model set value \"shifters/colossal/kick/63\"\n",
      "execute if score walk colossal_vars matches 12 run data modify entity @s item.components.minecraft:item_model set value \"shifters/colossal/kick/64\"\n",
      "execute if score walk colossal_vars matches 11 run data modify entity @s item.components.minecraft:item_model set value \"shifters/colossal/kick/65\"\n",
      "execute if score walk colossal_vars matches 10 run data modify entity @s item.components.minecraft:item_model set value \"shifters/colossal/kick/66\"\n",
      "execute if score walk colossal_vars matches 9 run data modify entity @s item.components.minecraft:item_model set value \"shifters/colossal/kick/67\"\n",
      "execute if score walk colossal_vars matches 8 run data modify entity @s item.components.minecraft:item_model set value \"shifters/colossal/kick/68\"\n",
      "execute if score walk colossal_vars matches 7 run data modify entity @s item.components.minecraft:item_model set value \"shifters/colossal/kick/69\"\n",
      "execute if score walk colossal_vars matches 6 run data modify entity @s item.components.minecraft:item_model set value \"shifters/colossal/kick/70\"\n",
      "execute if score walk colossal_vars matches 5 run data modify entity @s item.components.minecraft:item_model set value \"shifters/colossal/kick/71\"\n",
      "execute if score walk colossal_vars matches 4 run data modify entity @s item.components.minecraft:item_model set value \"shifters/colossal/kick/72\"\n",
      "execute if score walk colossal_vars matches 3 run data modify entity @s item.components.minecraft:item_model set value \"shifters/colossal/kick/73\"\n",
      "execute if score walk colossal_vars matches 2 run data modify entity @s item.components.minecraft:item_model set value \"shifters/colossal/kick/74\"\n",
      "execute if score walk colossal_vars matches 1 run data modify entity @s item.components.minecraft:item_model set value \"shifters/colossal/kick/75\"\n"
     ]
    }
   ],
   "source": [
    "generate_commands(45, 1, \"shifters/colossal/kick\")"
   ]
  }
 ],
 "metadata": {
  "kernelspec": {
   "display_name": "minecraft",
   "language": "python",
   "name": "python3"
  },
  "language_info": {
   "codemirror_mode": {
    "name": "ipython",
    "version": 3
   },
   "file_extension": ".py",
   "mimetype": "text/x-python",
   "name": "python",
   "nbconvert_exporter": "python",
   "pygments_lexer": "ipython3",
   "version": "3.13.0"
  }
 },
 "nbformat": 4,
 "nbformat_minor": 2
}
